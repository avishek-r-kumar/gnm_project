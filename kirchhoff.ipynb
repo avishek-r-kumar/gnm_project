{
 "cells": [
  {
   "cell_type": "code",
   "execution_count": 1,
   "metadata": {
    "collapsed": false
   },
   "outputs": [
    {
     "name": "stdout",
     "output_type": "stream",
     "text": [
      "Populating the interactive namespace from numpy and matplotlib\n"
     ]
    }
   ],
   "source": [
    "%pylab inline\n",
    "import dfi"
   ]
  },
  {
   "cell_type": "code",
   "execution_count": 2,
   "metadata": {
    "collapsed": false
   },
   "outputs": [
    {
     "name": "stdout",
     "output_type": "stream",
     "text": [
      "Read 157 atoms from the 5pnt.pdb\n"
     ]
    }
   ],
   "source": [
    "dfi.fetch_pdb('5pnt')\n",
    "ATOMS = dfi.pdbio.pdb_reader('5pnt.pdb',CAonly=True)\n",
    "x,y,z = dfi.getcoords(ATOMS)\n",
    "numres = len(x)"
   ]
  },
  {
   "cell_type": "code",
   "execution_count": 3,
   "metadata": {
    "collapsed": false
   },
   "outputs": [],
   "source": [
    "\n",
    "def calc_hessian(x,y,z,Verbose=False):\n",
    "    \"\"\"\n",
    "    Calculate the hessian given the coordinates \n",
    "    \n",
    "    Input\n",
    "    -----\n",
    "    (x,y,z) numpy array\n",
    "       Must all be the same length\n",
    "    Output\n",
    "    ------\n",
    "    kirchhoff: NxN numpy matrix\n",
    "       \n",
    "    \"\"\"\n",
    "    cutoff = 10\n",
    "    gamma = 1\n",
    "    xyz = np.column_stack((x,y,z))\n",
    "    numres = xyz.shape[0]\n",
    "    kirchhoff = np.zeros((numres,numres))\n",
    "    for i in range(numres):\n",
    "        xyz_i = xyz[i]\n",
    "        i_p1 = i + 1\n",
    "        xyz_ij = xyz[i_p1:] - xyz_i\n",
    "        xyz_ij2=np.multiply(xyz_ij,xyz_ij)\n",
    "        cutoff2 = cutoff * cutoff\n",
    "        for j, dist2 in enumerate(xyz_ij2.sum(1)):\n",
    "            if dist2 > cutoff2:\n",
    "                continue\n",
    "            if Verbose:\n",
    "                print(j, dist2)\n",
    "            j += i_p1\n",
    "            kirchhoff[i,j] = -gamma \n",
    "            kirchhoff[j,i] = -gamma \n",
    "            kirchhoff[i,i] += gamma \n",
    "            kirchhoff[j,j] += gamma\n",
    "    return kirchhoff"
   ]
  },
  {
   "cell_type": "code",
   "execution_count": 4,
   "metadata": {
    "collapsed": false
   },
   "outputs": [],
   "source": [
    "kirchhoff = calc_hessian(x,y,z)"
   ]
  },
  {
   "cell_type": "markdown",
   "metadata": {},
   "source": [
    "# Invert this matrix"
   ]
  },
  {
   "cell_type": "code",
   "execution_count": 5,
   "metadata": {
    "collapsed": false
   },
   "outputs": [],
   "source": [
    "def invert_kirchhoff(kirchhoff):\n",
    "    from scipy import linalg as LA\n",
    "    U, w, Vt = LA.svd(kirchhoff,full_matrices=False)\n",
    "    S = LA.diagsvd(w,len(w),len(w))\n",
    "    np.allclose(kirchhoff,np.dot(U,np.dot(S,Vt)))\n",
    "    tol = 1e-6\n",
    "    singular = w < tol\n",
    "    assert np.sum(singular) == 1.\n",
    "    invw = 1/w\n",
    "    invw[singular] = 0\n",
    "    inv_kirchhoff = np.dot(np.dot(U,np.diag(invw)),Vt)\n",
    "    return inv_kirchhoff"
   ]
  },
  {
   "cell_type": "code",
   "execution_count": 6,
   "metadata": {
    "collapsed": true
   },
   "outputs": [],
   "source": [
    "inv_kirchhoff = invert_kirchhoff(kirchhoff)"
   ]
  },
  {
   "cell_type": "code",
   "execution_count": 7,
   "metadata": {
    "collapsed": false
   },
   "outputs": [],
   "source": [
    "diag = np.array([inv_kirchhoff[i,i] for i in range(numres)])"
   ]
  },
  {
   "cell_type": "code",
   "execution_count": 8,
   "metadata": {
    "collapsed": true
   },
   "outputs": [],
   "source": [
    "betafactors = np.array([atom.temp_factor for atom in ATOMS])"
   ]
  },
  {
   "cell_type": "code",
   "execution_count": 9,
   "metadata": {
    "collapsed": false
   },
   "outputs": [
    {
     "data": {
      "text/plain": [
       "0.62"
      ]
     },
     "execution_count": 9,
     "metadata": {},
     "output_type": "execute_result"
    }
   ],
   "source": [
    "np.corrcoef(diag,betafactors).round(2)[0,1]"
   ]
  },
  {
   "cell_type": "code",
   "execution_count": 10,
   "metadata": {
    "collapsed": true
   },
   "outputs": [],
   "source": [
    "def _build_kirchhoff(evod_file,n):\n",
    "    \"\"\"\n",
    "    Creates a kirchoff matrix using EVfold contacts\n",
    "    Input\n",
    "    -----\n",
    "    evfold input file: str\n",
    "       file from evfold\n",
    "    n: size of the square matrix\n",
    "    Output\n",
    "    ------\n",
    "    kirchoff: NxN numpy matrix\n",
    "       output matrix\n",
    "    \"\"\"\n",
    "\n",
    "    chain = []\n",
    "    chain_connection = np.zeros((n,n))\n",
    "    \n",
    "    #assign a -1 for residues in contact in the chain\n",
    "    for i in range(2, n-2):\n",
    "        chain_connection[i, i+1] = -1\n",
    "        chain_connection[i, i+2] = -1\n",
    "        #chain_connection[i, i+3] = -1\n",
    "        chain_connection[i+1, i] = -1\n",
    "        chain_connection[i+2, i] = -1\n",
    "        #chain_connection[i+3, i] = -1\n",
    "        chain_connection[i, i-1] = -1\n",
    "        chain_connection[i, i-2] = -1\n",
    "        #chain_connection[i, i-3] = -1\n",
    "        chain_connection[i-1, i] = -1\n",
    "        chain_connection[i-2, i] = -1\n",
    "        #chain_connection[i-3, i] = -1\n",
    "        \n",
    "        chain.append([i, i+1, chain_connection[i, i+1]])\n",
    "        chain.append([i, i+2, chain_connection[i, i+2]])\n",
    "        #chain.append([i, i+3, chain_connection[i, i+3]])\n",
    "        chain.append([i+1, i, chain_connection[i+1, i]])\n",
    "        chain.append([i+2, i, chain_connection[i+2, i]])\n",
    "        #chain.append([i+3, i, chain_connection[i+3, i]])\n",
    "        chain.append([i, i-1, chain_connection[i, i-1]])\n",
    "        chain.append([i, i-2, chain_connection[i, i-2]])\n",
    "        #chain.append([i, i-3, chain_connection[i, i-3]])\n",
    "        chain.append([i-1, i, chain_connection[i-1, i]])\n",
    "        chain.append([i-2, i, chain_connection[i-2, i]])\n",
    "        #chain.append([i-3, i, chain_connection[i-3, i]])\n",
    "        \n",
    "    #assign a -1 for EC pairs\n",
    "    evol = []\n",
    "    contact_pairs = open(evod_file, 'rU').readlines() \n",
    "    evol_const = np.zeros((n,n))\n",
    "    for line in contact_pairs:\n",
    "        a = line.split()\n",
    "        i = int(a[0]) - 1 \n",
    "        j = int(a[2]) - 1 \n",
    "        if (chain_connection[i, j] != -1):\n",
    "            evol_const[i, j] = -1.0*float(a[5])\n",
    "            evol_const[j, i] = -1.0*float(a[5])\n",
    "            evol.append([i, j, evol_const[i, j]])\n",
    "            evol.append([j, i, evol_const[j, i]])\n",
    "    \n",
    "    #build kirchoff matrix\n",
    "    kirchhoff = np.zeros((n,n))\n",
    "    kirchhoff = chain_connection + evol_const\n",
    "    print 'generated kirchhoff using evolutionary constraints'\n",
    "    print 'kirchhoff shape: ', kirchhoff.shape\n",
    "    \n",
    "    #calculate the diagonal\n",
    "    diag = []\n",
    "    for i in range(0, n):\n",
    "        kirchhoff[i, i] = -np.sum(kirchhoff[i])\n",
    "        diag.append([i, i, kirchhoff[i, i]])\n",
    "    \n",
    "    #put everything together for a file\n",
    "    all = chain + evol + diag\n",
    "    f = open('evfold_kirchhoff.txt', 'w')\n",
    "    for x in all:\n",
    "        f.write('%s \\t %s \\t %s \\n' % (x[0], x[1], x[2]))\n",
    "    f.close()\n",
    "    \n",
    "    return kirchhoff;"
   ]
  },
  {
   "cell_type": "code",
   "execution_count": 11,
   "metadata": {
    "collapsed": false
   },
   "outputs": [],
   "source": [
    "evoDfile='./data/5pnt_MI_DI.txt'"
   ]
  },
  {
   "cell_type": "code",
   "execution_count": 12,
   "metadata": {
    "collapsed": false
   },
   "outputs": [
    {
     "name": "stdout",
     "output_type": "stream",
     "text": [
      "generated kirchhoff using evolutionary constraints\n",
      "kirchhoff shape:  (158, 158)\n"
     ]
    }
   ],
   "source": [
    "evodkirchhoff=_build_kirchhoff(evoDfile,158)"
   ]
  },
  {
   "cell_type": "code",
   "execution_count": 13,
   "metadata": {
    "collapsed": false
   },
   "outputs": [],
   "source": [
    "numseq=evodkirchhoff.shape[0]"
   ]
  },
  {
   "cell_type": "code",
   "execution_count": 14,
   "metadata": {
    "collapsed": false
   },
   "outputs": [],
   "source": [
    "inv_evodkirchhoff=invert_kirchhoff(evodkirchhoff)"
   ]
  },
  {
   "cell_type": "code",
   "execution_count": 15,
   "metadata": {
    "collapsed": true
   },
   "outputs": [],
   "source": [
    "evo_diag = np.array([inv_evodkirchhoff[i,i] for i in range(numseq)])"
   ]
  },
  {
   "cell_type": "code",
   "execution_count": 16,
   "metadata": {
    "collapsed": false
   },
   "outputs": [
    {
     "data": {
      "text/plain": [
       "0.66000000000000003"
      ]
     },
     "execution_count": 16,
     "metadata": {},
     "output_type": "execute_result"
    }
   ],
   "source": [
    "np.corrcoef(diag,evo_diag[1:]).round(2)[0,1]"
   ]
  },
  {
   "cell_type": "code",
   "execution_count": 17,
   "metadata": {
    "collapsed": false
   },
   "outputs": [
    {
     "data": {
      "text/plain": [
       "0.72999999999999998"
      ]
     },
     "execution_count": 17,
     "metadata": {},
     "output_type": "execute_result"
    }
   ],
   "source": [
    "np.corrcoef(betafactors,evo_diag[1:]).round(2)[0,1]"
   ]
  },
  {
   "cell_type": "code",
   "execution_count": 18,
   "metadata": {
    "collapsed": false
   },
   "outputs": [
    {
     "data": {
      "text/plain": [
       "0.62"
      ]
     },
     "execution_count": 18,
     "metadata": {},
     "output_type": "execute_result"
    }
   ],
   "source": [
    "np.corrcoef(diag,betafactors).round(2)[0,1]"
   ]
  },
  {
   "cell_type": "markdown",
   "metadata": {},
   "source": [
    "# Need to align sequences properly"
   ]
  },
  {
   "cell_type": "markdown",
   "metadata": {
    "collapsed": true
   },
   "source": [
    "## Grab the 5pnt fasta sequence "
   ]
  },
  {
   "cell_type": "code",
   "execution_count": 19,
   "metadata": {
    "collapsed": true
   },
   "outputs": [],
   "source": [
    "import dfi.fastaseq "
   ]
  },
  {
   "cell_type": "code",
   "execution_count": 20,
   "metadata": {
    "collapsed": false
   },
   "outputs": [],
   "source": [
    "str_seq=''.join( dfi.fastaseq.get_fastaseq('P24666').split('\\n')[1:] )"
   ]
  },
  {
   "cell_type": "code",
   "execution_count": 21,
   "metadata": {
    "collapsed": false
   },
   "outputs": [],
   "source": [
    "seq=[s for s in str_seq]"
   ]
  },
  {
   "cell_type": "code",
   "execution_count": 22,
   "metadata": {
    "collapsed": true
   },
   "outputs": [],
   "source": [
    "import pandas as pd"
   ]
  },
  {
   "cell_type": "code",
   "execution_count": 23,
   "metadata": {
    "collapsed": false
   },
   "outputs": [],
   "source": [
    "dfx = pd.DataFrame()"
   ]
  },
  {
   "cell_type": "code",
   "execution_count": 24,
   "metadata": {
    "collapsed": true
   },
   "outputs": [],
   "source": [
    "dfx['fasta_R'] =seq"
   ]
  },
  {
   "cell_type": "code",
   "execution_count": 25,
   "metadata": {
    "collapsed": false
   },
   "outputs": [
    {
     "data": {
      "text/plain": [
       "(158, 158)"
      ]
     },
     "execution_count": 25,
     "metadata": {},
     "output_type": "execute_result"
    }
   ],
   "source": [
    "evodkirchhoff.shape"
   ]
  },
  {
   "cell_type": "code",
   "execution_count": 26,
   "metadata": {
    "collapsed": false
   },
   "outputs": [],
   "source": [
    "dfx['b-evfold'] = evo_diag"
   ]
  },
  {
   "cell_type": "code",
   "execution_count": 27,
   "metadata": {
    "collapsed": false
   },
   "outputs": [
    {
     "data": {
      "text/html": [
       "<div>\n",
       "<table border=\"1\" class=\"dataframe\">\n",
       "  <thead>\n",
       "    <tr style=\"text-align: right;\">\n",
       "      <th></th>\n",
       "      <th>fasta_R</th>\n",
       "      <th>b-evfold</th>\n",
       "    </tr>\n",
       "  </thead>\n",
       "  <tbody>\n",
       "    <tr>\n",
       "      <th>0</th>\n",
       "      <td>M</td>\n",
       "      <td>2.367071</td>\n",
       "    </tr>\n",
       "    <tr>\n",
       "      <th>1</th>\n",
       "      <td>A</td>\n",
       "      <td>1.653347</td>\n",
       "    </tr>\n",
       "    <tr>\n",
       "      <th>2</th>\n",
       "      <td>E</td>\n",
       "      <td>1.379729</td>\n",
       "    </tr>\n",
       "    <tr>\n",
       "      <th>3</th>\n",
       "      <td>Q</td>\n",
       "      <td>1.175689</td>\n",
       "    </tr>\n",
       "    <tr>\n",
       "      <th>4</th>\n",
       "      <td>A</td>\n",
       "      <td>0.987923</td>\n",
       "    </tr>\n",
       "  </tbody>\n",
       "</table>\n",
       "</div>"
      ],
      "text/plain": [
       "  fasta_R  b-evfold\n",
       "0       M  2.367071\n",
       "1       A  1.653347\n",
       "2       E  1.379729\n",
       "3       Q  1.175689\n",
       "4       A  0.987923"
      ]
     },
     "execution_count": 27,
     "metadata": {},
     "output_type": "execute_result"
    }
   ],
   "source": [
    "dfx.head()"
   ]
  },
  {
   "cell_type": "code",
   "execution_count": 28,
   "metadata": {
    "collapsed": false
   },
   "outputs": [
    {
     "data": {
      "text/plain": [
       "(157,)"
      ]
     },
     "execution_count": 28,
     "metadata": {},
     "output_type": "execute_result"
    }
   ],
   "source": [
    "diag.shape"
   ]
  },
  {
   "cell_type": "markdown",
   "metadata": {},
   "source": [
    "# Ned to align to the fasta sequence "
   ]
  },
  {
   "cell_type": "code",
   "execution_count": 29,
   "metadata": {
    "collapsed": true
   },
   "outputs": [],
   "source": [
    "import dfi.fasta_convert"
   ]
  },
  {
   "cell_type": "code",
   "execution_count": 30,
   "metadata": {
    "collapsed": false
   },
   "outputs": [
    {
     "name": "stdout",
     "output_type": "stream",
     "text": [
      "Read 157 atoms from the 5pnt.pdb\n"
     ]
    }
   ],
   "source": [
    "pdbseq=dfi.fasta_convert.get_seq('5pnt.pdb')"
   ]
  },
  {
   "cell_type": "code",
   "execution_count": 31,
   "metadata": {
    "collapsed": false
   },
   "outputs": [
    {
     "data": {
      "text/plain": [
       "['A', 'E', 'Q', 'A', 'T', 'K', 'S', 'V', 'L', 'F']"
      ]
     },
     "execution_count": 31,
     "metadata": {},
     "output_type": "execute_result"
    }
   ],
   "source": [
    "pdbseq[:10]"
   ]
  },
  {
   "cell_type": "code",
   "execution_count": 32,
   "metadata": {
    "collapsed": false
   },
   "outputs": [
    {
     "data": {
      "text/plain": [
       "['M', 'A', 'E', 'Q', 'A', 'T', 'K', 'S', 'V', 'L']"
      ]
     },
     "execution_count": 32,
     "metadata": {},
     "output_type": "execute_result"
    }
   ],
   "source": [
    "seq[:10]"
   ]
  },
  {
   "cell_type": "code",
   "execution_count": 45,
   "metadata": {
    "collapsed": false
   },
   "outputs": [
    {
     "name": "stdout",
     "output_type": "stream",
     "text": [
      "0 nan\n",
      "1 A\n",
      "2 E\n",
      "3 Q\n",
      "4 A\n",
      "5 T\n",
      "6 K\n",
      "7 S\n",
      "8 V\n",
      "9 L\n",
      "10 F\n",
      "11 V\n",
      "12 C\n",
      "13 L\n",
      "14 G\n",
      "15 N\n",
      "16 I\n",
      "17 C\n",
      "18 R\n",
      "19 S\n",
      "20 P\n",
      "21 I\n",
      "22 A\n",
      "23 E\n",
      "24 A\n",
      "25 V\n",
      "26 F\n",
      "27 R\n",
      "28 K\n",
      "29 L\n",
      "30 V\n",
      "31 T\n",
      "32 D\n",
      "33 Q\n",
      "34 N\n",
      "35 I\n",
      "36 S\n",
      "37 E\n",
      "38 N\n",
      "39 W\n",
      "40 R\n",
      "41 V\n",
      "42 D\n",
      "43 S\n",
      "44 A\n",
      "45 A\n",
      "46 T\n",
      "47 S\n",
      "48 G\n",
      "49 Y\n",
      "50 E\n",
      "51 I\n",
      "52 G\n",
      "53 N\n",
      "54 P\n",
      "55 P\n",
      "56 D\n",
      "57 Y\n",
      "58 R\n",
      "59 G\n",
      "60 Q\n",
      "61 S\n",
      "62 C\n",
      "63 M\n",
      "64 K\n",
      "65 R\n",
      "66 H\n",
      "67 G\n",
      "68 I\n",
      "69 P\n",
      "70 M\n",
      "71 S\n",
      "72 H\n",
      "73 V\n",
      "74 A\n",
      "75 R\n",
      "76 Q\n",
      "77 I\n",
      "78 T\n",
      "79 K\n",
      "80 E\n",
      "81 D\n",
      "82 F\n",
      "83 A\n",
      "84 T\n",
      "85 F\n",
      "86 D\n",
      "87 Y\n",
      "88 I\n",
      "89 L\n",
      "90 C\n",
      "91 M\n",
      "92 D\n",
      "93 E\n",
      "94 S\n",
      "95 N\n",
      "96 L\n",
      "97 R\n",
      "98 D\n",
      "99 L\n",
      "100 N\n",
      "101 R\n",
      "102 K\n",
      "103 S\n",
      "104 N\n",
      "105 Q\n",
      "106 V\n",
      "107 K\n",
      "108 T\n",
      "109 C\n",
      "110 K\n",
      "111 A\n",
      "112 K\n",
      "113 I\n",
      "114 E\n",
      "115 L\n",
      "116 L\n",
      "117 G\n",
      "118 S\n",
      "119 Y\n",
      "120 D\n",
      "121 P\n",
      "122 Q\n",
      "123 K\n",
      "124 Q\n",
      "125 L\n",
      "126 I\n",
      "127 I\n",
      "128 E\n",
      "129 D\n",
      "130 P\n",
      "131 Y\n",
      "132 Y\n",
      "133 G\n",
      "134 N\n",
      "135 D\n",
      "136 S\n",
      "137 D\n",
      "138 F\n",
      "139 E\n",
      "140 T\n",
      "141 V\n",
      "142 Y\n",
      "143 Q\n",
      "144 Q\n",
      "145 C\n",
      "146 V\n",
      "147 R\n",
      "148 C\n",
      "149 C\n",
      "150 R\n",
      "151 A\n",
      "152 F\n",
      "153 L\n",
      "154 E\n",
      "155 K\n",
      "156 A\n",
      "157 H\n"
     ]
    }
   ],
   "source": [
    "from __future__ import print_function\n",
    "align_seq=[]\n",
    "i=0\n",
    "for pdb_aa in pdbseq:\n",
    "    for fasta_aa in seq[i:]:\n",
    "        if pdb_aa == fasta_aa:\n",
    "            print(i, fasta_aa)\n",
    "            align_seq.append(fasta_aa)\n",
    "            i+=1\n",
    "            break\n",
    "        print(i,np.nan)\n",
    "        align_seq.append(np.nan)\n",
    "        i+=1\n",
    "    "
   ]
  },
  {
   "cell_type": "code",
   "execution_count": 49,
   "metadata": {
    "collapsed": false
   },
   "outputs": [],
   "source": [
    "dfx['pdb_R'] = align_seq"
   ]
  },
  {
   "cell_type": "code",
   "execution_count": 97,
   "metadata": {
    "collapsed": false
   },
   "outputs": [],
   "source": [
    "import math\n",
    "i=0\n",
    "align_bfac=[]\n",
    "for pos in align_seq:\n",
    "    if i >= len(betafactors):\n",
    "        break\n",
    "    #print(pos)\n",
    "    if type(pos) == float:\n",
    "        #print(i,np.nan,pos)\n",
    "        align_bfac.append(np.nan)\n",
    "    else:\n",
    "        #print(i,betafactors[i],pos)\n",
    "        #print(i)\n",
    "        #print(pos)\n",
    "        align_bfac.append(betafactors[i])\n",
    "        i+=1\n"
   ]
  },
  {
   "cell_type": "code",
   "execution_count": 98,
   "metadata": {
    "collapsed": true
   },
   "outputs": [],
   "source": [
    "dfx['pdb_Bfactor'] = align_bfac"
   ]
  },
  {
   "cell_type": "code",
   "execution_count": 100,
   "metadata": {
    "collapsed": false
   },
   "outputs": [],
   "source": [
    "dfx.to_csv('test.csv')"
   ]
  },
  {
   "cell_type": "code",
   "execution_count": null,
   "metadata": {
    "collapsed": true
   },
   "outputs": [],
   "source": []
  }
 ],
 "metadata": {
  "kernelspec": {
   "display_name": "Python 2",
   "language": "python",
   "name": "python2"
  },
  "language_info": {
   "codemirror_mode": {
    "name": "ipython",
    "version": 2
   },
   "file_extension": ".py",
   "mimetype": "text/x-python",
   "name": "python",
   "nbconvert_exporter": "python",
   "pygments_lexer": "ipython2",
   "version": "2.7.11+"
  }
 },
 "nbformat": 4,
 "nbformat_minor": 0
}
