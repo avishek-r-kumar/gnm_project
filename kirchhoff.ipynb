{
 "cells": [
  {
   "cell_type": "code",
   "execution_count": 1,
   "metadata": {
    "collapsed": false
   },
   "outputs": [
    {
     "name": "stdout",
     "output_type": "stream",
     "text": [
      "Populating the interactive namespace from numpy and matplotlib\n"
     ]
    }
   ],
   "source": [
    "%pylab inline\n",
    "import dfi\n",
    "import dfi.fasta_convert\n",
    "import pandas as pd\n",
    "import dfi.fastaseq \n",
    "from dfi.fastaseq import mapres\n",
    "from __future__ import print_function"
   ]
  },
  {
   "cell_type": "code",
   "execution_count": 2,
   "metadata": {
    "collapsed": false
   },
   "outputs": [],
   "source": [
    "def calc_hessian(x,y,z,Verbose=False):\n",
    "    \"\"\"\n",
    "    Calculate the hessian given the coordinates \n",
    "    \n",
    "    Input\n",
    "    -----\n",
    "    (x,y,z) numpy array\n",
    "       Must all be the same length\n",
    "    Output\n",
    "    ------\n",
    "    kirchhoff: NxN numpy matrix\n",
    "       \n",
    "    \"\"\"\n",
    "    cutoff = 10\n",
    "    gamma = 1\n",
    "    xyz = np.column_stack((x,y,z))\n",
    "    numres = xyz.shape[0]\n",
    "    kirchhoff = np.zeros((numres,numres))\n",
    "    for i in range(numres):\n",
    "        xyz_i = xyz[i]\n",
    "        i_p1 = i + 1\n",
    "        xyz_ij = xyz[i_p1:] - xyz_i\n",
    "        xyz_ij2=np.multiply(xyz_ij,xyz_ij)\n",
    "        cutoff2 = cutoff * cutoff\n",
    "        for j, dist2 in enumerate(xyz_ij2.sum(1)):\n",
    "            if dist2 > cutoff2:\n",
    "                continue\n",
    "            if Verbose:\n",
    "                print(j, dist2)\n",
    "            j += i_p1\n",
    "            kirchhoff[i,j] = -gamma \n",
    "            kirchhoff[j,i] = -gamma \n",
    "            kirchhoff[i,i] += gamma \n",
    "            kirchhoff[j,j] += gamma\n",
    "    return kirchhoff"
   ]
  },
  {
   "cell_type": "code",
   "execution_count": 3,
   "metadata": {
    "collapsed": false
   },
   "outputs": [],
   "source": [
    "# Invert this matrix\n",
    "def invert_kirchhoff(kirchhoff):\n",
    "    from scipy import linalg as LA\n",
    "    U, w, Vt = LA.svd(kirchhoff,full_matrices=False)\n",
    "    S = LA.diagsvd(w,len(w),len(w))\n",
    "    np.allclose(kirchhoff,np.dot(U,np.dot(S,Vt)))\n",
    "    tol = 1e-6\n",
    "    singular = w < tol\n",
    "    assert np.sum(singular) == 1.\n",
    "    invw = 1/w\n",
    "    invw[singular] = 0\n",
    "    inv_kirchhoff = np.dot(np.dot(U,np.diag(invw)),Vt)\n",
    "    return inv_kirchhoff"
   ]
  },
  {
   "cell_type": "code",
   "execution_count": 4,
   "metadata": {
    "collapsed": false
   },
   "outputs": [],
   "source": [
    "def _build_kirchhoff(evod_file,n):\n",
    "    \"\"\"\n",
    "    Creates a kirchoff matrix using EVfold contacts\n",
    "    Input\n",
    "    -----\n",
    "    evfold input file: str\n",
    "       file from evfold\n",
    "    n: size of the square matrix\n",
    "    Output\n",
    "    ------\n",
    "    kirchoff: NxN numpy matrix\n",
    "       output matrix\n",
    "    \"\"\"\n",
    "\n",
    "    chain = []\n",
    "    chain_connection = np.zeros((n,n))\n",
    "    \n",
    "    #assign a -1 for residues in contact in the chain\n",
    "    for i in range(2, n-2):\n",
    "        chain_connection[i, i+1] = -1\n",
    "        chain_connection[i, i+2] = -1\n",
    "        #chain_connection[i, i+3] = -1\n",
    "        chain_connection[i+1, i] = -1\n",
    "        chain_connection[i+2, i] = -1\n",
    "        #chain_connection[i+3, i] = -1\n",
    "        chain_connection[i, i-1] = -1\n",
    "        chain_connection[i, i-2] = -1\n",
    "        #chain_connection[i, i-3] = -1\n",
    "        chain_connection[i-1, i] = -1\n",
    "        chain_connection[i-2, i] = -1\n",
    "        #chain_connection[i-3, i] = -1\n",
    "        \n",
    "        chain.append([i, i+1, chain_connection[i, i+1]])\n",
    "        chain.append([i, i+2, chain_connection[i, i+2]])\n",
    "        #chain.append([i, i+3, chain_connection[i, i+3]])\n",
    "        chain.append([i+1, i, chain_connection[i+1, i]])\n",
    "        chain.append([i+2, i, chain_connection[i+2, i]])\n",
    "        #chain.append([i+3, i, chain_connection[i+3, i]])\n",
    "        chain.append([i, i-1, chain_connection[i, i-1]])\n",
    "        chain.append([i, i-2, chain_connection[i, i-2]])\n",
    "        #chain.append([i, i-3, chain_connection[i, i-3]])\n",
    "        chain.append([i-1, i, chain_connection[i-1, i]])\n",
    "        chain.append([i-2, i, chain_connection[i-2, i]])\n",
    "        #chain.append([i-3, i, chain_connection[i-3, i]])\n",
    "        \n",
    "    #assign a -1 for EC pairs\n",
    "    evol = []\n",
    "    contact_pairs = open(evod_file, 'rU').readlines() \n",
    "    evol_const = np.zeros((n,n))\n",
    "    for line in contact_pairs:\n",
    "        a = line.split()\n",
    "        i = int(a[0]) - 1 \n",
    "        j = int(a[2]) - 1 \n",
    "        if (chain_connection[i, j] != -1):\n",
    "            evol_const[i, j] = -1.0*float(a[5])\n",
    "            evol_const[j, i] = -1.0*float(a[5])\n",
    "            evol.append([i, j, evol_const[i, j]])\n",
    "            evol.append([j, i, evol_const[j, i]])\n",
    "    \n",
    "    #build kirchoff matrix\n",
    "    kirchhoff = np.zeros((n,n))\n",
    "    kirchhoff = chain_connection + evol_const\n",
    "    print('generated kirchhoff using evolutionary constraints')\n",
    "    print('kirchhoff shape: ', kirchhoff.shape)\n",
    "    \n",
    "    #calculate the diagonal\n",
    "    diag = []\n",
    "    for i in range(0, n):\n",
    "        kirchhoff[i, i] = -np.sum(kirchhoff[i])\n",
    "        diag.append([i, i, kirchhoff[i, i]])\n",
    "    \n",
    "    #put everything together for a file\n",
    "    all = chain + evol + diag\n",
    "    f = open('evfold_kirchhoff.txt', 'w')\n",
    "    for x in all:\n",
    "        f.write('%s \\t %s \\t %s \\n' % (x[0], x[1], x[2]))\n",
    "    f.close()\n",
    "    \n",
    "    return kirchhoff;"
   ]
  },
  {
   "cell_type": "code",
   "execution_count": 5,
   "metadata": {
    "collapsed": true
   },
   "outputs": [],
   "source": [
    "#dfi.fetch_pdb('5pnt')\n",
    "mdlpdbfile='1CB0.pdbmdl'\n",
    "exptpdbfile='1cb0.pdb'\n",
    "evoDfile='1CB0_MI_DI.txt'\n",
    "uniprotID='Q13126'"
   ]
  },
  {
   "cell_type": "code",
   "execution_count": 6,
   "metadata": {
    "collapsed": false
   },
   "outputs": [
    {
     "name": "stdout",
     "output_type": "stream",
     "text": [
      "Read 273 atoms from the 1CB0.pdbmdl\n"
     ]
    }
   ],
   "source": [
    "#PDB MODEL\n",
    "ATOMS = dfi.pdbio.pdb_reader(mdlpdbfile,CAonly=True)\n",
    "x,y,z = dfi.getcoords(ATOMS)\n",
    "numres = len(x)\n",
    "mdlseq=[mapres[atom.res_name] for atom in ATOMS]\n",
    "kirchhoff = calc_hessian(x,y,z)\n",
    "inv_kirchhoff = invert_kirchhoff(kirchhoff)\n",
    "mdl_diag = np.array([inv_kirchhoff[i,i] for i in range(numres)])"
   ]
  },
  {
   "cell_type": "code",
   "execution_count": 7,
   "metadata": {
    "collapsed": false
   },
   "outputs": [
    {
     "name": "stdout",
     "output_type": "stream",
     "text": [
      "Read 268 atoms from the 1cb0.pdb\n"
     ]
    }
   ],
   "source": [
    "#Experimental PDB \n",
    "expt_ATOM = dfi.pdbio.pdb_reader(exptpdbfile,CAonly=True)\n",
    "expt_betafactors = np.array([atom.temp_factor for atom in expt_ATOM])\n",
    "exptseq=[mapres[atom.res_name] for atom in expt_ATOM]"
   ]
  },
  {
   "cell_type": "code",
   "execution_count": 8,
   "metadata": {
    "collapsed": false
   },
   "outputs": [
    {
     "name": "stdout",
     "output_type": "stream",
     "text": [
      "generated kirchhoff using evolutionary constraints\n",
      "kirchhoff shape:  (283, 283)\n"
     ]
    }
   ],
   "source": [
    "#EVFOLD Contacts \n",
    "str_seq=''.join( dfi.fastaseq.get_fastaseq(uniprotID).split('\\n')[1:] )\n",
    "fastaseq=[s for s in str_seq]\n",
    "numseq = len(fastaseq)\n",
    "evodkirchhoff=_build_kirchhoff(evoDfile,numseq)\n",
    "inv_evodkirchhoff=invert_kirchhoff(evodkirchhoff)\n",
    "evo_diag = np.array([inv_evodkirchhoff[i,i] for i in range(numseq)])"
   ]
  },
  {
   "cell_type": "markdown",
   "metadata": {},
   "source": [
    "# Need to align sequences properly"
   ]
  },
  {
   "cell_type": "markdown",
   "metadata": {
    "collapsed": true
   },
   "source": [
    "## Grab the 5pnt fasta sequence "
   ]
  },
  {
   "cell_type": "code",
   "execution_count": 9,
   "metadata": {
    "collapsed": false
   },
   "outputs": [
    {
     "name": "stdout",
     "output_type": "stream",
     "text": [
      "283\n",
      "273\n",
      "268\n"
     ]
    }
   ],
   "source": [
    "print(len(fastaseq))\n",
    "print(len(mdlseq))\n",
    "print(len(exptseq))"
   ]
  },
  {
   "cell_type": "code",
   "execution_count": 10,
   "metadata": {
    "collapsed": false
   },
   "outputs": [],
   "source": [
    "dfx = pd.DataFrame()"
   ]
  },
  {
   "cell_type": "code",
   "execution_count": 11,
   "metadata": {
    "collapsed": true
   },
   "outputs": [],
   "source": [
    "dfx['fasta_R'] =fastaseq"
   ]
  },
  {
   "cell_type": "code",
   "execution_count": 12,
   "metadata": {
    "collapsed": false
   },
   "outputs": [],
   "source": [
    "dfx['evfold_B'] = evo_diag"
   ]
  },
  {
   "cell_type": "markdown",
   "metadata": {},
   "source": [
    "# Ned to align to the fasta sequence "
   ]
  },
  {
   "cell_type": "code",
   "execution_count": 13,
   "metadata": {
    "collapsed": false
   },
   "outputs": [
    {
     "data": {
      "text/plain": [
       "['A', 'V', 'K', 'I', 'G', 'I', 'I', 'G', 'G', 'T']"
      ]
     },
     "execution_count": 13,
     "metadata": {},
     "output_type": "execute_result"
    }
   ],
   "source": [
    "exptseq[:10]"
   ]
  },
  {
   "cell_type": "code",
   "execution_count": 14,
   "metadata": {
    "collapsed": false
   },
   "outputs": [
    {
     "data": {
      "text/plain": [
       "['M', 'A', 'S', 'G', 'T', 'T', 'T', 'T', 'A', 'V']"
      ]
     },
     "execution_count": 14,
     "metadata": {},
     "output_type": "execute_result"
    }
   ],
   "source": [
    "fastaseq[:10]"
   ]
  },
  {
   "cell_type": "code",
   "execution_count": 15,
   "metadata": {
    "collapsed": false
   },
   "outputs": [],
   "source": [
    "align_seq=[]\n",
    "i=0\n",
    "for pdb_aa in mdlseq:\n",
    "    for fasta_aa in fastaseq[i:]:\n",
    "        if pdb_aa == fasta_aa:\n",
    "            #print(i, fasta_aa)\n",
    "            align_seq.append(fasta_aa)\n",
    "            i+=1\n",
    "            break\n",
    "        #print(i,np.nan)\n",
    "        align_seq.append(np.nan)\n",
    "        i+=1\n",
    "while( len(align_seq) < len(fastaseq) ):\n",
    "    align_seq.append(np.nan)"
   ]
  },
  {
   "cell_type": "code",
   "execution_count": 16,
   "metadata": {
    "collapsed": false
   },
   "outputs": [
    {
     "data": {
      "text/plain": [
       "283"
      ]
     },
     "execution_count": 16,
     "metadata": {},
     "output_type": "execute_result"
    }
   ],
   "source": [
    "len(align_seq)"
   ]
  },
  {
   "cell_type": "code",
   "execution_count": 17,
   "metadata": {
    "collapsed": false
   },
   "outputs": [],
   "source": [
    "dfx['expt_R'] = align_seq"
   ]
  },
  {
   "cell_type": "code",
   "execution_count": 18,
   "metadata": {
    "collapsed": false
   },
   "outputs": [],
   "source": [
    "import math\n",
    "i=0\n",
    "align_bfac=[]\n",
    "for pos in align_seq:\n",
    "    if i >= len(expt_betafactors):\n",
    "        break\n",
    "    #print(pos)\n",
    "    if type(pos) == float:\n",
    "        #print(i,np.nan,pos)\n",
    "        align_bfac.append(np.nan)\n",
    "    else:\n",
    "        #print(i,betafactors[i],pos)\n",
    "        #print(i)\n",
    "        #print(pos)\n",
    "        align_bfac.append(expt_betafactors[i])\n",
    "        i+=1\n",
    "while( len(align_bfac) < len(fastaseq) ):\n",
    "    align_bfac.append(np.nan)"
   ]
  },
  {
   "cell_type": "code",
   "execution_count": 19,
   "metadata": {
    "collapsed": false
   },
   "outputs": [
    {
     "data": {
      "text/plain": [
       "283"
      ]
     },
     "execution_count": 19,
     "metadata": {},
     "output_type": "execute_result"
    }
   ],
   "source": [
    "len(fastaseq)"
   ]
  },
  {
   "cell_type": "code",
   "execution_count": 20,
   "metadata": {
    "collapsed": false
   },
   "outputs": [
    {
     "data": {
      "text/plain": [
       "283"
      ]
     },
     "execution_count": 20,
     "metadata": {},
     "output_type": "execute_result"
    }
   ],
   "source": [
    "len(align_bfac)"
   ]
  },
  {
   "cell_type": "code",
   "execution_count": 21,
   "metadata": {
    "collapsed": false
   },
   "outputs": [],
   "source": [
    "dfx['expt_B'] = align_bfac"
   ]
  },
  {
   "cell_type": "code",
   "execution_count": 22,
   "metadata": {
    "collapsed": false
   },
   "outputs": [
    {
     "data": {
      "text/plain": [
       "283"
      ]
     },
     "execution_count": 22,
     "metadata": {},
     "output_type": "execute_result"
    }
   ],
   "source": [
    "len(align_bfac)"
   ]
  },
  {
   "cell_type": "code",
   "execution_count": 23,
   "metadata": {
    "collapsed": true
   },
   "outputs": [],
   "source": [
    "align_seq=[]\n",
    "i=0\n",
    "for pdb_aa in mdlseq:\n",
    "    for fasta_aa in fastaseq[i:]:\n",
    "        if pdb_aa == fasta_aa:\n",
    "            #print(i, fasta_aa)\n",
    "            align_seq.append(fasta_aa)\n",
    "            i+=1\n",
    "            break\n",
    "        #print(i,np.nan)\n",
    "        align_seq.append(np.nan)\n",
    "        i+=1\n",
    "while( len(align_seq) < len(fastaseq) ):\n",
    "    align_seq.append(np.nan)"
   ]
  },
  {
   "cell_type": "code",
   "execution_count": 24,
   "metadata": {
    "collapsed": true
   },
   "outputs": [],
   "source": [
    "dfx['mdl_R'] = align_seq"
   ]
  },
  {
   "cell_type": "code",
   "execution_count": 25,
   "metadata": {
    "collapsed": true
   },
   "outputs": [],
   "source": [
    "import math\n",
    "i=0\n",
    "align_bfac=[]\n",
    "for pos in align_seq:\n",
    "    if i >= len(mdl_diag):\n",
    "        break\n",
    "    #print(pos)\n",
    "    if type(pos) == float:\n",
    "        #print(i,np.nan,pos)\n",
    "        align_bfac.append(np.nan)\n",
    "    else:\n",
    "        #print(i,betafactors[i],pos)\n",
    "        #print(i)\n",
    "        #print(pos)\n",
    "        align_bfac.append(mdl_diag[i])\n",
    "        i+=1\n",
    "while( len(align_bfac) < len(fastaseq) ):\n",
    "    align_bfac.append(np.nan)"
   ]
  },
  {
   "cell_type": "code",
   "execution_count": 26,
   "metadata": {
    "collapsed": true
   },
   "outputs": [],
   "source": [
    "dfx['mdl_B'] = align_bfac"
   ]
  },
  {
   "cell_type": "code",
   "execution_count": 27,
   "metadata": {
    "collapsed": false
   },
   "outputs": [
    {
     "data": {
      "text/html": [
       "<div>\n",
       "<table border=\"1\" class=\"dataframe\">\n",
       "  <thead>\n",
       "    <tr style=\"text-align: right;\">\n",
       "      <th></th>\n",
       "      <th>fasta_R</th>\n",
       "      <th>evfold_B</th>\n",
       "      <th>expt_R</th>\n",
       "      <th>expt_B</th>\n",
       "      <th>mdl_R</th>\n",
       "      <th>mdl_B</th>\n",
       "    </tr>\n",
       "  </thead>\n",
       "  <tbody>\n",
       "    <tr>\n",
       "      <th>0</th>\n",
       "      <td>M</td>\n",
       "      <td>2.950474</td>\n",
       "      <td>NaN</td>\n",
       "      <td>NaN</td>\n",
       "      <td>NaN</td>\n",
       "      <td>NaN</td>\n",
       "    </tr>\n",
       "    <tr>\n",
       "      <th>1</th>\n",
       "      <td>A</td>\n",
       "      <td>2.232908</td>\n",
       "      <td>A</td>\n",
       "      <td>25.16</td>\n",
       "      <td>A</td>\n",
       "      <td>0.099684</td>\n",
       "    </tr>\n",
       "    <tr>\n",
       "      <th>2</th>\n",
       "      <td>S</td>\n",
       "      <td>1.957541</td>\n",
       "      <td>NaN</td>\n",
       "      <td>NaN</td>\n",
       "      <td>NaN</td>\n",
       "      <td>NaN</td>\n",
       "    </tr>\n",
       "    <tr>\n",
       "      <th>3</th>\n",
       "      <td>G</td>\n",
       "      <td>1.751409</td>\n",
       "      <td>NaN</td>\n",
       "      <td>NaN</td>\n",
       "      <td>NaN</td>\n",
       "      <td>NaN</td>\n",
       "    </tr>\n",
       "    <tr>\n",
       "      <th>4</th>\n",
       "      <td>T</td>\n",
       "      <td>1.554916</td>\n",
       "      <td>NaN</td>\n",
       "      <td>NaN</td>\n",
       "      <td>NaN</td>\n",
       "      <td>NaN</td>\n",
       "    </tr>\n",
       "    <tr>\n",
       "      <th>5</th>\n",
       "      <td>T</td>\n",
       "      <td>1.362534</td>\n",
       "      <td>NaN</td>\n",
       "      <td>NaN</td>\n",
       "      <td>NaN</td>\n",
       "      <td>NaN</td>\n",
       "    </tr>\n",
       "    <tr>\n",
       "      <th>6</th>\n",
       "      <td>T</td>\n",
       "      <td>1.169132</td>\n",
       "      <td>NaN</td>\n",
       "      <td>NaN</td>\n",
       "      <td>NaN</td>\n",
       "      <td>NaN</td>\n",
       "    </tr>\n",
       "    <tr>\n",
       "      <th>7</th>\n",
       "      <td>T</td>\n",
       "      <td>0.983747</td>\n",
       "      <td>NaN</td>\n",
       "      <td>NaN</td>\n",
       "      <td>NaN</td>\n",
       "      <td>NaN</td>\n",
       "    </tr>\n",
       "    <tr>\n",
       "      <th>8</th>\n",
       "      <td>A</td>\n",
       "      <td>0.782516</td>\n",
       "      <td>NaN</td>\n",
       "      <td>NaN</td>\n",
       "      <td>NaN</td>\n",
       "      <td>NaN</td>\n",
       "    </tr>\n",
       "    <tr>\n",
       "      <th>9</th>\n",
       "      <td>V</td>\n",
       "      <td>0.626694</td>\n",
       "      <td>V</td>\n",
       "      <td>19.73</td>\n",
       "      <td>V</td>\n",
       "      <td>0.064156</td>\n",
       "    </tr>\n",
       "    <tr>\n",
       "      <th>10</th>\n",
       "      <td>K</td>\n",
       "      <td>0.349193</td>\n",
       "      <td>K</td>\n",
       "      <td>14.54</td>\n",
       "      <td>K</td>\n",
       "      <td>0.055873</td>\n",
       "    </tr>\n",
       "    <tr>\n",
       "      <th>11</th>\n",
       "      <td>I</td>\n",
       "      <td>0.341010</td>\n",
       "      <td>I</td>\n",
       "      <td>13.29</td>\n",
       "      <td>I</td>\n",
       "      <td>0.044917</td>\n",
       "    </tr>\n",
       "    <tr>\n",
       "      <th>12</th>\n",
       "      <td>G</td>\n",
       "      <td>0.304066</td>\n",
       "      <td>G</td>\n",
       "      <td>11.93</td>\n",
       "      <td>G</td>\n",
       "      <td>0.039924</td>\n",
       "    </tr>\n",
       "    <tr>\n",
       "      <th>13</th>\n",
       "      <td>I</td>\n",
       "      <td>0.290351</td>\n",
       "      <td>I</td>\n",
       "      <td>10.82</td>\n",
       "      <td>I</td>\n",
       "      <td>0.042778</td>\n",
       "    </tr>\n",
       "    <tr>\n",
       "      <th>14</th>\n",
       "      <td>I</td>\n",
       "      <td>0.292020</td>\n",
       "      <td>I</td>\n",
       "      <td>11.85</td>\n",
       "      <td>I</td>\n",
       "      <td>0.045762</td>\n",
       "    </tr>\n",
       "    <tr>\n",
       "      <th>15</th>\n",
       "      <td>G</td>\n",
       "      <td>0.234326</td>\n",
       "      <td>G</td>\n",
       "      <td>13.43</td>\n",
       "      <td>G</td>\n",
       "      <td>0.046725</td>\n",
       "    </tr>\n",
       "    <tr>\n",
       "      <th>16</th>\n",
       "      <td>G</td>\n",
       "      <td>0.255532</td>\n",
       "      <td>G</td>\n",
       "      <td>17.64</td>\n",
       "      <td>G</td>\n",
       "      <td>0.050848</td>\n",
       "    </tr>\n",
       "    <tr>\n",
       "      <th>17</th>\n",
       "      <td>T</td>\n",
       "      <td>0.247290</td>\n",
       "      <td>T</td>\n",
       "      <td>29.12</td>\n",
       "      <td>T</td>\n",
       "      <td>0.059699</td>\n",
       "    </tr>\n",
       "    <tr>\n",
       "      <th>18</th>\n",
       "      <td>G</td>\n",
       "      <td>0.259875</td>\n",
       "      <td>G</td>\n",
       "      <td>30.85</td>\n",
       "      <td>G</td>\n",
       "      <td>0.054828</td>\n",
       "    </tr>\n",
       "    <tr>\n",
       "      <th>19</th>\n",
       "      <td>L</td>\n",
       "      <td>0.251492</td>\n",
       "      <td>L</td>\n",
       "      <td>31.33</td>\n",
       "      <td>L</td>\n",
       "      <td>0.049375</td>\n",
       "    </tr>\n",
       "    <tr>\n",
       "      <th>20</th>\n",
       "      <td>D</td>\n",
       "      <td>0.243299</td>\n",
       "      <td>D</td>\n",
       "      <td>38.81</td>\n",
       "      <td>D</td>\n",
       "      <td>0.047540</td>\n",
       "    </tr>\n",
       "    <tr>\n",
       "      <th>21</th>\n",
       "      <td>D</td>\n",
       "      <td>0.378578</td>\n",
       "      <td>D</td>\n",
       "      <td>40.20</td>\n",
       "      <td>D</td>\n",
       "      <td>0.070449</td>\n",
       "    </tr>\n",
       "    <tr>\n",
       "      <th>22</th>\n",
       "      <td>P</td>\n",
       "      <td>0.274677</td>\n",
       "      <td>P</td>\n",
       "      <td>35.81</td>\n",
       "      <td>P</td>\n",
       "      <td>0.068328</td>\n",
       "    </tr>\n",
       "    <tr>\n",
       "      <th>23</th>\n",
       "      <td>E</td>\n",
       "      <td>0.291010</td>\n",
       "      <td>E</td>\n",
       "      <td>33.95</td>\n",
       "      <td>E</td>\n",
       "      <td>0.115406</td>\n",
       "    </tr>\n",
       "    <tr>\n",
       "      <th>24</th>\n",
       "      <td>I</td>\n",
       "      <td>0.267571</td>\n",
       "      <td>I</td>\n",
       "      <td>21.75</td>\n",
       "      <td>I</td>\n",
       "      <td>0.077611</td>\n",
       "    </tr>\n",
       "    <tr>\n",
       "      <th>25</th>\n",
       "      <td>L</td>\n",
       "      <td>0.294251</td>\n",
       "      <td>L</td>\n",
       "      <td>19.56</td>\n",
       "      <td>L</td>\n",
       "      <td>0.065227</td>\n",
       "    </tr>\n",
       "    <tr>\n",
       "      <th>26</th>\n",
       "      <td>E</td>\n",
       "      <td>0.285058</td>\n",
       "      <td>E</td>\n",
       "      <td>23.69</td>\n",
       "      <td>E</td>\n",
       "      <td>0.082184</td>\n",
       "    </tr>\n",
       "    <tr>\n",
       "      <th>27</th>\n",
       "      <td>G</td>\n",
       "      <td>0.286920</td>\n",
       "      <td>G</td>\n",
       "      <td>19.96</td>\n",
       "      <td>G</td>\n",
       "      <td>0.118547</td>\n",
       "    </tr>\n",
       "    <tr>\n",
       "      <th>28</th>\n",
       "      <td>R</td>\n",
       "      <td>0.285875</td>\n",
       "      <td>R</td>\n",
       "      <td>21.78</td>\n",
       "      <td>R</td>\n",
       "      <td>0.072950</td>\n",
       "    </tr>\n",
       "    <tr>\n",
       "      <th>29</th>\n",
       "      <td>T</td>\n",
       "      <td>0.282070</td>\n",
       "      <td>T</td>\n",
       "      <td>22.28</td>\n",
       "      <td>T</td>\n",
       "      <td>0.099690</td>\n",
       "    </tr>\n",
       "    <tr>\n",
       "      <th>...</th>\n",
       "      <td>...</td>\n",
       "      <td>...</td>\n",
       "      <td>...</td>\n",
       "      <td>...</td>\n",
       "      <td>...</td>\n",
       "      <td>...</td>\n",
       "    </tr>\n",
       "    <tr>\n",
       "      <th>253</th>\n",
       "      <td>T</td>\n",
       "      <td>0.578853</td>\n",
       "      <td>T</td>\n",
       "      <td>21.20</td>\n",
       "      <td>T</td>\n",
       "      <td>0.062362</td>\n",
       "    </tr>\n",
       "    <tr>\n",
       "      <th>254</th>\n",
       "      <td>I</td>\n",
       "      <td>0.718741</td>\n",
       "      <td>I</td>\n",
       "      <td>24.91</td>\n",
       "      <td>I</td>\n",
       "      <td>0.047039</td>\n",
       "    </tr>\n",
       "    <tr>\n",
       "      <th>255</th>\n",
       "      <td>P</td>\n",
       "      <td>0.886912</td>\n",
       "      <td>P</td>\n",
       "      <td>27.17</td>\n",
       "      <td>P</td>\n",
       "      <td>0.076050</td>\n",
       "    </tr>\n",
       "    <tr>\n",
       "      <th>256</th>\n",
       "      <td>Q</td>\n",
       "      <td>1.045855</td>\n",
       "      <td>Q</td>\n",
       "      <td>26.48</td>\n",
       "      <td>Q</td>\n",
       "      <td>0.084150</td>\n",
       "    </tr>\n",
       "    <tr>\n",
       "      <th>257</th>\n",
       "      <td>I</td>\n",
       "      <td>1.210221</td>\n",
       "      <td>I</td>\n",
       "      <td>21.38</td>\n",
       "      <td>I</td>\n",
       "      <td>0.063163</td>\n",
       "    </tr>\n",
       "    <tr>\n",
       "      <th>258</th>\n",
       "      <td>G</td>\n",
       "      <td>1.374461</td>\n",
       "      <td>G</td>\n",
       "      <td>23.62</td>\n",
       "      <td>G</td>\n",
       "      <td>0.072993</td>\n",
       "    </tr>\n",
       "    <tr>\n",
       "      <th>259</th>\n",
       "      <td>S</td>\n",
       "      <td>1.540701</td>\n",
       "      <td>S</td>\n",
       "      <td>26.01</td>\n",
       "      <td>S</td>\n",
       "      <td>0.101497</td>\n",
       "    </tr>\n",
       "    <tr>\n",
       "      <th>260</th>\n",
       "      <td>T</td>\n",
       "      <td>1.708130</td>\n",
       "      <td>T</td>\n",
       "      <td>21.53</td>\n",
       "      <td>T</td>\n",
       "      <td>0.120474</td>\n",
       "    </tr>\n",
       "    <tr>\n",
       "      <th>261</th>\n",
       "      <td>E</td>\n",
       "      <td>1.877058</td>\n",
       "      <td>E</td>\n",
       "      <td>18.97</td>\n",
       "      <td>E</td>\n",
       "      <td>0.111255</td>\n",
       "    </tr>\n",
       "    <tr>\n",
       "      <th>262</th>\n",
       "      <td>W</td>\n",
       "      <td>2.047367</td>\n",
       "      <td>W</td>\n",
       "      <td>21.64</td>\n",
       "      <td>W</td>\n",
       "      <td>0.077243</td>\n",
       "    </tr>\n",
       "    <tr>\n",
       "      <th>263</th>\n",
       "      <td>S</td>\n",
       "      <td>2.219102</td>\n",
       "      <td>S</td>\n",
       "      <td>20.13</td>\n",
       "      <td>S</td>\n",
       "      <td>0.103509</td>\n",
       "    </tr>\n",
       "    <tr>\n",
       "      <th>264</th>\n",
       "      <td>E</td>\n",
       "      <td>2.392246</td>\n",
       "      <td>E</td>\n",
       "      <td>18.05</td>\n",
       "      <td>E</td>\n",
       "      <td>0.136501</td>\n",
       "    </tr>\n",
       "    <tr>\n",
       "      <th>265</th>\n",
       "      <td>T</td>\n",
       "      <td>2.566805</td>\n",
       "      <td>T</td>\n",
       "      <td>19.24</td>\n",
       "      <td>T</td>\n",
       "      <td>0.081546</td>\n",
       "    </tr>\n",
       "    <tr>\n",
       "      <th>266</th>\n",
       "      <td>L</td>\n",
       "      <td>2.742776</td>\n",
       "      <td>L</td>\n",
       "      <td>19.54</td>\n",
       "      <td>L</td>\n",
       "      <td>0.078684</td>\n",
       "    </tr>\n",
       "    <tr>\n",
       "      <th>267</th>\n",
       "      <td>H</td>\n",
       "      <td>2.920161</td>\n",
       "      <td>H</td>\n",
       "      <td>17.60</td>\n",
       "      <td>H</td>\n",
       "      <td>0.114088</td>\n",
       "    </tr>\n",
       "    <tr>\n",
       "      <th>268</th>\n",
       "      <td>N</td>\n",
       "      <td>3.098960</td>\n",
       "      <td>N</td>\n",
       "      <td>15.32</td>\n",
       "      <td>N</td>\n",
       "      <td>0.105912</td>\n",
       "    </tr>\n",
       "    <tr>\n",
       "      <th>269</th>\n",
       "      <td>L</td>\n",
       "      <td>3.279172</td>\n",
       "      <td>L</td>\n",
       "      <td>21.88</td>\n",
       "      <td>L</td>\n",
       "      <td>0.070372</td>\n",
       "    </tr>\n",
       "    <tr>\n",
       "      <th>270</th>\n",
       "      <td>K</td>\n",
       "      <td>3.460797</td>\n",
       "      <td>K</td>\n",
       "      <td>21.31</td>\n",
       "      <td>K</td>\n",
       "      <td>0.079684</td>\n",
       "    </tr>\n",
       "    <tr>\n",
       "      <th>271</th>\n",
       "      <td>N</td>\n",
       "      <td>3.643836</td>\n",
       "      <td>N</td>\n",
       "      <td>17.44</td>\n",
       "      <td>N</td>\n",
       "      <td>0.113721</td>\n",
       "    </tr>\n",
       "    <tr>\n",
       "      <th>272</th>\n",
       "      <td>M</td>\n",
       "      <td>3.828288</td>\n",
       "      <td>M</td>\n",
       "      <td>20.21</td>\n",
       "      <td>M</td>\n",
       "      <td>0.080612</td>\n",
       "    </tr>\n",
       "    <tr>\n",
       "      <th>273</th>\n",
       "      <td>A</td>\n",
       "      <td>4.014155</td>\n",
       "      <td>A</td>\n",
       "      <td>27.13</td>\n",
       "      <td>A</td>\n",
       "      <td>0.067859</td>\n",
       "    </tr>\n",
       "    <tr>\n",
       "      <th>274</th>\n",
       "      <td>Q</td>\n",
       "      <td>4.201432</td>\n",
       "      <td>Q</td>\n",
       "      <td>34.77</td>\n",
       "      <td>Q</td>\n",
       "      <td>0.085902</td>\n",
       "    </tr>\n",
       "    <tr>\n",
       "      <th>275</th>\n",
       "      <td>F</td>\n",
       "      <td>4.390131</td>\n",
       "      <td>F</td>\n",
       "      <td>39.60</td>\n",
       "      <td>F</td>\n",
       "      <td>0.115454</td>\n",
       "    </tr>\n",
       "    <tr>\n",
       "      <th>276</th>\n",
       "      <td>S</td>\n",
       "      <td>4.580228</td>\n",
       "      <td>S</td>\n",
       "      <td>NaN</td>\n",
       "      <td>S</td>\n",
       "      <td>0.090245</td>\n",
       "    </tr>\n",
       "    <tr>\n",
       "      <th>277</th>\n",
       "      <td>V</td>\n",
       "      <td>4.771819</td>\n",
       "      <td>V</td>\n",
       "      <td>NaN</td>\n",
       "      <td>V</td>\n",
       "      <td>0.084143</td>\n",
       "    </tr>\n",
       "    <tr>\n",
       "      <th>278</th>\n",
       "      <td>L</td>\n",
       "      <td>4.964892</td>\n",
       "      <td>L</td>\n",
       "      <td>NaN</td>\n",
       "      <td>L</td>\n",
       "      <td>0.124454</td>\n",
       "    </tr>\n",
       "    <tr>\n",
       "      <th>279</th>\n",
       "      <td>L</td>\n",
       "      <td>5.161119</td>\n",
       "      <td>L</td>\n",
       "      <td>NaN</td>\n",
       "      <td>L</td>\n",
       "      <td>0.164577</td>\n",
       "    </tr>\n",
       "    <tr>\n",
       "      <th>280</th>\n",
       "      <td>P</td>\n",
       "      <td>5.367357</td>\n",
       "      <td>P</td>\n",
       "      <td>NaN</td>\n",
       "      <td>P</td>\n",
       "      <td>0.211745</td>\n",
       "    </tr>\n",
       "    <tr>\n",
       "      <th>281</th>\n",
       "      <td>R</td>\n",
       "      <td>5.642670</td>\n",
       "      <td>NaN</td>\n",
       "      <td>NaN</td>\n",
       "      <td>NaN</td>\n",
       "      <td>NaN</td>\n",
       "    </tr>\n",
       "    <tr>\n",
       "      <th>282</th>\n",
       "      <td>H</td>\n",
       "      <td>6.360290</td>\n",
       "      <td>NaN</td>\n",
       "      <td>NaN</td>\n",
       "      <td>NaN</td>\n",
       "      <td>NaN</td>\n",
       "    </tr>\n",
       "  </tbody>\n",
       "</table>\n",
       "<p>283 rows × 6 columns</p>\n",
       "</div>"
      ],
      "text/plain": [
       "    fasta_R  evfold_B expt_R  expt_B mdl_R     mdl_B\n",
       "0         M  2.950474    NaN     NaN   NaN       NaN\n",
       "1         A  2.232908      A   25.16     A  0.099684\n",
       "2         S  1.957541    NaN     NaN   NaN       NaN\n",
       "3         G  1.751409    NaN     NaN   NaN       NaN\n",
       "4         T  1.554916    NaN     NaN   NaN       NaN\n",
       "5         T  1.362534    NaN     NaN   NaN       NaN\n",
       "6         T  1.169132    NaN     NaN   NaN       NaN\n",
       "7         T  0.983747    NaN     NaN   NaN       NaN\n",
       "8         A  0.782516    NaN     NaN   NaN       NaN\n",
       "9         V  0.626694      V   19.73     V  0.064156\n",
       "10        K  0.349193      K   14.54     K  0.055873\n",
       "11        I  0.341010      I   13.29     I  0.044917\n",
       "12        G  0.304066      G   11.93     G  0.039924\n",
       "13        I  0.290351      I   10.82     I  0.042778\n",
       "14        I  0.292020      I   11.85     I  0.045762\n",
       "15        G  0.234326      G   13.43     G  0.046725\n",
       "16        G  0.255532      G   17.64     G  0.050848\n",
       "17        T  0.247290      T   29.12     T  0.059699\n",
       "18        G  0.259875      G   30.85     G  0.054828\n",
       "19        L  0.251492      L   31.33     L  0.049375\n",
       "20        D  0.243299      D   38.81     D  0.047540\n",
       "21        D  0.378578      D   40.20     D  0.070449\n",
       "22        P  0.274677      P   35.81     P  0.068328\n",
       "23        E  0.291010      E   33.95     E  0.115406\n",
       "24        I  0.267571      I   21.75     I  0.077611\n",
       "25        L  0.294251      L   19.56     L  0.065227\n",
       "26        E  0.285058      E   23.69     E  0.082184\n",
       "27        G  0.286920      G   19.96     G  0.118547\n",
       "28        R  0.285875      R   21.78     R  0.072950\n",
       "29        T  0.282070      T   22.28     T  0.099690\n",
       "..      ...       ...    ...     ...   ...       ...\n",
       "253       T  0.578853      T   21.20     T  0.062362\n",
       "254       I  0.718741      I   24.91     I  0.047039\n",
       "255       P  0.886912      P   27.17     P  0.076050\n",
       "256       Q  1.045855      Q   26.48     Q  0.084150\n",
       "257       I  1.210221      I   21.38     I  0.063163\n",
       "258       G  1.374461      G   23.62     G  0.072993\n",
       "259       S  1.540701      S   26.01     S  0.101497\n",
       "260       T  1.708130      T   21.53     T  0.120474\n",
       "261       E  1.877058      E   18.97     E  0.111255\n",
       "262       W  2.047367      W   21.64     W  0.077243\n",
       "263       S  2.219102      S   20.13     S  0.103509\n",
       "264       E  2.392246      E   18.05     E  0.136501\n",
       "265       T  2.566805      T   19.24     T  0.081546\n",
       "266       L  2.742776      L   19.54     L  0.078684\n",
       "267       H  2.920161      H   17.60     H  0.114088\n",
       "268       N  3.098960      N   15.32     N  0.105912\n",
       "269       L  3.279172      L   21.88     L  0.070372\n",
       "270       K  3.460797      K   21.31     K  0.079684\n",
       "271       N  3.643836      N   17.44     N  0.113721\n",
       "272       M  3.828288      M   20.21     M  0.080612\n",
       "273       A  4.014155      A   27.13     A  0.067859\n",
       "274       Q  4.201432      Q   34.77     Q  0.085902\n",
       "275       F  4.390131      F   39.60     F  0.115454\n",
       "276       S  4.580228      S     NaN     S  0.090245\n",
       "277       V  4.771819      V     NaN     V  0.084143\n",
       "278       L  4.964892      L     NaN     L  0.124454\n",
       "279       L  5.161119      L     NaN     L  0.164577\n",
       "280       P  5.367357      P     NaN     P  0.211745\n",
       "281       R  5.642670    NaN     NaN   NaN       NaN\n",
       "282       H  6.360290    NaN     NaN   NaN       NaN\n",
       "\n",
       "[283 rows x 6 columns]"
      ]
     },
     "execution_count": 27,
     "metadata": {},
     "output_type": "execute_result"
    }
   ],
   "source": [
    "dfx"
   ]
  },
  {
   "cell_type": "code",
   "execution_count": 31,
   "metadata": {
    "collapsed": false
   },
   "outputs": [],
   "source": [
    "dfx.to_csv('DI-bfactor.csv',index=False)"
   ]
  },
  {
   "cell_type": "code",
   "execution_count": 38,
   "metadata": {
    "collapsed": false
   },
   "outputs": [
    {
     "data": {
      "text/html": [
       "<div>\n",
       "<table border=\"1\" class=\"dataframe\">\n",
       "  <thead>\n",
       "    <tr style=\"text-align: right;\">\n",
       "      <th></th>\n",
       "      <th>evfold_B</th>\n",
       "      <th>expt_B</th>\n",
       "      <th>mdl_B</th>\n",
       "    </tr>\n",
       "  </thead>\n",
       "  <tbody>\n",
       "    <tr>\n",
       "      <th>evfold_B</th>\n",
       "      <td>1.000000</td>\n",
       "      <td>0.376102</td>\n",
       "      <td>0.255568</td>\n",
       "    </tr>\n",
       "    <tr>\n",
       "      <th>expt_B</th>\n",
       "      <td>0.376102</td>\n",
       "      <td>1.000000</td>\n",
       "      <td>0.390818</td>\n",
       "    </tr>\n",
       "    <tr>\n",
       "      <th>mdl_B</th>\n",
       "      <td>0.255568</td>\n",
       "      <td>0.390818</td>\n",
       "      <td>1.000000</td>\n",
       "    </tr>\n",
       "  </tbody>\n",
       "</table>\n",
       "</div>"
      ],
      "text/plain": [
       "          evfold_B    expt_B     mdl_B\n",
       "evfold_B  1.000000  0.376102  0.255568\n",
       "expt_B    0.376102  1.000000  0.390818\n",
       "mdl_B     0.255568  0.390818  1.000000"
      ]
     },
     "execution_count": 38,
     "metadata": {},
     "output_type": "execute_result"
    }
   ],
   "source": [
    "dfx[[i for i in dfx.columns if '_B' in i]].dropna().corr()"
   ]
  },
  {
   "cell_type": "code",
   "execution_count": null,
   "metadata": {
    "collapsed": true
   },
   "outputs": [],
   "source": []
  }
 ],
 "metadata": {
  "kernelspec": {
   "display_name": "Python 2",
   "language": "python",
   "name": "python2"
  },
  "language_info": {
   "codemirror_mode": {
    "name": "ipython",
    "version": 2
   },
   "file_extension": ".py",
   "mimetype": "text/x-python",
   "name": "python",
   "nbconvert_exporter": "python",
   "pygments_lexer": "ipython2",
   "version": "2.7.6"
  }
 },
 "nbformat": 4,
 "nbformat_minor": 0
}
