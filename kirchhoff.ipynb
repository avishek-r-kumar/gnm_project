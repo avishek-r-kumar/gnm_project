{
 "cells": [
  {
   "cell_type": "code",
   "execution_count": 1,
   "metadata": {
    "collapsed": false
   },
   "outputs": [
    {
     "name": "stdout",
     "output_type": "stream",
     "text": [
      "Populating the interactive namespace from numpy and matplotlib\n"
     ]
    }
   ],
   "source": [
    "%pylab inline\n",
    "import dfi"
   ]
  },
  {
   "cell_type": "code",
   "execution_count": 2,
   "metadata": {
    "collapsed": false
   },
   "outputs": [
    {
     "name": "stdout",
     "output_type": "stream",
     "text": [
      "Read 157 atoms from the 5pnt.pdb\n"
     ]
    }
   ],
   "source": [
    "dfi.fetch_pdb('5pnt')\n",
    "ATOMS = dfi.pdbio.pdb_reader('5pnt.pdb',CAonly=True)\n",
    "x,y,z = dfi.getcoords(ATOMS)\n",
    "numres = len(x)"
   ]
  },
  {
   "cell_type": "code",
   "execution_count": 3,
   "metadata": {
    "collapsed": false
   },
   "outputs": [],
   "source": [
    "\n",
    "def calc_hessian(x,y,z,Verbose=False):\n",
    "    \"\"\"\n",
    "    Calculate the hessian given the coordinates \n",
    "    \n",
    "    Input\n",
    "    -----\n",
    "    (x,y,z) numpy array\n",
    "       Must all be the same length\n",
    "    Output\n",
    "    ------\n",
    "    kirchhoff: NxN numpy matrix\n",
    "       \n",
    "    \"\"\"\n",
    "    cutoff = 10\n",
    "    gamma = 1\n",
    "    xyz = np.column_stack((x,y,z))\n",
    "    numres = xyz.shape[0]\n",
    "    kirchhoff = np.zeros((numres,numres))\n",
    "    for i in range(numres):\n",
    "        xyz_i = xyz[i]\n",
    "        i_p1 = i + 1\n",
    "        xyz_ij = xyz[i_p1:] - xyz_i\n",
    "        xyz_ij2=np.multiply(xyz_ij,xyz_ij)\n",
    "        cutoff2 = cutoff * cutoff\n",
    "        for j, dist2 in enumerate(xyz_ij2.sum(1)):\n",
    "            if dist2 > cutoff2:\n",
    "                continue\n",
    "            if Verbose:\n",
    "                print(j, dist2)\n",
    "            j += i_p1\n",
    "            kirchhoff[i,j] = -gamma \n",
    "            kirchhoff[j,i] = -gamma \n",
    "            kirchhoff[i,i] += gamma \n",
    "            kirchhoff[j,j] += gamma\n",
    "    return kirchhoff"
   ]
  },
  {
   "cell_type": "code",
   "execution_count": 4,
   "metadata": {
    "collapsed": false
   },
   "outputs": [],
   "source": [
    "kirchhoff = calc_hessian(x,y,z)"
   ]
  },
  {
   "cell_type": "markdown",
   "metadata": {},
   "source": [
    "# Invert this matrix"
   ]
  },
  {
   "cell_type": "code",
   "execution_count": 5,
   "metadata": {
    "collapsed": false
   },
   "outputs": [],
   "source": [
    "def invert_kirchhoff(kirchhoff):\n",
    "    from scipy import linalg as LA\n",
    "    U, w, Vt = LA.svd(kirchhoff,full_matrices=False)\n",
    "    S = LA.diagsvd(w,len(w),len(w))\n",
    "    np.allclose(kirchhoff,np.dot(U,np.dot(S,Vt)))\n",
    "    tol = 1e-6\n",
    "    singular = w < tol\n",
    "    assert np.sum(singular) == 1.\n",
    "    invw = 1/w\n",
    "    invw[singular] = 0\n",
    "    inv_kirchhoff = np.dot(np.dot(U,np.diag(invw)),Vt)\n",
    "    return inv_kirchhoff"
   ]
  },
  {
   "cell_type": "code",
   "execution_count": 6,
   "metadata": {
    "collapsed": true
   },
   "outputs": [],
   "source": [
    "inv_kirchhoff = invert_kirchhoff(kirchhoff)"
   ]
  },
  {
   "cell_type": "code",
   "execution_count": 7,
   "metadata": {
    "collapsed": false
   },
   "outputs": [],
   "source": [
    "diag = np.array([inv_kirchhoff[i,i] for i in range(numres)])"
   ]
  },
  {
   "cell_type": "code",
   "execution_count": 8,
   "metadata": {
    "collapsed": true
   },
   "outputs": [],
   "source": [
    "betafactors = np.array([atom.temp_factor for atom in ATOMS])"
   ]
  },
  {
   "cell_type": "code",
   "execution_count": 9,
   "metadata": {
    "collapsed": false
   },
   "outputs": [
    {
     "data": {
      "text/plain": [
       "0.62"
      ]
     },
     "execution_count": 9,
     "metadata": {},
     "output_type": "execute_result"
    }
   ],
   "source": [
    "np.corrcoef(diag,betafactors).round(2)[0,1]"
   ]
  },
  {
   "cell_type": "code",
   "execution_count": 10,
   "metadata": {
    "collapsed": true
   },
   "outputs": [],
   "source": [
    "def _build_kirchhoff(evod_file,n):\n",
    "    \"\"\"\n",
    "    Creates a kirchoff matrix using EVfold contacts\n",
    "    Input\n",
    "    -----\n",
    "    evfold input file: str\n",
    "       file from evfold\n",
    "    n: size of the square matrix\n",
    "    Output\n",
    "    ------\n",
    "    kirchoff: NxN numpy matrix\n",
    "       output matrix\n",
    "    \"\"\"\n",
    "\n",
    "    chain = []\n",
    "    chain_connection = np.zeros((n,n))\n",
    "    \n",
    "    #assign a -1 for residues in contact in the chain\n",
    "    for i in range(2, n-2):\n",
    "        chain_connection[i, i+1] = -1\n",
    "        chain_connection[i, i+2] = -1\n",
    "        #chain_connection[i, i+3] = -1\n",
    "        chain_connection[i+1, i] = -1\n",
    "        chain_connection[i+2, i] = -1\n",
    "        #chain_connection[i+3, i] = -1\n",
    "        chain_connection[i, i-1] = -1\n",
    "        chain_connection[i, i-2] = -1\n",
    "        #chain_connection[i, i-3] = -1\n",
    "        chain_connection[i-1, i] = -1\n",
    "        chain_connection[i-2, i] = -1\n",
    "        #chain_connection[i-3, i] = -1\n",
    "        \n",
    "        chain.append([i, i+1, chain_connection[i, i+1]])\n",
    "        chain.append([i, i+2, chain_connection[i, i+2]])\n",
    "        #chain.append([i, i+3, chain_connection[i, i+3]])\n",
    "        chain.append([i+1, i, chain_connection[i+1, i]])\n",
    "        chain.append([i+2, i, chain_connection[i+2, i]])\n",
    "        #chain.append([i+3, i, chain_connection[i+3, i]])\n",
    "        chain.append([i, i-1, chain_connection[i, i-1]])\n",
    "        chain.append([i, i-2, chain_connection[i, i-2]])\n",
    "        #chain.append([i, i-3, chain_connection[i, i-3]])\n",
    "        chain.append([i-1, i, chain_connection[i-1, i]])\n",
    "        chain.append([i-2, i, chain_connection[i-2, i]])\n",
    "        #chain.append([i-3, i, chain_connection[i-3, i]])\n",
    "        \n",
    "    #assign a -1 for EC pairs\n",
    "    evol = []\n",
    "    contact_pairs = open(evod_file, 'rU').readlines() \n",
    "    evol_const = np.zeros((n,n))\n",
    "    for line in contact_pairs:\n",
    "        a = line.split()\n",
    "        i = int(a[0]) - 1 \n",
    "        j = int(a[2]) - 1 \n",
    "        if (chain_connection[i, j] != -1):\n",
    "            evol_const[i, j] = -1.0*float(a[5])\n",
    "            evol_const[j, i] = -1.0*float(a[5])\n",
    "            evol.append([i, j, evol_const[i, j]])\n",
    "            evol.append([j, i, evol_const[j, i]])\n",
    "    \n",
    "    #build kirchoff matrix\n",
    "    kirchhoff = np.zeros((n,n))\n",
    "    kirchhoff = chain_connection + evol_const\n",
    "    print 'generated kirchhoff using evolutionary constraints'\n",
    "    print 'kirchhoff shape: ', kirchhoff.shape\n",
    "    \n",
    "    #calculate the diagonal\n",
    "    diag = []\n",
    "    for i in range(0, n):\n",
    "        kirchhoff[i, i] = -np.sum(kirchhoff[i])\n",
    "        diag.append([i, i, kirchhoff[i, i]])\n",
    "    \n",
    "    #put everything together for a file\n",
    "    all = chain + evol + diag\n",
    "    f = open('evfold_kirchhoff.txt', 'w')\n",
    "    for x in all:\n",
    "        f.write('%s \\t %s \\t %s \\n' % (x[0], x[1], x[2]))\n",
    "    f.close()\n",
    "    \n",
    "    return kirchhoff;"
   ]
  },
  {
   "cell_type": "code",
   "execution_count": 11,
   "metadata": {
    "collapsed": false
   },
   "outputs": [],
   "source": [
    "evoDfile='./data/5pnt_MI_DI.txt'"
   ]
  },
  {
   "cell_type": "code",
   "execution_count": 12,
   "metadata": {
    "collapsed": false
   },
   "outputs": [
    {
     "name": "stdout",
     "output_type": "stream",
     "text": [
      "generated kirchhoff using evolutionary constraints\n",
      "kirchhoff shape:  (158, 158)\n"
     ]
    }
   ],
   "source": [
    "evodkirchhoff=_build_kirchhoff(evoDfile,158)"
   ]
  },
  {
   "cell_type": "code",
   "execution_count": 14,
   "metadata": {
    "collapsed": false
   },
   "outputs": [],
   "source": [
    "numseq=evodkirchhoff.shape[0]"
   ]
  },
  {
   "cell_type": "code",
   "execution_count": 16,
   "metadata": {
    "collapsed": false
   },
   "outputs": [],
   "source": [
    "inv_evodkirchhoff=invert_kirchhoff(evodkirchhoff)"
   ]
  },
  {
   "cell_type": "code",
   "execution_count": 17,
   "metadata": {
    "collapsed": true
   },
   "outputs": [],
   "source": [
    "evo_diag = np.array([inv_evodkirchhoff[i,i] for i in range(numseq)])"
   ]
  },
  {
   "cell_type": "code",
   "execution_count": 18,
   "metadata": {
    "collapsed": false
   },
   "outputs": [
    {
     "data": {
      "text/plain": [
       "0.66000000000000003"
      ]
     },
     "execution_count": 18,
     "metadata": {},
     "output_type": "execute_result"
    }
   ],
   "source": [
    "np.corrcoef(diag,evo_diag[1:]).round(2)[0,1]"
   ]
  },
  {
   "cell_type": "code",
   "execution_count": 19,
   "metadata": {
    "collapsed": false
   },
   "outputs": [
    {
     "data": {
      "text/plain": [
       "0.72999999999999998"
      ]
     },
     "execution_count": 19,
     "metadata": {},
     "output_type": "execute_result"
    }
   ],
   "source": [
    "np.corrcoef(betafactors,evo_diag[1:]).round(2)[0,1]"
   ]
  },
  {
   "cell_type": "code",
   "execution_count": 20,
   "metadata": {
    "collapsed": false
   },
   "outputs": [
    {
     "data": {
      "text/plain": [
       "0.62"
      ]
     },
     "execution_count": 20,
     "metadata": {},
     "output_type": "execute_result"
    }
   ],
   "source": [
    "np.corrcoef(diag,betafactors).round(2)[0,1]"
   ]
  },
  {
   "cell_type": "markdown",
   "metadata": {},
   "source": [
    "# Need to align sequences properly"
   ]
  },
  {
   "cell_type": "markdown",
   "metadata": {
    "collapsed": true
   },
   "source": [
    "## Grab the 5pnt fasta sequence "
   ]
  },
  {
   "cell_type": "code",
   "execution_count": 21,
   "metadata": {
    "collapsed": true
   },
   "outputs": [],
   "source": [
    "import dfi.fastaseq "
   ]
  },
  {
   "cell_type": "code",
   "execution_count": 61,
   "metadata": {
    "collapsed": false
   },
   "outputs": [],
   "source": [
    "str_seq=''.join( dfi.fastaseq.get_fastaseq('P24666').split('\\n')[1:] )"
   ]
  },
  {
   "cell_type": "code",
   "execution_count": 62,
   "metadata": {
    "collapsed": false
   },
   "outputs": [],
   "source": [
    "seq=[s for s in str_seq]"
   ]
  },
  {
   "cell_type": "code",
   "execution_count": 63,
   "metadata": {
    "collapsed": true
   },
   "outputs": [],
   "source": [
    "import pandas as pd"
   ]
  },
  {
   "cell_type": "code",
   "execution_count": 64,
   "metadata": {
    "collapsed": false
   },
   "outputs": [],
   "source": [
    "dfx = pd.DataFrame()"
   ]
  },
  {
   "cell_type": "code",
   "execution_count": 65,
   "metadata": {
    "collapsed": true
   },
   "outputs": [],
   "source": [
    "dfx['fasta_R'] =seq"
   ]
  },
  {
   "cell_type": "code",
   "execution_count": 69,
   "metadata": {
    "collapsed": false
   },
   "outputs": [
    {
     "data": {
      "text/plain": [
       "(158, 158)"
      ]
     },
     "execution_count": 69,
     "metadata": {},
     "output_type": "execute_result"
    }
   ],
   "source": [
    "evodkirchhoff.shape"
   ]
  },
  {
   "cell_type": "code",
   "execution_count": 70,
   "metadata": {
    "collapsed": false
   },
   "outputs": [],
   "source": [
    "dfx['b-evfold'] = evo_diag"
   ]
  },
  {
   "cell_type": "code",
   "execution_count": 72,
   "metadata": {
    "collapsed": false
   },
   "outputs": [
    {
     "data": {
      "text/html": [
       "<div>\n",
       "<table border=\"1\" class=\"dataframe\">\n",
       "  <thead>\n",
       "    <tr style=\"text-align: right;\">\n",
       "      <th></th>\n",
       "      <th>fasta_R</th>\n",
       "      <th>b-evfold</th>\n",
       "    </tr>\n",
       "  </thead>\n",
       "  <tbody>\n",
       "    <tr>\n",
       "      <th>0</th>\n",
       "      <td>M</td>\n",
       "      <td>2.367071</td>\n",
       "    </tr>\n",
       "    <tr>\n",
       "      <th>1</th>\n",
       "      <td>A</td>\n",
       "      <td>1.653347</td>\n",
       "    </tr>\n",
       "    <tr>\n",
       "      <th>2</th>\n",
       "      <td>E</td>\n",
       "      <td>1.379729</td>\n",
       "    </tr>\n",
       "    <tr>\n",
       "      <th>3</th>\n",
       "      <td>Q</td>\n",
       "      <td>1.175689</td>\n",
       "    </tr>\n",
       "    <tr>\n",
       "      <th>4</th>\n",
       "      <td>A</td>\n",
       "      <td>0.987923</td>\n",
       "    </tr>\n",
       "  </tbody>\n",
       "</table>\n",
       "</div>"
      ],
      "text/plain": [
       "  fasta_R  b-evfold\n",
       "0       M  2.367071\n",
       "1       A  1.653347\n",
       "2       E  1.379729\n",
       "3       Q  1.175689\n",
       "4       A  0.987923"
      ]
     },
     "execution_count": 72,
     "metadata": {},
     "output_type": "execute_result"
    }
   ],
   "source": [
    "dfx.head()"
   ]
  },
  {
   "cell_type": "code",
   "execution_count": 74,
   "metadata": {
    "collapsed": false
   },
   "outputs": [
    {
     "data": {
      "text/plain": [
       "(157,)"
      ]
     },
     "execution_count": 74,
     "metadata": {},
     "output_type": "execute_result"
    }
   ],
   "source": [
    "diag.shape"
   ]
  },
  {
   "cell_type": "markdown",
   "metadata": {},
   "source": [
    "# Ned to align to the fasta sequence "
   ]
  },
  {
   "cell_type": "code",
   "execution_count": 75,
   "metadata": {
    "collapsed": true
   },
   "outputs": [],
   "source": [
    "import dfi.fasta_convert"
   ]
  },
  {
   "cell_type": "code",
   "execution_count": 80,
   "metadata": {
    "collapsed": false
   },
   "outputs": [
    {
     "name": "stdout",
     "output_type": "stream",
     "text": [
      "Read 157 atoms from the 5pnt.pdb\n"
     ]
    }
   ],
   "source": [
    "pdbseq=dfi.fasta_convert.get_seq('5pnt.pdb')"
   ]
  },
  {
   "cell_type": "code",
   "execution_count": 82,
   "metadata": {
    "collapsed": false
   },
   "outputs": [
    {
     "data": {
      "text/plain": [
       "['A', 'E', 'Q', 'A', 'T', 'K', 'S', 'V', 'L', 'F']"
      ]
     },
     "execution_count": 82,
     "metadata": {},
     "output_type": "execute_result"
    }
   ],
   "source": [
    "pdbseq[:10]"
   ]
  },
  {
   "cell_type": "code",
   "execution_count": 83,
   "metadata": {
    "collapsed": false
   },
   "outputs": [
    {
     "data": {
      "text/plain": [
       "['M', 'A', 'E', 'Q', 'A', 'T', 'K', 'S', 'V', 'L']"
      ]
     },
     "execution_count": 83,
     "metadata": {},
     "output_type": "execute_result"
    }
   ],
   "source": [
    "seq[:10]"
   ]
  },
  {
   "cell_type": "code",
   "execution_count": 95,
   "metadata": {
    "collapsed": false
   },
   "outputs": [
    {
     "name": "stdout",
     "output_type": "stream",
     "text": [
      "(0, 'A')\n",
      "(1, 'E')\n",
      "(2, 'Q')\n",
      "(3, 'A')\n",
      "(4, 'T')\n",
      "(5, 'K')\n",
      "(6, 'S')\n",
      "(7, 'V')\n",
      "(8, 'L')\n",
      "(9, 'F')\n",
      "(10, 'V')\n",
      "(11, 'C')\n",
      "(12, 'L')\n",
      "(13, 'G')\n",
      "(14, 'N')\n",
      "(15, 'I')\n",
      "(16, 'C')\n",
      "(17, 'R')\n",
      "(18, 'S')\n",
      "(19, 'P')\n",
      "(20, 'I')\n",
      "(21, 'A')\n",
      "(22, 'E')\n",
      "(23, 'A')\n",
      "(24, 'V')\n",
      "(25, 'F')\n",
      "(26, 'R')\n",
      "(27, 'K')\n",
      "(28, 'L')\n",
      "(29, 'V')\n",
      "(30, 'T')\n",
      "(31, 'D')\n",
      "(32, 'Q')\n",
      "(33, 'N')\n",
      "(34, 'I')\n",
      "(35, 'S')\n",
      "(36, 'E')\n",
      "(37, 'N')\n",
      "(38, 'W')\n",
      "(39, 'R')\n",
      "(40, 'V')\n",
      "(41, 'D')\n",
      "(42, 'S')\n",
      "(43, 'A')\n",
      "(44, 'A')\n",
      "(45, 'T')\n",
      "(46, 'S')\n",
      "(47, 'G')\n",
      "(48, 'Y')\n",
      "(49, 'E')\n",
      "(50, 'I')\n",
      "(51, 'G')\n",
      "(52, 'N')\n",
      "(53, 'P')\n",
      "(54, 'P')\n",
      "(55, 'D')\n",
      "(56, 'Y')\n",
      "(57, 'R')\n",
      "(58, 'G')\n",
      "(59, 'Q')\n",
      "(60, 'S')\n",
      "(61, 'C')\n",
      "(62, 'M')\n",
      "(63, 'K')\n",
      "(64, 'R')\n",
      "(65, 'H')\n",
      "(66, 'G')\n",
      "(67, 'I')\n",
      "(68, 'P')\n",
      "(69, 'M')\n",
      "(70, 'S')\n",
      "(71, 'H')\n",
      "(72, 'V')\n",
      "(73, 'A')\n",
      "(74, 'R')\n",
      "(75, 'Q')\n",
      "(76, 'I')\n",
      "(77, 'T')\n",
      "(78, 'K')\n",
      "(79, 'E')\n",
      "(80, 'D')\n",
      "(81, 'F')\n",
      "(82, 'A')\n",
      "(83, 'T')\n",
      "(84, 'F')\n",
      "(85, 'D')\n",
      "(86, 'Y')\n",
      "(87, 'I')\n",
      "(88, 'L')\n",
      "(89, 'C')\n",
      "(90, 'M')\n",
      "(91, 'D')\n",
      "(92, 'E')\n",
      "(93, 'S')\n",
      "(94, 'N')\n",
      "(95, 'L')\n",
      "(96, 'R')\n",
      "(97, 'D')\n",
      "(98, 'L')\n",
      "(99, 'N')\n",
      "(100, 'R')\n",
      "(101, 'K')\n",
      "(102, 'S')\n",
      "(103, 'N')\n",
      "(104, 'Q')\n",
      "(105, 'V')\n",
      "(106, 'K')\n",
      "(107, 'T')\n",
      "(108, 'C')\n",
      "(109, 'K')\n",
      "(110, 'A')\n",
      "(111, 'K')\n",
      "(112, 'I')\n",
      "(113, 'E')\n",
      "(114, 'L')\n",
      "(115, 'L')\n",
      "(116, 'G')\n",
      "(117, 'S')\n",
      "(118, 'Y')\n",
      "(119, 'D')\n",
      "(120, 'P')\n",
      "(121, 'Q')\n",
      "(122, 'K')\n",
      "(123, 'Q')\n",
      "(124, 'L')\n",
      "(125, 'I')\n",
      "(126, 'I')\n",
      "(127, 'E')\n",
      "(128, 'D')\n",
      "(129, 'P')\n",
      "(130, 'Y')\n",
      "(131, 'Y')\n",
      "(132, 'G')\n",
      "(133, 'N')\n",
      "(134, 'D')\n",
      "(135, 'S')\n",
      "(136, 'D')\n",
      "(137, 'F')\n",
      "(138, 'E')\n",
      "(139, 'T')\n",
      "(140, 'V')\n",
      "(141, 'Y')\n",
      "(142, 'Q')\n",
      "(143, 'Q')\n",
      "(144, 'C')\n",
      "(145, 'V')\n",
      "(146, 'R')\n",
      "(147, 'C')\n",
      "(148, 'C')\n",
      "(149, 'R')\n",
      "(150, 'A')\n",
      "(151, 'F')\n",
      "(152, 'L')\n",
      "(153, 'E')\n",
      "(154, 'K')\n",
      "(155, 'A')\n",
      "(156, 'H')\n"
     ]
    }
   ],
   "source": [
    "from __future__ import print_function\n",
    "i=0\n",
    "for pdb_aa in enumerate(pdbseq):\n",
    "    print(pdb_aa)\n",
    "    for fasta_aa in seq[i:]:\n",
    "        if pdb_aa == fasta_aa:\n",
    "            print(i, fasta_aa)\n",
    "            break\n",
    "        i+=1"
   ]
  },
  {
   "cell_type": "code",
   "execution_count": null,
   "metadata": {
    "collapsed": true
   },
   "outputs": [],
   "source": []
  }
 ],
 "metadata": {
  "kernelspec": {
   "display_name": "Python 2",
   "language": "python",
   "name": "python2"
  },
  "language_info": {
   "codemirror_mode": {
    "name": "ipython",
    "version": 2
   },
   "file_extension": ".py",
   "mimetype": "text/x-python",
   "name": "python",
   "nbconvert_exporter": "python",
   "pygments_lexer": "ipython2",
   "version": "2.7.6"
  }
 },
 "nbformat": 4,
 "nbformat_minor": 0
}
