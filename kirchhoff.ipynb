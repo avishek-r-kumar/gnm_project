{
 "cells": [
  {
   "cell_type": "code",
   "execution_count": 1,
   "metadata": {
    "collapsed": false
   },
   "outputs": [
    {
     "name": "stdout",
     "output_type": "stream",
     "text": [
      "Populating the interactive namespace from numpy and matplotlib\n"
     ]
    }
   ],
   "source": [
    "%pylab inline\n",
    "import dfi"
   ]
  },
  {
   "cell_type": "code",
   "execution_count": 2,
   "metadata": {
    "collapsed": false
   },
   "outputs": [
    {
     "name": "stdout",
     "output_type": "stream",
     "text": [
      "Read 157 atoms from the 5pnt.pdb\n"
     ]
    }
   ],
   "source": [
    "dfi.fetch_pdb('5pnt')\n",
    "ATOMS = dfi.pdbio.pdb_reader('5pnt.pdb',CAonly=True)\n",
    "x,y,z = dfi.getcoords(ATOMS)\n",
    "numres = len(x)"
   ]
  },
  {
   "cell_type": "code",
   "execution_count": 3,
   "metadata": {
    "collapsed": false
   },
   "outputs": [],
   "source": [
    "\n",
    "def calc_hessian(x,y,z,Verbose=False):\n",
    "    \"\"\"\n",
    "    Calculate the hessian given the coordinates \n",
    "    \n",
    "    Input\n",
    "    -----\n",
    "    (x,y,z) numpy array\n",
    "       Must all be the same length\n",
    "    Output\n",
    "    ------\n",
    "    kirchhoff: NxN numpy matrix\n",
    "       \n",
    "    \"\"\"\n",
    "    cutoff = 10\n",
    "    gamma = 1\n",
    "    xyz = np.column_stack((x,y,z))\n",
    "    numres = xyz.shape[0]\n",
    "    kirchhoff = np.zeros((numres,numres))\n",
    "    for i in range(numres):\n",
    "        xyz_i = xyz[i]\n",
    "        i_p1 = i + 1\n",
    "        xyz_ij = xyz[i_p1:] - xyz_i\n",
    "        xyz_ij2=np.multiply(xyz_ij,xyz_ij)\n",
    "        cutoff2 = cutoff * cutoff\n",
    "        for j, dist2 in enumerate(xyz_ij2.sum(1)):\n",
    "            if dist2 > cutoff2:\n",
    "                continue\n",
    "            if Verbose:\n",
    "                print(j, dist2)\n",
    "            j += i_p1\n",
    "            kirchhoff[i,j] = -gamma \n",
    "            kirchhoff[j,i] = -gamma \n",
    "            kirchhoff[i,i] += gamma \n",
    "            kirchhoff[j,j] += gamma\n",
    "    return kirchhoff"
   ]
  },
  {
   "cell_type": "code",
   "execution_count": 4,
   "metadata": {
    "collapsed": false
   },
   "outputs": [],
   "source": [
    "kirchhoff = calc_hessian(x,y,z)"
   ]
  },
  {
   "cell_type": "markdown",
   "metadata": {},
   "source": [
    "# Invert this matrix"
   ]
  },
  {
   "cell_type": "code",
   "execution_count": 5,
   "metadata": {
    "collapsed": false
   },
   "outputs": [],
   "source": [
    "def invert_kirchhoff(kirchhoff):\n",
    "    from scipy import linalg as LA\n",
    "    U, w, Vt = LA.svd(kirchhoff,full_matrices=False)\n",
    "    S = LA.diagsvd(w,len(w),len(w))\n",
    "    np.allclose(kirchhoff,np.dot(U,np.dot(S,Vt)))\n",
    "    tol = 1e-6\n",
    "    singular = w < tol\n",
    "    assert np.sum(singular) == 1.\n",
    "    invw = 1/w\n",
    "    invw[singular] = 0\n",
    "    inv_kirchhoff = np.dot(np.dot(U,np.diag(invw)),Vt)\n",
    "    return inv_kirchhoff"
   ]
  },
  {
   "cell_type": "code",
   "execution_count": 6,
   "metadata": {
    "collapsed": true
   },
   "outputs": [],
   "source": [
    "inv_kirchhoff = invert_kirchhoff(kirchhoff)"
   ]
  },
  {
   "cell_type": "code",
   "execution_count": 7,
   "metadata": {
    "collapsed": false
   },
   "outputs": [],
   "source": [
    "diag = np.array([inv_kirchhoff[i,i] for i in range(numres)])"
   ]
  },
  {
   "cell_type": "code",
   "execution_count": 8,
   "metadata": {
    "collapsed": true
   },
   "outputs": [],
   "source": [
    "betafactors = np.array([atom.temp_factor for atom in ATOMS])"
   ]
  },
  {
   "cell_type": "code",
   "execution_count": 9,
   "metadata": {
    "collapsed": false
   },
   "outputs": [
    {
     "data": {
      "text/plain": [
       "0.62"
      ]
     },
     "execution_count": 9,
     "metadata": {},
     "output_type": "execute_result"
    }
   ],
   "source": [
    "np.corrcoef(diag,betafactors).round(2)[0,1]"
   ]
  },
  {
   "cell_type": "code",
   "execution_count": 10,
   "metadata": {
    "collapsed": true
   },
   "outputs": [],
   "source": [
    "def _build_kirchhoff(evod_file,n):\n",
    "    \"\"\"\n",
    "    Creates a kirchoff matrix using EVfold contacts\n",
    "    Input\n",
    "    -----\n",
    "    evfold input file: str\n",
    "       file from evfold\n",
    "    n: size of the square matrix\n",
    "    Output\n",
    "    ------\n",
    "    kirchoff: NxN numpy matrix\n",
    "       output matrix\n",
    "    \"\"\"\n",
    "\n",
    "    chain = []\n",
    "    chain_connection = np.zeros((n,n))\n",
    "    \n",
    "    #assign a -1 for residues in contact in the chain\n",
    "    for i in range(2, n-2):\n",
    "        chain_connection[i, i+1] = -1\n",
    "        chain_connection[i, i+2] = -1\n",
    "        #chain_connection[i, i+3] = -1\n",
    "        chain_connection[i+1, i] = -1\n",
    "        chain_connection[i+2, i] = -1\n",
    "        #chain_connection[i+3, i] = -1\n",
    "        chain_connection[i, i-1] = -1\n",
    "        chain_connection[i, i-2] = -1\n",
    "        #chain_connection[i, i-3] = -1\n",
    "        chain_connection[i-1, i] = -1\n",
    "        chain_connection[i-2, i] = -1\n",
    "        #chain_connection[i-3, i] = -1\n",
    "        \n",
    "        chain.append([i, i+1, chain_connection[i, i+1]])\n",
    "        chain.append([i, i+2, chain_connection[i, i+2]])\n",
    "        #chain.append([i, i+3, chain_connection[i, i+3]])\n",
    "        chain.append([i+1, i, chain_connection[i+1, i]])\n",
    "        chain.append([i+2, i, chain_connection[i+2, i]])\n",
    "        #chain.append([i+3, i, chain_connection[i+3, i]])\n",
    "        chain.append([i, i-1, chain_connection[i, i-1]])\n",
    "        chain.append([i, i-2, chain_connection[i, i-2]])\n",
    "        #chain.append([i, i-3, chain_connection[i, i-3]])\n",
    "        chain.append([i-1, i, chain_connection[i-1, i]])\n",
    "        chain.append([i-2, i, chain_connection[i-2, i]])\n",
    "        #chain.append([i-3, i, chain_connection[i-3, i]])\n",
    "        \n",
    "    #assign a -1 for EC pairs\n",
    "    evol = []\n",
    "    contact_pairs = open(evod_file, 'rU').readlines() \n",
    "    evol_const = np.zeros((n,n))\n",
    "    for line in contact_pairs:\n",
    "        a = line.split()\n",
    "        i = int(a[0]) - 1 \n",
    "        j = int(a[2]) - 1 \n",
    "        if (chain_connection[i, j] != -1):\n",
    "            evol_const[i, j] = -1.0*float(a[5])\n",
    "            evol_const[j, i] = -1.0*float(a[5])\n",
    "            evol.append([i, j, evol_const[i, j]])\n",
    "            evol.append([j, i, evol_const[j, i]])\n",
    "    \n",
    "    #build kirchoff matrix\n",
    "    kirchhoff = np.zeros((n,n))\n",
    "    kirchhoff = chain_connection + evol_const\n",
    "    print 'generated kirchhoff using evolutionary constraints'\n",
    "    print 'kirchhoff shape: ', kirchhoff.shape\n",
    "    \n",
    "    #calculate the diagonal\n",
    "    diag = []\n",
    "    for i in range(0, n):\n",
    "        kirchhoff[i, i] = -np.sum(kirchhoff[i])\n",
    "        diag.append([i, i, kirchhoff[i, i]])\n",
    "    \n",
    "    #put everything together for a file\n",
    "    all = chain + evol + diag\n",
    "    f = open('evfold_kirchhoff.txt', 'w')\n",
    "    for x in all:\n",
    "        f.write('%s \\t %s \\t %s \\n' % (x[0], x[1], x[2]))\n",
    "    f.close()\n",
    "    \n",
    "    return kirchhoff;"
   ]
  },
  {
   "cell_type": "code",
   "execution_count": 11,
   "metadata": {
    "collapsed": false
   },
   "outputs": [],
   "source": [
    "evoDfile='./data/5pnt_MI_DI.txt'"
   ]
  },
  {
   "cell_type": "code",
   "execution_count": 15,
   "metadata": {
    "collapsed": false
   },
   "outputs": [
    {
     "name": "stdout",
     "output_type": "stream",
     "text": [
      "generated kirchhoff using evolutionary constraints\n",
      "kirchhoff shape:  (158, 158)\n"
     ]
    }
   ],
   "source": [
    "evodkirchhoff=_build_kirchhoff(evoDfile,158)"
   ]
  },
  {
   "cell_type": "code",
   "execution_count": 16,
   "metadata": {
    "collapsed": false
   },
   "outputs": [],
   "source": [
    "numseq=evodkirchoff.shape[0]"
   ]
  },
  {
   "cell_type": "code",
   "execution_count": 17,
   "metadata": {
    "collapsed": false
   },
   "outputs": [],
   "source": [
    "inv_evodkirchhoff=invert_kirchhoff(evodkirchoff)"
   ]
  },
  {
   "cell_type": "code",
   "execution_count": 18,
   "metadata": {
    "collapsed": true
   },
   "outputs": [],
   "source": [
    "evo_diag = np.array([inv_evodkirchhoff[i,i] for i in range(numseq)])"
   ]
  },
  {
   "cell_type": "code",
   "execution_count": 25,
   "metadata": {
    "collapsed": false
   },
   "outputs": [
    {
     "data": {
      "text/plain": [
       "0.66000000000000003"
      ]
     },
     "execution_count": 25,
     "metadata": {},
     "output_type": "execute_result"
    }
   ],
   "source": [
    "np.corrcoef(diag,evo_diag[1:]).round(2)[0,1]"
   ]
  },
  {
   "cell_type": "code",
   "execution_count": 26,
   "metadata": {
    "collapsed": false
   },
   "outputs": [
    {
     "data": {
      "text/plain": [
       "0.72999999999999998"
      ]
     },
     "execution_count": 26,
     "metadata": {},
     "output_type": "execute_result"
    }
   ],
   "source": [
    "np.corrcoef(betafactors,evo_diag[1:]).round(2)[0,1]"
   ]
  },
  {
   "cell_type": "code",
   "execution_count": 27,
   "metadata": {
    "collapsed": false
   },
   "outputs": [
    {
     "data": {
      "text/plain": [
       "0.62"
      ]
     },
     "execution_count": 27,
     "metadata": {},
     "output_type": "execute_result"
    }
   ],
   "source": [
    "np.corrcoef(diag,betafactors).round(2)[0,1]"
   ]
  },
  {
   "cell_type": "markdown",
   "metadata": {},
   "source": [
    "# Need to align sequences properly"
   ]
  },
  {
   "cell_type": "code",
   "execution_count": null,
   "metadata": {
    "collapsed": true
   },
   "outputs": [],
   "source": []
  }
 ],
 "metadata": {
  "kernelspec": {
   "display_name": "Python 2",
   "language": "python",
   "name": "python2"
  },
  "language_info": {
   "codemirror_mode": {
    "name": "ipython",
    "version": 2
   },
   "file_extension": ".py",
   "mimetype": "text/x-python",
   "name": "python",
   "nbconvert_exporter": "python",
   "pygments_lexer": "ipython2",
   "version": "2.7.6"
  }
 },
 "nbformat": 4,
 "nbformat_minor": 0
}
