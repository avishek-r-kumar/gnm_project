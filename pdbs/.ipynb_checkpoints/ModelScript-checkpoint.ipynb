{
 "cells": [
  {
   "cell_type": "code",
   "execution_count": 1,
   "metadata": {
    "collapsed": true
   },
   "outputs": [],
   "source": [
    "import dfi \n",
    "import glob "
   ]
  },
  {
   "cell_type": "code",
   "execution_count": 2,
   "metadata": {
    "collapsed": true
   },
   "outputs": [],
   "source": [
    "import pandas as pd "
   ]
  },
  {
   "cell_type": "code",
   "execution_count": 3,
   "metadata": {
    "collapsed": false
   },
   "outputs": [],
   "source": [
    "data = pd.read_csv('missingresidues.csv')"
   ]
  },
  {
   "cell_type": "code",
   "execution_count": 4,
   "metadata": {
    "collapsed": false
   },
   "outputs": [],
   "source": [
    "#for pdb in data['pdb'].values:\n",
    "#    dfi.fetch_pdb(pdb)"
   ]
  },
  {
   "cell_type": "code",
   "execution_count": null,
   "metadata": {
    "collapsed": false
   },
   "outputs": [],
   "source": []
  },
  {
   "cell_type": "code",
   "execution_count": 5,
   "metadata": {
    "collapsed": true
   },
   "outputs": [],
   "source": [
    "pdbfiles = glob.glob('*.pdb')\n"
   ]
  },
  {
   "cell_type": "code",
   "execution_count": 6,
   "metadata": {
    "collapsed": true
   },
   "outputs": [],
   "source": [
    "def findmissing(pdbfile):\n",
    "    \"\"\"\n",
    "    Enter a pdbid and output the missing residues and number of chains.\n",
    "    The missing residues from the beninning and end of the chain are excluded.\n",
    "    \"\"\"\n",
    "    import pdbfixer \n",
    "    fixer = pdbfixer.PDBFixer(filename=pdbfile)\n",
    "    fixer.findMissingResidues()\n",
    "    keys = fixer.missingResidues.keys()\n",
    "    chains = list(fixer.topology.chains())\n",
    "    #print chains\n",
    "    \n",
    "    for key in keys:\n",
    "        chain = chains[key[0]]\n",
    "        if key[1] == 0 or key[1] == len( list(chain.residues())):\n",
    "            del fixer.missingResidues[key]\n",
    "            \n",
    "    return fixer.missingResidues"
   ]
  },
  {
   "cell_type": "code",
   "execution_count": 7,
   "metadata": {
    "collapsed": false
   },
   "outputs": [
    {
     "data": {
      "text/plain": [
       "['1CB0.pdb',\n",
       " '1CK7.pdb',\n",
       " '1DG3.pdb',\n",
       " '1FSU.pdb',\n",
       " '1KHB.pdb',\n",
       " '1N1F.pdb',\n",
       " '1NN6.pdb',\n",
       " '1P49.pdb',\n",
       " '2A2D.pdb',\n",
       " '2AD1.pdb',\n",
       " '2AMY.pdb',\n",
       " '2F83.pdb',\n",
       " '2FOZ.pdb',\n",
       " '2FY2.pdb',\n",
       " '2J5W.pdb',\n",
       " '2JC9.pdb',\n",
       " '2NSM.pdb',\n",
       " '2O9J.pdb',\n",
       " '2OK5.pdb',\n",
       " '2OPW.pdb',\n",
       " '2OZO.pdb',\n",
       " '2PPL.pdb',\n",
       " '2Q8F.pdb',\n",
       " '2VR2.pdb',\n",
       " '2WXW.pdb',\n",
       " '2XDV.pdb',\n",
       " '2YDO.pdb',\n",
       " '2ZGV.pdb',\n",
       " '3APM.pdb',\n",
       " '3B96.pdb',\n",
       " '3BZH.pdb',\n",
       " '3COI.pdb',\n",
       " '3CON.pdb',\n",
       " '3E9K.pdb',\n",
       " '3FED.pdb',\n",
       " '3FQI.pdb',\n",
       " '3FVY.pdb',\n",
       " '3I2N.pdb',\n",
       " '3LFM.pdb',\n",
       " '3LWK.pdb',\n",
       " '3N2Z.pdb',\n",
       " '3NKS.pdb']"
      ]
     },
     "execution_count": 7,
     "metadata": {},
     "output_type": "execute_result"
    }
   ],
   "source": [
    "pdbfiles"
   ]
  },
  {
   "cell_type": "code",
   "execution_count": 8,
   "metadata": {
    "collapsed": false
   },
   "outputs": [
    {
     "name": "stdout",
     "output_type": "stream",
     "text": [
      "1CB0.pdb {(0, 216): ['LYS', 'GLU', 'HIS', 'GLU', 'GLU']}\n",
      "1CK7.pdb {(0, 419): ['ASP', 'ILE', 'ASP', 'LEU', 'GLY', 'THR', 'GLY', 'PRO', 'THR', 'PRO', 'THR']}\n",
      "1DG3.pdb {(0, 213): ['ARG', 'ARG', 'LYS', 'LEU', 'ALA', 'GLN', 'LEU', 'GLU', 'LYS', 'LEU', 'GLN', 'ASP', 'GLU'], (0, 57): ['LYS', 'GLY', 'PHE', 'SER', 'LEU', 'GLY', 'SER', 'THR', 'VAL', 'GLN', 'SER'], (0, 140): ['SER', 'PRO', 'ASP', 'GLU', 'ASN', 'GLU', 'ASN', 'GLU', 'VAL', 'GLU'], (0, 163): ['GLU', 'ALA', 'ASP', 'GLY']}\n",
      "1FSU.pdb {(0, 364): ['PRO', 'ARG', 'ASN', 'SER', 'MET', 'ALA', 'PRO', 'ALA', 'LYS', 'ASP', 'ASP', 'SER', 'SER', 'LEU', 'PRO', 'GLU', 'TYR']}\n",
      "1KHB.pdb {(0, 529): ['LYS', 'ALA'], (0, 455): ['THR', 'ALA', 'ALA', 'ALA', 'GLU', 'HIS', 'LYS', 'GLY']}\n",
      "1N1F.pdb {(0, 101): ['GLU', 'GLN', 'ARG']}\n",
      "1NN6.pdb {(0, 172): ['LYS', 'SER']}\n",
      "1P49.pdb {(0, 454): ['GLY', 'SER', 'ASN', 'GLY']}\n",
      "2A2D.pdb {(0, 429): ['ARG', 'SER', 'ASP', 'GLY', 'SER', 'LEU', 'ALA', 'PRO', 'GLU']}\n",
      "2AD1.pdb {(0, 211): ['SER', 'PHE', 'ASP', 'VAL', 'MET', 'LYS', 'GLN', 'ASN', 'PRO', 'MET', 'ALA', 'ASN', 'TYR', 'SER', 'SER', 'ILE', 'PRO', 'ALA', 'GLU', 'ILE', 'MET', 'ASP', 'HIS', 'SER', 'ILE', 'SER', 'PRO', 'PHE', 'MET', 'ARG', 'LYS', 'GLY', 'ALA'], (0, 66): ['ALA', 'PRO', 'THR', 'HIS', 'GLN', 'ARG'], (0, 74): ['PRO', 'SER', 'LEU', 'GLY']}\n",
      "2AMY.pdb {(0, 209): ['PRO', 'GLY', 'GLY']}\n",
      "2F83.pdb {(0, 563): ['CYS', 'ALA', 'GLN', 'ARG'], (0, 501): ['TYR', 'ARG', 'LYS', 'LEU', 'ARG', 'ASP'], (0, 536): ['GLY', 'TYR', 'ARG', 'GLU', 'GLY', 'GLY', 'LYS', 'ASP', 'ALA', 'CYS']}\n",
      "2FOZ.pdb {(0, 46): ['GLY', 'THR', 'PRO', 'GLY', 'SER', 'GLU', 'ARG', 'THR']}\n",
      "2J5W.pdb {(0, 475): ['TYR', 'ASN', 'PRO', 'GLN', 'SER', 'ARG', 'SER'], (0, 877): ['TYR', 'LEU', 'LYS', 'VAL', 'PHE']}\n",
      "2JC9.pdb {(0, 398): ['GLU', 'LEU', 'TYR', 'LYS', 'HIS', 'LEU', 'ASP', 'SER', 'SER', 'SER', 'ASN', 'GLU', 'ARG', 'PRO', 'ASP', 'ILE', 'SER', 'SER', 'ILE']}\n",
      "2O9J.pdb {(0, 275): ['ILE', 'GLY', 'HIS', 'PHE', 'ASN', 'ASP', 'PRO', 'VAL', 'HIS', 'GLY', 'GLY', 'SER', 'TRP', 'ILE']}\n",
      "2OK5.pdb {(0, 209): ['GLU', 'GLY', 'VAL', 'ASP', 'ALA', 'GLU', 'ASP', 'GLY', 'HIS', 'GLY', 'PRO', 'GLY', 'GLU', 'GLN', 'GLN'], (0, 297): ['ASP', 'HIS', 'LYS', 'LEU', 'LYS', 'SER'], (0, 314): ['PRO', 'ASP', 'ASP']}\n",
      "2OPW.pdb {(0, 205): ['VAL', 'GLY', 'SER', 'ALA']}\n",
      "2OZO.pdb {(0, 433): ['ALA', 'ASP', 'ASP', 'SER', 'TYR', 'TYR', 'THR', 'ALA', 'ARG', 'SER', 'ALA', 'GLY', 'LYS', 'TRP'], (0, 255): ['SER', 'SER', 'ALA', 'SER', 'ASN', 'ALA', 'SER', 'GLY', 'ALA', 'ALA', 'ALA', 'PRO', 'THR', 'LEU', 'PRO', 'ALA', 'HIS', 'PRO', 'SER', 'THR', 'LEU', 'THR', 'HIS', 'PRO', 'GLN', 'ARG', 'ARG', 'ILE', 'ASP', 'THR', 'LEU', 'ASN', 'SER', 'ASP', 'GLY', 'TYR', 'THR', 'PRO', 'GLU', 'PRO', 'ALA', 'ARG', 'ILE', 'THR', 'SER', 'PRO', 'ASP', 'LYS', 'PRO', 'ARG', 'PRO', 'MET', 'PRO']}\n",
      "2PPL.pdb {(0, 319): ['THR', 'SER', 'GLU']}\n",
      "2Q8F.pdb {(0, 27): ['VAL', 'ASN', 'ALA'], (0, 358): ['HIS', 'GLU'], (0, 158): ['GLY', 'LYS', 'GLY', 'LYS', 'GLY', 'SER', 'PRO', 'SER', 'HIS', 'ARG', 'LYS'], (0, 124): ['GLY', 'VAL']}\n",
      "2VR2.pdb {(0, 33): ['ASP', 'LEU', 'LEU', 'PRO', 'PRO', 'GLY', 'GLY', 'ALA', 'PRO', 'ALA', 'GLY']}\n",
      "2WXW.pdb {(0, 404): ['ARG', 'GLU', 'PRO', 'THR', 'GLU', 'SER', 'THR', 'GLN', 'GLN', 'LEU', 'ASN', 'LYS']}\n",
      "2XDV.pdb {(0, 302): ['ASP', 'GLN', 'ASP', 'GLN', 'SER', 'ASP', 'GLU', 'THR', 'GLN'], (0, 233): ['VAL'], (0, 323): ['GLU', 'GLU', 'GLU', 'THR', 'GLU', 'PHE'], (0, 61): ['SER', 'ARG', 'GLY', 'MET', 'TYR', 'TYR', 'GLY', 'ARG', 'ASP', 'VAL', 'ASN', 'VAL', 'CYS', 'ARG', 'CYS', 'VAL', 'ASN', 'GLY', 'LYS', 'LYS', 'LYS', 'VAL', 'LEU', 'ASN', 'LYS', 'ASP', 'GLY', 'LYS', 'ALA', 'HIS', 'PHE', 'LEU', 'GLN', 'LEU', 'ARG'], (0, 279): ['GLY', 'ASP', 'GLY', 'ALA', 'GLU', 'LEU', 'SER', 'THR', 'PRO', 'GLY', 'GLY']}\n",
      "2YDO.pdb {(0, 208): ['GLN', 'PRO', 'LEU', 'PRO', 'GLY', 'GLU', 'ARG', 'ALA', 'ARG', 'SER']}\n",
      "2ZGV.pdb {(0, 371): ['GLY', 'ASP', 'THR', 'ALA', 'THR', 'CYS', 'CYS', 'ALA', 'LYS', 'TRP', 'ASN', 'THR']}\n",
      "3APM.pdb {(0, 47): ['GLY', 'PRO', 'PRO', 'ALA', 'LYS', 'LYS', 'LYS', 'SER', 'THR', 'GLY', 'SER'], (0, 308): ['PRO', 'ARG', 'ASN', 'ARG', 'GLY', 'LEU', 'LYS', 'GLU', 'PHE', 'PRO', 'ILE', 'LYS', 'ARG', 'VAL', 'MET', 'GLY', 'PRO'], (0, 110): ['PRO', 'THR', 'ARG', 'ALA', 'VAL', 'LYS', 'ASP'], (0, 179): ['GLY', 'LYS', 'LEU', 'SER', 'SER'], (0, 429): ['GLU', 'GLY', 'ILE', 'LYS', 'LYS', 'LYS'], (0, 268): ['ILE', 'PHE', 'GLU', 'ASN', 'GLU', 'ASP', 'PHE'], (0, 31): ['ALA', 'PRO', 'GLU', 'ASP', 'CYS', 'THR'], (0, 132): ['ASN', 'LEU', 'GLU', 'SER', 'SER', 'ALA', 'MET', 'ASP', 'CYS', 'GLU', 'ASP', 'ASP', 'GLU', 'VAL'], (0, 286): ['PRO', 'GLU', 'GLU', 'GLU', 'ASN', 'MET', 'ASP', 'ASP', 'GLN', 'TRP', 'MET'], (0, 540): ['PHE', 'PHE', 'THR', 'TYR', 'HIS', 'ILE', 'ARG', 'HIS', 'GLY', 'GLU', 'VAL', 'HIS'], (0, 316): ['PRO', 'GLN', 'THR', 'GLY', 'GLY', 'ILE', 'SER']}\n",
      "3B96.pdb {(0, 417): ['GLY', 'LEU', 'GLY', 'SER', 'ALA', 'LEU', 'LYS', 'ASN', 'PRO', 'PHE', 'GLY', 'ASN', 'ALA', 'GLY', 'LEU', 'LEU', 'LEU', 'GLY', 'GLU', 'ALA', 'GLY', 'LYS', 'GLN', 'LEU', 'ARG', 'ARG', 'ARG', 'ALA', 'GLY', 'LEU', 'GLY', 'SER', 'GLY']}\n",
      "3BZH.pdb {(0, 7): ['THR', 'PRO', 'LYS', 'LYS', 'LYS', 'GLU', 'SER', 'LYS', 'VAL', 'SER', 'MET', 'SER']}\n",
      "3COI.pdb {(0, 175): ['ALA', 'ASP', 'ALA', 'GLU', 'MET', 'THR', 'GLY', 'TYR']}\n",
      "3CON.pdb {(0, 60): ['GLN', 'GLU', 'GLU', 'TYR', 'SER', 'ALA', 'MET', 'ARG', 'ASP', 'GLN', 'TYR']}\n",
      "3E9K.pdb {(0, 372): ['LYS', 'ASP', 'LYS', 'ALA', 'ALA', 'THR', 'LYS', 'LYS', 'PRO']}\n",
      "3FED.pdb {(0, 278): ['ASP'], (0, 87): ['TYR', 'LEU', 'GLU']}\n",
      "3FQI.pdb {(0, 47): ['ILE', 'ASN', 'GLY', 'PRO', 'GLY'], (0, 84): ['LEU', 'GLU', 'GLY', 'GLY', 'PRO']}\n",
      "3FVY.pdb {(0, 219): ['PRO', 'SER', 'LEU', 'ASP']}\n",
      "3I2N.pdb {(0, 289): ['SER', 'LYS'], (0, 34): ['PHE', 'ALA']}\n",
      "3LFM.pdb {(0, 385): ['LEU'], (0, 96): ['GLY', 'SER', 'ASN', 'ILE', 'LYS', 'HIS', 'THR', 'GLU'], (0, 126): ['LYS', 'GLU', 'LYS', 'ALA', 'ASN', 'GLU', 'ASP', 'ALA', 'VAL', 'PRO', 'LEU', 'CYS', 'MET', 'SER', 'ALA', 'ASP', 'PHE', 'PRO', 'ARG', 'VAL', 'GLY', 'MET', 'GLY', 'SER', 'SER', 'TYR', 'ASN', 'GLY', 'GLN'], (0, 349): ['GLY', 'LEU', 'PRO'], (0, 188): ['GLY', 'PRO', 'GLU', 'GLU', 'GLU', 'SER', 'GLU', 'ASP', 'ASP', 'SER', 'HIS', 'LEU', 'GLU']}\n",
      "3N2Z.pdb {(0, 303): ['THR', 'ALA', 'THR', 'SER']}\n",
      "3NKS.pdb {(0, 113): ['LEU', 'LEU', 'ARG'], (0, 200): ['ALA', 'GLY', 'ARG', 'THR', 'PRO']}\n"
     ]
    }
   ],
   "source": [
    "for pdbfil in pdbfiles:\n",
    "    #print pdbfil, findmissing(pdbfil)\n",
    "    if findmissing(pdbfil):\n",
    "        print pdbfil, findmissing(pdbfil)\n",
    "        #fixer.addMissingAtoms()\n",
    "        #fixer.pdb.writeFile(fixer.topology,fixer.positions,file=open(pdbfil+'mdl','w'))"
   ]
  },
  {
   "cell_type": "code",
   "execution_count": 9,
   "metadata": {
    "collapsed": false
   },
   "outputs": [],
   "source": [
    "import pdbfixer\n"
   ]
  },
  {
   "cell_type": "code",
   "execution_count": 10,
   "metadata": {
    "collapsed": true
   },
   "outputs": [],
   "source": [
    "def fixpdb(pdbfile):\n",
    "    \"Only select the first chain of a protein and model the center\"\n",
    "    import pdbfixer\n",
    "    fixer = pdbfixer.PDBFixer(filename=pdbfile)\n",
    "    numChains = len(list(fixer.topology.chains()))\n",
    "    fixer.removeChains(range(1,numChains))\n",
    "    fixer.findMissingResidues()\n",
    "    keys = fixer.missingResidues.keys()\n",
    "    chains = list(fixer.topology.chains())    \n",
    "    for key in keys:\n",
    "        chain = chains[key[0]]\n",
    "        if key[1] == 0 or key[1] == len( list(chain.residues())):\n",
    "            del fixer.missingResidues[key]\n",
    "    print fixer.missingResidues \n",
    "    fixer.findMissingAtoms()\n",
    "    fixer.addMissingAtoms()\n",
    "    fixer.pdb.writeFile(fixer.topology,fixer.positions,file=open(pdbfile+'mdl','w'))"
   ]
  },
  {
   "cell_type": "code",
   "execution_count": 11,
   "metadata": {
    "collapsed": false
   },
   "outputs": [
    {
     "name": "stdout",
     "output_type": "stream",
     "text": [
      "{(0, 216): ['LYS', 'GLU', 'HIS', 'GLU', 'GLU']}\n",
      "{(0, 419): ['ASP', 'ILE', 'ASP', 'LEU', 'GLY', 'THR', 'GLY', 'PRO', 'THR', 'PRO', 'THR']}\n",
      "{(0, 213): ['ARG', 'ARG', 'LYS', 'LEU', 'ALA', 'GLN', 'LEU', 'GLU', 'LYS', 'LEU', 'GLN', 'ASP', 'GLU'], (0, 57): ['LYS', 'GLY', 'PHE', 'SER', 'LEU', 'GLY', 'SER', 'THR', 'VAL', 'GLN', 'SER'], (0, 140): ['SER', 'PRO', 'ASP', 'GLU', 'ASN', 'GLU', 'ASN', 'GLU', 'VAL', 'GLU'], (0, 163): ['GLU', 'ALA', 'ASP', 'GLY']}\n",
      "{(0, 364): ['PRO', 'ARG', 'ASN', 'SER', 'MET', 'ALA', 'PRO', 'ALA', 'LYS', 'ASP', 'ASP', 'SER', 'SER', 'LEU', 'PRO', 'GLU', 'TYR']}\n",
      "{(0, 529): ['LYS', 'ALA'], (0, 455): ['THR', 'ALA', 'ALA', 'ALA', 'GLU', 'HIS', 'LYS', 'GLY']}\n",
      "{(0, 101): ['GLU', 'GLN', 'ARG']}\n",
      "{(0, 172): ['LYS', 'SER']}\n",
      "{(0, 454): ['GLY', 'SER', 'ASN', 'GLY']}\n",
      "{(0, 429): ['ARG', 'SER', 'ASP', 'GLY', 'SER', 'LEU', 'ALA', 'PRO', 'GLU']}\n",
      "{(0, 211): ['SER', 'PHE', 'ASP', 'VAL', 'MET', 'LYS', 'GLN', 'ASN', 'PRO', 'MET', 'ALA', 'ASN', 'TYR', 'SER', 'SER', 'ILE', 'PRO', 'ALA', 'GLU', 'ILE', 'MET', 'ASP', 'HIS', 'SER', 'ILE', 'SER', 'PRO', 'PHE', 'MET', 'ARG', 'LYS', 'GLY', 'ALA'], (0, 66): ['ALA', 'PRO', 'THR', 'HIS', 'GLN', 'ARG'], (0, 74): ['PRO', 'SER', 'LEU', 'GLY']}\n",
      "{(0, 209): ['PRO', 'GLY', 'GLY']}\n",
      "{(0, 563): ['CYS', 'ALA', 'GLN', 'ARG'], (0, 501): ['TYR', 'ARG', 'LYS', 'LEU', 'ARG', 'ASP'], (0, 536): ['GLY', 'TYR', 'ARG', 'GLU', 'GLY', 'GLY', 'LYS', 'ASP', 'ALA', 'CYS']}\n",
      "{(0, 46): ['GLY', 'THR', 'PRO', 'GLY', 'SER', 'GLU', 'ARG', 'THR']}\n",
      "{}\n",
      "{(0, 475): ['TYR', 'ASN', 'PRO', 'GLN', 'SER', 'ARG', 'SER'], (0, 877): ['TYR', 'LEU', 'LYS', 'VAL', 'PHE']}\n",
      "{(0, 398): ['GLU', 'LEU', 'TYR', 'LYS', 'HIS', 'LEU', 'ASP', 'SER', 'SER', 'SER', 'ASN', 'GLU', 'ARG', 'PRO', 'ASP', 'ILE', 'SER', 'SER', 'ILE']}\n",
      "{}\n",
      "{(0, 275): ['ILE', 'GLY', 'HIS', 'PHE', 'ASN', 'ASP', 'PRO', 'VAL', 'HIS', 'GLY', 'GLY', 'SER', 'TRP', 'ILE']}\n",
      "{(0, 209): ['GLU', 'GLY', 'VAL', 'ASP', 'ALA', 'GLU', 'ASP', 'GLY', 'HIS', 'GLY', 'PRO', 'GLY', 'GLU', 'GLN', 'GLN'], (0, 297): ['ASP', 'HIS', 'LYS', 'LEU', 'LYS', 'SER'], (0, 314): ['PRO', 'ASP', 'ASP']}\n",
      "{(0, 205): ['VAL', 'GLY', 'SER', 'ALA']}\n",
      "{(0, 433): ['ALA', 'ASP', 'ASP', 'SER', 'TYR', 'TYR', 'THR', 'ALA', 'ARG', 'SER', 'ALA', 'GLY', 'LYS', 'TRP'], (0, 255): ['SER', 'SER', 'ALA', 'SER', 'ASN', 'ALA', 'SER', 'GLY', 'ALA', 'ALA', 'ALA', 'PRO', 'THR', 'LEU', 'PRO', 'ALA', 'HIS', 'PRO', 'SER', 'THR', 'LEU', 'THR', 'HIS', 'PRO', 'GLN', 'ARG', 'ARG', 'ILE', 'ASP', 'THR', 'LEU', 'ASN', 'SER', 'ASP', 'GLY', 'TYR', 'THR', 'PRO', 'GLU', 'PRO', 'ALA', 'ARG', 'ILE', 'THR', 'SER', 'PRO', 'ASP', 'LYS', 'PRO', 'ARG', 'PRO', 'MET', 'PRO']}\n",
      "{(0, 319): ['THR', 'SER', 'GLU']}\n",
      "{(0, 27): ['VAL', 'ASN', 'ALA'], (0, 358): ['HIS', 'GLU'], (0, 158): ['GLY', 'LYS', 'GLY', 'LYS', 'GLY', 'SER', 'PRO', 'SER', 'HIS', 'ARG', 'LYS'], (0, 124): ['GLY', 'VAL']}\n",
      "{(0, 33): ['ASP', 'LEU', 'LEU', 'PRO', 'PRO', 'GLY', 'GLY', 'ALA', 'PRO', 'ALA', 'GLY']}\n",
      "{(0, 404): ['ARG', 'GLU', 'PRO', 'THR', 'GLU', 'SER', 'THR', 'GLN', 'GLN', 'LEU', 'ASN', 'LYS']}\n",
      "{(0, 302): ['ASP', 'GLN', 'ASP', 'GLN', 'SER', 'ASP', 'GLU', 'THR', 'GLN'], (0, 233): ['VAL'], (0, 323): ['GLU', 'GLU', 'GLU', 'THR', 'GLU', 'PHE'], (0, 61): ['SER', 'ARG', 'GLY', 'MET', 'TYR', 'TYR', 'GLY', 'ARG', 'ASP', 'VAL', 'ASN', 'VAL', 'CYS', 'ARG', 'CYS', 'VAL', 'ASN', 'GLY', 'LYS', 'LYS', 'LYS', 'VAL', 'LEU', 'ASN', 'LYS', 'ASP', 'GLY', 'LYS', 'ALA', 'HIS', 'PHE', 'LEU', 'GLN', 'LEU', 'ARG'], (0, 279): ['GLY', 'ASP', 'GLY', 'ALA', 'GLU', 'LEU', 'SER', 'THR', 'PRO', 'GLY', 'GLY']}\n",
      "{(0, 208): ['GLN', 'PRO', 'LEU', 'PRO', 'GLY', 'GLU', 'ARG', 'ALA', 'ARG', 'SER']}\n",
      "{(0, 371): ['GLY', 'ASP', 'THR', 'ALA', 'THR', 'CYS', 'CYS', 'ALA', 'LYS', 'TRP', 'ASN', 'THR']}\n",
      "{(0, 47): ['GLY', 'PRO', 'PRO', 'ALA', 'LYS', 'LYS', 'LYS', 'SER', 'THR', 'GLY', 'SER'], (0, 308): ['PRO', 'ARG', 'ASN', 'ARG', 'GLY', 'LEU', 'LYS', 'GLU', 'PHE', 'PRO', 'ILE', 'LYS', 'ARG', 'VAL', 'MET', 'GLY', 'PRO'], (0, 110): ['PRO', 'THR', 'ARG', 'ALA', 'VAL', 'LYS', 'ASP'], (0, 179): ['GLY', 'LYS', 'LEU', 'SER', 'SER'], (0, 429): ['GLU', 'GLY', 'ILE', 'LYS', 'LYS', 'LYS'], (0, 268): ['ILE', 'PHE', 'GLU', 'ASN', 'GLU', 'ASP', 'PHE'], (0, 31): ['ALA', 'PRO', 'GLU', 'ASP', 'CYS', 'THR'], (0, 132): ['ASN', 'LEU', 'GLU', 'SER', 'SER', 'ALA', 'MET', 'ASP', 'CYS', 'GLU', 'ASP', 'ASP', 'GLU', 'VAL'], (0, 286): ['PRO', 'GLU', 'GLU', 'GLU', 'ASN', 'MET', 'ASP', 'ASP', 'GLN', 'TRP', 'MET'], (0, 540): ['PHE', 'PHE', 'THR', 'TYR', 'HIS', 'ILE', 'ARG', 'HIS', 'GLY', 'GLU', 'VAL', 'HIS'], (0, 316): ['PRO', 'GLN', 'THR', 'GLY', 'GLY', 'ILE', 'SER']}\n",
      "{(0, 417): ['GLY', 'LEU', 'GLY', 'SER', 'ALA', 'LEU', 'LYS', 'ASN', 'PRO', 'PHE', 'GLY', 'ASN', 'ALA', 'GLY', 'LEU', 'LEU', 'LEU', 'GLY', 'GLU', 'ALA', 'GLY', 'LYS', 'GLN', 'LEU', 'ARG', 'ARG', 'ARG', 'ALA', 'GLY', 'LEU', 'GLY', 'SER', 'GLY']}\n",
      "{(0, 7): ['THR', 'PRO', 'LYS', 'LYS', 'LYS', 'GLU', 'SER', 'LYS', 'VAL', 'SER', 'MET', 'SER']}\n",
      "{(0, 175): ['ALA', 'ASP', 'ALA', 'GLU', 'MET', 'THR', 'GLY', 'TYR']}\n",
      "{(0, 60): ['GLN', 'GLU', 'GLU', 'TYR', 'SER', 'ALA', 'MET', 'ARG', 'ASP', 'GLN', 'TYR']}\n",
      "{(0, 372): ['LYS', 'ASP', 'LYS', 'ALA', 'ALA', 'THR', 'LYS', 'LYS', 'PRO']}\n",
      "{(0, 278): ['ASP'], (0, 87): ['TYR', 'LEU', 'GLU']}\n",
      "{(0, 47): ['ILE', 'ASN', 'GLY', 'PRO', 'GLY'], (0, 84): ['LEU', 'GLU', 'GLY', 'GLY', 'PRO']}\n",
      "{(0, 219): ['PRO', 'SER', 'LEU', 'ASP']}\n",
      "{(0, 289): ['SER', 'LYS'], (0, 34): ['PHE', 'ALA']}\n",
      "{(0, 385): ['LEU'], (0, 96): ['GLY', 'SER', 'ASN', 'ILE', 'LYS', 'HIS', 'THR', 'GLU'], (0, 126): ['LYS', 'GLU', 'LYS', 'ALA', 'ASN', 'GLU', 'ASP', 'ALA', 'VAL', 'PRO', 'LEU', 'CYS', 'MET', 'SER', 'ALA', 'ASP', 'PHE', 'PRO', 'ARG', 'VAL', 'GLY', 'MET', 'GLY', 'SER', 'SER', 'TYR', 'ASN', 'GLY', 'GLN'], (0, 349): ['GLY', 'LEU', 'PRO'], (0, 188): ['GLY', 'PRO', 'GLU', 'GLU', 'GLU', 'SER', 'GLU', 'ASP', 'ASP', 'SER', 'HIS', 'LEU', 'GLU']}\n",
      "{}\n",
      "{(0, 303): ['THR', 'ALA', 'THR', 'SER']}\n",
      "{(0, 113): ['LEU', 'LEU', 'ARG'], (0, 200): ['ALA', 'GLY', 'ARG', 'THR', 'PRO']}\n"
     ]
    }
   ],
   "source": [
    "for pdb in pdbfiles:\n",
    "    fixpdb(pdb)"
   ]
  },
  {
   "cell_type": "code",
   "execution_count": null,
   "metadata": {
    "collapsed": true
   },
   "outputs": [],
   "source": []
  }
 ],
 "metadata": {
  "kernelspec": {
   "display_name": "Python 2",
   "language": "python",
   "name": "python2"
  },
  "language_info": {
   "codemirror_mode": {
    "name": "ipython",
    "version": 2
   },
   "file_extension": ".py",
   "mimetype": "text/x-python",
   "name": "python",
   "nbconvert_exporter": "python",
   "pygments_lexer": "ipython2",
   "version": "2.7.11"
  }
 },
 "nbformat": 4,
 "nbformat_minor": 0
}
