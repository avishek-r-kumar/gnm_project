{
 "cells": [
  {
   "cell_type": "code",
   "execution_count": 9,
   "metadata": {
    "collapsed": false
   },
   "outputs": [
    {
     "name": "stdout",
     "output_type": "stream",
     "text": [
      "Populating the interactive namespace from numpy and matplotlib\n"
     ]
    }
   ],
   "source": [
    "%pylab inline\n",
    "import dfi\n",
    "import dfi.fasta_convert\n",
    "import pandas as pd\n",
    "import seaborn as sns\n",
    "import numpy as np\n",
    "from scipy import sparse\n",
    "#import dfi.fastaseq \n",
    "#from dfi.fastaseq import mapres\n",
    "from __future__ import print_function\n",
    "from __future__ import division"
   ]
  },
  {
   "cell_type": "code",
   "execution_count": 10,
   "metadata": {
    "collapsed": true
   },
   "outputs": [],
   "source": [
    "#define pdbid\n",
    "pdbid = '1crm'\n",
    "threashold = '0.5'"
   ]
  },
  {
   "cell_type": "code",
   "execution_count": 11,
   "metadata": {
    "collapsed": false
   },
   "outputs": [],
   "source": [
    "def calc_hessian(x,y,z,Verbose=False):\n",
    "    \"\"\"\n",
    "    Calculate the hessian given the coordinates \n",
    "    \n",
    "    Input\n",
    "    -----\n",
    "    (x,y,z) numpy array\n",
    "       Must all be the same length\n",
    "    Output\n",
    "    ------\n",
    "    kirchhoff: NxN numpy matrix\n",
    "       \n",
    "    \"\"\"\n",
    "    cutoff = 10\n",
    "    gamma = 1\n",
    "    xyz = np.column_stack((x,y,z))\n",
    "    numres = xyz.shape[0]\n",
    "    kirchhoff = np.zeros((numres,numres))\n",
    "    for i in range(numres):\n",
    "        xyz_i = xyz[i]\n",
    "        i_p1 = i + 1\n",
    "        xyz_ij = xyz[i_p1:] - xyz_i\n",
    "        xyz_ij2=np.multiply(xyz_ij,xyz_ij)\n",
    "        cutoff2 = cutoff * cutoff\n",
    "        for j, dist2 in enumerate(xyz_ij2.sum(1)):\n",
    "            if dist2 > cutoff2:\n",
    "                continue\n",
    "            if Verbose:\n",
    "                print(j, dist2)\n",
    "            j += i_p1\n",
    "            kirchhoff[i,j] = -gamma \n",
    "            kirchhoff[j,i] = -gamma \n",
    "            kirchhoff[i,i] += gamma \n",
    "            kirchhoff[j,j] += gamma\n",
    "    return kirchhoff"
   ]
  },
  {
   "cell_type": "code",
   "execution_count": 12,
   "metadata": {
    "collapsed": false
   },
   "outputs": [],
   "source": [
    "# Invert this matrix\n",
    "def invert_kirchhoff(kirchhoff):\n",
    "    \"\"\"\n",
    "    Invert matrix \n",
    "    \"\"\"\n",
    "    from scipy import linalg as LA\n",
    "    U, w, Vt = LA.svd(kirchhoff,full_matrices=False)\n",
    "    S = LA.diagsvd(w,len(w),len(w))\n",
    "    np.allclose(kirchhoff,np.dot(U,np.dot(S,Vt)))\n",
    "    tol = 1e-6\n",
    "    singular = w < tol\n",
    "    assert np.sum(singular) == 1.\n",
    "    invw = 1/w\n",
    "    invw[singular] = 0\n",
    "    inv_kirchhoff = np.dot(np.dot(U,np.diag(invw)),Vt)\n",
    "    return inv_kirchhoff"
   ]
  },
  {
   "cell_type": "markdown",
   "metadata": {},
   "source": [
    "###Use EC from EVfold to generate kirchhoff"
   ]
  },
  {
   "cell_type": "code",
   "execution_count": 13,
   "metadata": {
    "collapsed": false
   },
   "outputs": [],
   "source": [
    "def _build_kirchhoff(evod_file,n):\n",
    "    \"\"\"\n",
    "    Creates a kirchoff matrix using EVfold contacts\n",
    "    Input\n",
    "    -----\n",
    "    evfold input file: str\n",
    "       file from evfold\n",
    "    n: size of the square matrix\n",
    "    Output\n",
    "    ------\n",
    "    kirchoff: NxN numpy matrix\n",
    "       output matrix\n",
    "    \"\"\"\n",
    "\n",
    "    chain = []\n",
    "    chain_connection = np.zeros((n,n))\n",
    "    \n",
    "    #assign a -1 for residues in contact in the chain\n",
    "    for i in range(3, n-3):\n",
    "        #beginning of chain\n",
    "        chain_connection[i-3, i-2] = -1\n",
    "        chain_connection[i-3, i-1] = -1\n",
    "        chain_connection[i-2, i-3] = -1\n",
    "        chain_connection[i-2, i-1] = -1\n",
    "        chain_connection[i-1, i-2] = -1\n",
    "        chain_connection[i-1, i-3] = -1\n",
    "        \n",
    "        \n",
    "        #end of chain\n",
    "        chain_connection[i+3, i+2] = -1\n",
    "        chain_connection[i+3, i+1] = -1\n",
    "        chain_connection[i+2, i+3] = -1\n",
    "        chain_connection[i+2, i+1] = -1\n",
    "        chain_connection[i+1, i+2] = -1\n",
    "        chain_connection[i+1, i+3] = -1\n",
    "        \n",
    "        #middle of chain\n",
    "        chain_connection[i, i+1] = -1\n",
    "        chain_connection[i, i+2] = -1\n",
    "        chain_connection[i, i+3] = -1\n",
    "        chain_connection[i+1, i] = -1\n",
    "        chain_connection[i+2, i] = -1\n",
    "        chain_connection[i+3, i] = -1\n",
    "        chain_connection[i, i-1] = -1\n",
    "        chain_connection[i, i-2] = -1\n",
    "        chain_connection[i, i-3] = -1\n",
    "        chain_connection[i-1, i] = -1\n",
    "        chain_connection[i-2, i] = -1\n",
    "        chain_connection[i-3, i] = -1\n",
    "        \n",
    "        #middle of chain\n",
    "        chain.append([i, i+1, chain_connection[i, i+1]])\n",
    "        chain.append([i, i+2, chain_connection[i, i+2]])\n",
    "        chain.append([i, i+3, chain_connection[i, i+3]])\n",
    "        chain.append([i+1, i, chain_connection[i+1, i]])\n",
    "        chain.append([i+2, i, chain_connection[i+2, i]])\n",
    "        chain.append([i+3, i, chain_connection[i+3, i]])\n",
    "        chain.append([i, i-1, chain_connection[i, i-1]])\n",
    "        chain.append([i, i-2, chain_connection[i, i-2]])\n",
    "        chain.append([i, i-3, chain_connection[i, i-3]])\n",
    "        chain.append([i-1, i, chain_connection[i-1, i]])\n",
    "        chain.append([i-2, i, chain_connection[i-2, i]])\n",
    "        chain.append([i-3, i, chain_connection[i-3, i]])\n",
    "        \n",
    "        #beginning of chain\n",
    "        chain.append([i-3, i-2, chain_connection[i-3, i-2]])\n",
    "        chain.append([i-3, i-1, chain_connection[i-3, i-1]])\n",
    "        chain.append([i-2, i-3, chain_connection[i-2, i-3]])\n",
    "        chain.append([i-2, i-1, chain_connection[i-2, i-1]])\n",
    "        chain.append([i-1, i-2, chain_connection[i-1, i-2]])\n",
    "        chain.append([i-1, i-3, chain_connection[i-1, i-3]])\n",
    "        \n",
    "        #end of chain\n",
    "        chain.append([i+3, i+2, chain_connection[i+3, i+2]])\n",
    "        chain.append([i+3, i+1, chain_connection[i+3, i+1]])\n",
    "        chain.append([i+2, i+3, chain_connection[i+2, i+3]])\n",
    "        chain.append([i+2, i+1, chain_connection[i+2, i+1]])\n",
    "        chain.append([i+1, i+2, chain_connection[i+1, i+2]])\n",
    "        chain.append([i+1, i+3, chain_connection[i+1, i+3]])\n",
    "        \n",
    "    #assign a -1 for EC pairs\n",
    "    \n",
    "    evol = []\n",
    "    evol_const = np.zeros((n,n))\n",
    "    \n",
    "    with open(evod_file, 'r') as file: \n",
    "        for line in file:\n",
    "            a = line.split()\n",
    "            i = int(a[0]) - 1 \n",
    "            j = int(a[1]) - 1\n",
    "            #if (i < n and j < n):\n",
    "            #define threashold\n",
    "            if (a[4] >= threashold):\n",
    "                if (chain_connection[i, j] != -1):\n",
    "                    evol_const[i, j] = -1.0*float(a[4])\n",
    "                    evol_const[j, i] = -1.0*float(a[4])\n",
    "                    evol.append([i, j, evol_const[i, j]])\n",
    "                    evol.append([j, i, evol_const[j, i]])\n",
    "    \n",
    "    #build kirchoff matrix\n",
    "    kirchhoff = np.zeros((n,n))\n",
    "    kirchhoff = chain_connection + evol_const\n",
    "    print('generated kirchhoff using evolutionary constraints')\n",
    "    print('kirchhoff shape: ', kirchhoff.shape)\n",
    "    \n",
    "    #calculate the diagonal\n",
    "    diag = []\n",
    "    for i in range(0, n):\n",
    "        kirchhoff[i, i] = -np.sum(kirchhoff[i])\n",
    "        diag.append([i, i, kirchhoff[i, i]])\n",
    "    \n",
    "    #put everything together for a file\n",
    "    all = chain + evol + diag\n",
    "\n",
    "    #make the kirchhoff matrix unique\n",
    "    nodupes = []\n",
    "    [nodupes.append(i) for i in all if not nodupes.count(i)]   \n",
    "    nodupes.sort()\n",
    "    \n",
    "    f = open('evfold_kirchhoff.txt', 'w')\n",
    "    for x in nodupes:\n",
    "        f.write('%s \\t %s \\t %s \\n' % (x[0], x[1], x[2]))\n",
    "    f.close()\n",
    "\n",
    "    return kirchhoff;"
   ]
  },
  {
   "cell_type": "code",
   "execution_count": 14,
   "metadata": {
    "collapsed": false
   },
   "outputs": [],
   "source": [
    "#exctract top EC pairs from contactfile \n",
    "\n",
    "contactfile = open('contacts', 'w')\n",
    "with open('contactmap.txt', 'r') as file:\n",
    "    for line in file:\n",
    "        if line[0].isdigit():\n",
    "            contactfile.write('%s' % (line))\n",
    "contactfile.close()"
   ]
  },
  {
   "cell_type": "code",
   "execution_count": 15,
   "metadata": {
    "collapsed": false
   },
   "outputs": [],
   "source": [
    "#dfi.fetch_pdb('5pnt')\n",
    "mdlpdbfile=pdbid+'.pdbmdl'\n",
    "exptpdbfile=pdbid+'.pdb'\n",
    "evoDfile='contacts'\n",
    "uniprotID='Q13126'"
   ]
  },
  {
   "cell_type": "code",
   "execution_count": 16,
   "metadata": {
    "collapsed": false
   },
   "outputs": [
    {
     "name": "stdout",
     "output_type": "stream",
     "text": [
      "Read 256 atoms from the 1crm.pdbmdl\n"
     ]
    },
    {
     "ename": "NameError",
     "evalue": "name 'mapres' is not defined",
     "output_type": "error",
     "traceback": [
      "\u001b[0;31m---------------------------------------------------------------------------\u001b[0m",
      "\u001b[0;31mNameError\u001b[0m                                 Traceback (most recent call last)",
      "\u001b[0;32m<ipython-input-16-a18a8616878d>\u001b[0m in \u001b[0;36m<module>\u001b[0;34m()\u001b[0m\n\u001b[1;32m      3\u001b[0m \u001b[0mx\u001b[0m\u001b[0;34m,\u001b[0m\u001b[0my\u001b[0m\u001b[0;34m,\u001b[0m\u001b[0mz\u001b[0m \u001b[0;34m=\u001b[0m \u001b[0mdfi\u001b[0m\u001b[0;34m.\u001b[0m\u001b[0mgetcoords\u001b[0m\u001b[0;34m(\u001b[0m\u001b[0mATOMS\u001b[0m\u001b[0;34m)\u001b[0m\u001b[0;34m\u001b[0m\u001b[0m\n\u001b[1;32m      4\u001b[0m \u001b[0mnumres\u001b[0m \u001b[0;34m=\u001b[0m \u001b[0mlen\u001b[0m\u001b[0;34m(\u001b[0m\u001b[0mx\u001b[0m\u001b[0;34m)\u001b[0m\u001b[0;34m\u001b[0m\u001b[0m\n\u001b[0;32m----> 5\u001b[0;31m \u001b[0mmdlseq\u001b[0m\u001b[0;34m=\u001b[0m\u001b[0;34m[\u001b[0m\u001b[0mmapres\u001b[0m\u001b[0;34m[\u001b[0m\u001b[0matom\u001b[0m\u001b[0;34m.\u001b[0m\u001b[0mres_name\u001b[0m\u001b[0;34m]\u001b[0m \u001b[0;32mfor\u001b[0m \u001b[0matom\u001b[0m \u001b[0;32min\u001b[0m \u001b[0mATOMS\u001b[0m\u001b[0;34m]\u001b[0m\u001b[0;34m\u001b[0m\u001b[0m\n\u001b[0m\u001b[1;32m      6\u001b[0m \u001b[0mkirchhoff\u001b[0m \u001b[0;34m=\u001b[0m \u001b[0mcalc_hessian\u001b[0m\u001b[0;34m(\u001b[0m\u001b[0mx\u001b[0m\u001b[0;34m,\u001b[0m\u001b[0my\u001b[0m\u001b[0;34m,\u001b[0m\u001b[0mz\u001b[0m\u001b[0;34m)\u001b[0m\u001b[0;34m\u001b[0m\u001b[0m\n\u001b[1;32m      7\u001b[0m \u001b[0minv_kirchhoff\u001b[0m \u001b[0;34m=\u001b[0m \u001b[0minvert_kirchhoff\u001b[0m\u001b[0;34m(\u001b[0m\u001b[0mkirchhoff\u001b[0m\u001b[0;34m)\u001b[0m\u001b[0;34m\u001b[0m\u001b[0m\n",
      "\u001b[0;31mNameError\u001b[0m: name 'mapres' is not defined"
     ]
    }
   ],
   "source": [
    "#PDB MODEL\n",
    "ATOMS = dfi.pdbio.pdb_reader(mdlpdbfile,CAonly=True)\n",
    "x,y,z = dfi.getcoords(ATOMS)\n",
    "numres = len(x)\n",
    "mdlseq=[mapres[atom.res_name] for atom in ATOMS]\n",
    "kirchhoff = calc_hessian(x,y,z)\n",
    "inv_kirchhoff = invert_kirchhoff(kirchhoff)\n",
    "mdl_diag = np.array([inv_kirchhoff[i,i] for i in range(numres)])\n",
    "pdblen=len(mdlseq)\n",
    "print(pdblen)"
   ]
  },
  {
   "cell_type": "code",
   "execution_count": null,
   "metadata": {
    "collapsed": false
   },
   "outputs": [],
   "source": [
    "#Experimental PDB \n",
    "expt_ATOM = dfi.pdbio.pdb_reader(exptpdbfile,CAonly=True)\n",
    "expt_betafactors = np.array([atom.temp_factor for atom in expt_ATOM])\n",
    "exptseq=[mapres[atom.res_name] for atom in expt_ATOM]"
   ]
  },
  {
   "cell_type": "code",
   "execution_count": null,
   "metadata": {
    "collapsed": false
   },
   "outputs": [],
   "source": [
    "#EVFOLD Contacts \n",
    "str_seq=''.join( dfi.fastaseq.get_fastaseq(uniprotID).split('\\n')[1:] )\n",
    "fastaseq=[s for s in str_seq]\n",
    "#number of residues\n",
    "numseq = len(mdlseq)\n",
    "evodkirchhoff=_build_kirchhoff(evoDfile,numseq)\n",
    "inv_evodkirchhoff=invert_kirchhoff(evodkirchhoff)\n",
    "evo_diag = np.array([inv_evodkirchhoff[i,i] for i in range(numseq)])"
   ]
  },
  {
   "cell_type": "markdown",
   "metadata": {},
   "source": [
    "# Need to align sequences properly"
   ]
  },
  {
   "cell_type": "markdown",
   "metadata": {
    "collapsed": true
   },
   "source": [
    "## Grab the 5pnt fasta sequence "
   ]
  },
  {
   "cell_type": "code",
   "execution_count": null,
   "metadata": {
    "collapsed": false
   },
   "outputs": [],
   "source": [
    "print(len(fastaseq))\n",
    "print(len(mdlseq))\n",
    "print(len(exptseq))"
   ]
  },
  {
   "cell_type": "code",
   "execution_count": null,
   "metadata": {
    "collapsed": false
   },
   "outputs": [],
   "source": [
    "align={'fastaseq':''.join(fastaseq),\n",
    "       'mdlseq':''.join(mdlseq),\n",
    "       'exptseq':''.join(exptseq)}"
   ]
  },
  {
   "cell_type": "code",
   "execution_count": null,
   "metadata": {
    "collapsed": true
   },
   "outputs": [],
   "source": [
    "from clustalo import clustalo"
   ]
  },
  {
   "cell_type": "code",
   "execution_count": null,
   "metadata": {
    "collapsed": false
   },
   "outputs": [],
   "source": [
    "aligned=clustalo(align,seqtype=3)"
   ]
  },
  {
   "cell_type": "code",
   "execution_count": null,
   "metadata": {
    "collapsed": true
   },
   "outputs": [],
   "source": [
    "dft = pd.DataFrame()"
   ]
  },
  {
   "cell_type": "code",
   "execution_count": null,
   "metadata": {
    "collapsed": false
   },
   "outputs": [],
   "source": [
    "aligned"
   ]
  },
  {
   "cell_type": "code",
   "execution_count": null,
   "metadata": {
    "collapsed": true
   },
   "outputs": [],
   "source": [
    "dft['EVfold_R'] = [s for s in aligned['mdlseq']]\n",
    "dft['mdl_R'] = [s for s in aligned['mdlseq']]\n",
    "dft['expt_R'] = [s for s in aligned['exptseq']]"
   ]
  },
  {
   "cell_type": "code",
   "execution_count": null,
   "metadata": {
    "collapsed": false
   },
   "outputs": [],
   "source": [
    "#align b-factors with the corresponding sequence \n",
    "seqtype='fastaR'\n",
    "bfactype='fastaB'\n",
    "evo_diag\n",
    "\n",
    "def align_bfac(seqtype,bfactype,ls_bfac,dft):\n",
    "    \"\"\"\n",
    "    \n",
    "    \"\"\"\n",
    "    align_bfac = []\n",
    "    i=0\n",
    "    for r in dft[seqtype]:\n",
    "        #print(r)\n",
    "        if i >= len(ls_bfac):\n",
    "            break\n",
    "        if r == '-':\n",
    "            align_bfac.append(np.nan)\n",
    "        else:\n",
    "            align_bfac.append(ls_bfac[i])\n",
    "            i+=1\n",
    "    while len(align_bfac) < len(dft[seqtype]):\n",
    "        align_bfac.append(np.nan)\n",
    "\n",
    "    dft[bfactype] = align_bfac"
   ]
  },
  {
   "cell_type": "code",
   "execution_count": null,
   "metadata": {
    "collapsed": false
   },
   "outputs": [],
   "source": [
    "align_bfac('EVfold_R','EVfold_B',evo_diag,dft)\n",
    "align_bfac('mdl_R','mdl_B',mdl_diag,dft)\n",
    "align_bfac('expt_R','expt_B',expt_betafactors,dft)"
   ]
  },
  {
   "cell_type": "code",
   "execution_count": null,
   "metadata": {
    "collapsed": true
   },
   "outputs": [],
   "source": [
    "dft.to_csv(exptpdbfile[0:4]+'_align.csv',index=False)"
   ]
  },
  {
   "cell_type": "code",
   "execution_count": null,
   "metadata": {
    "collapsed": false
   },
   "outputs": [],
   "source": [
    "dft.dropna().corr()"
   ]
  },
  {
   "cell_type": "code",
   "execution_count": null,
   "metadata": {
    "collapsed": false
   },
   "outputs": [],
   "source": [
    "#obtain correlation coefficients\n",
    "correl = dft[[i for i in dft.columns if '_B' in i]].dropna().corr()\n",
    "print(correl)\n",
    "correl.to_csv(exptpdbfile[0:4]+'_corr.csv') "
   ]
  },
  {
   "cell_type": "markdown",
   "metadata": {
    "collapsed": true
   },
   "source": [
    "##Make b-factor plot"
   ]
  },
  {
   "cell_type": "code",
   "execution_count": null,
   "metadata": {
    "collapsed": true
   },
   "outputs": [],
   "source": [
    "#prepare data for plotting\n",
    "align_csv = pdbid+'_align.csv'\n",
    "corr_csv = pdbid+'_corr.csv'\n",
    "df = pd.DataFrame(pd.read_csv(align_csv))\n",
    "cf = pd.DataFrame(pd.read_csv(corr_csv))\n",
    "evfold_exp = cf.get_value(2,'EVfold_B')\n",
    "evfold_mdl = cf.get_value(1, 'EVfold_B')\n",
    "mdl_exp = cf.get_value(2,'mdl_B')\n",
    "df = df.dropna()\n",
    "\n",
    "#make normalized b-factors for plotting \n",
    "df['EVfold_Bnorm'] = df['EVfold_B']/df['EVfold_B'].sum()\n",
    "df['mdl_Bnorm'] = df['mdl_B']/df['mdl_B'].sum()\n",
    "df['expt_Bnorm'] = df['expt_B']/df['expt_B'].sum()\n",
    "#for index,row in df.iterrows():\n",
    "    #print row['EVfold_B']/df['EVfold_B'].sum()"
   ]
  },
  {
   "cell_type": "code",
   "execution_count": null,
   "metadata": {
    "collapsed": false
   },
   "outputs": [],
   "source": [
    "#plot the b-factors for evfold, mdl, and expt\n",
    "plt.figure()  \n",
    "plt.figure(figsize=(17, 6))\n",
    "sns.set_style(\"whitegrid\")\n",
    "sns.set_context(\"poster\", font_scale=2.0)\n",
    "plt.plot(df['EVfold_Bnorm'], color='b', label='EVcouplings: '+str(round(evfold_exp,2))+', '+str(round(evfold_mdl,2)))\n",
    "plt.plot(df['mdl_Bnorm'], color='r', label='Structure: '+str(round(mdl_exp,2)))\n",
    "plt.plot(df['expt_Bnorm'], color='k', label='Experiment')\n",
    "#plt.ylim(0,0.009)\n",
    "#plt.xlim(0,pdblen)\n",
    "plt.ylabel('B-factor')\n",
    "#plt.xlabel('Residue')\n",
    "plt.title('PDB: '+pdbid.upper())\n",
    "plt.legend(fontsize=20, loc='upper center', ncol=3)\n",
    "#plt.legend(bbox_to_anchor=(1.24, 0.8), loc='right', ncol=1, fontsize=20)\n",
    "plt.tight_layout()\n",
    "plt.savefig('bfactor_'+pdbid+'.png')"
   ]
  },
  {
   "cell_type": "markdown",
   "metadata": {
    "collapsed": true
   },
   "source": [
    "##Make contact map"
   ]
  },
  {
   "cell_type": "code",
   "execution_count": null,
   "metadata": {
    "collapsed": false
   },
   "outputs": [],
   "source": [
    "#structure\n",
    "sB = sparse.csr_matrix(kirchhoff)\n",
    "plt.spy(sB, color='r')\n",
    "plt.setp(labels, rotation=90)\n",
    "plt.show()"
   ]
  },
  {
   "cell_type": "code",
   "execution_count": null,
   "metadata": {
    "collapsed": false
   },
   "outputs": [],
   "source": [
    "#evolution\n",
    "sA = sparse.csr_matrix(evodkirchhoff)\n",
    "plt.spy(sA, color='b')\n",
    "plt.show()"
   ]
  },
  {
   "cell_type": "code",
   "execution_count": null,
   "metadata": {
    "collapsed": false
   },
   "outputs": [],
   "source": [
    "#combined contactmaps\n",
    "fig = plt.figure()\n",
    "\n",
    "ax1 = fig.add_subplot(121)\n",
    "ax2 = fig.add_subplot(122)\n",
    "ax1.spy(sA, markersize=6, color='b')\n",
    "ax2.spy(sB, markersize=6, color='r')\n",
    "\n",
    "fig.set_figheight(6)\n",
    "fig.set_figwidth(11)\n",
    "\n",
    "ax1.set_title('Evolution', y=-0.15)\n",
    "ax2.set_title('Structure', y=-0.15)\n",
    "\n",
    "plt.tight_layout()\n",
    "savefig('contactmaps')"
   ]
  },
  {
   "cell_type": "code",
   "execution_count": null,
   "metadata": {
    "collapsed": false
   },
   "outputs": [],
   "source": [
    "sns.set_style(\"whitegrid\")\n",
    "sns.set_context(\"poster\", font_scale=1.4)\n",
    "\n",
    "fig = plt.figure()\n",
    "\n",
    "ax1 = fig.add_subplot(211)\n",
    "ax2 = fig.add_subplot(223)\n",
    "ax3 = fig.add_subplot(224)\n",
    "\n",
    "ax1.plot(df['expt_Bnorm'], color='k', linewidth=2.5, label='Experiment')\n",
    "ax1.plot(df['mdl_Bnorm'], color='#FFA500', linewidth=2.5, alpha=0.5, label='Structure: '+str(round(mdl_exp,2)))\n",
    "ax1.plot(df['EVfold_Bnorm'], color='#8A2BE2', linewidth=2.5, alpha=0.5, label='RaptorX: '+str(round(evfold_exp,2))+', '+str(round(evfold_mdl,2)))\n",
    "ax1.set_title('PDB: '+pdbid.upper()+' (cutoff: '+threashold+')', fontsize=20)\n",
    "ax1.legend(fontsize=16, loc='upper center', ncol=3)\n",
    "\n",
    "ax2.spy(sA, markersize=6, color='#8A2BE2')\n",
    "ax3.spy(sB, markersize=6, color='#FFA500')\n",
    "\n",
    "fig.set_figheight(10)\n",
    "fig.set_figwidth(11)\n",
    "\n",
    "ax2.set_title('RaptorX', fontsize=25, y=-0.12)\n",
    "ax3.set_title('Structure', fontsize=25, y=-0.12)\n",
    "\n",
    "plt.tight_layout()\n",
    "savefig(pdbid+'_combinedplots')"
   ]
  },
  {
   "cell_type": "code",
   "execution_count": null,
   "metadata": {
    "collapsed": true
   },
   "outputs": [],
   "source": []
  }
 ],
 "metadata": {
  "kernelspec": {
   "display_name": "Python 2",
   "language": "python",
   "name": "python2"
  },
  "language_info": {
   "codemirror_mode": {
    "name": "ipython",
    "version": 2
   },
   "file_extension": ".py",
   "mimetype": "text/x-python",
   "name": "python",
   "nbconvert_exporter": "python",
   "pygments_lexer": "ipython2",
   "version": "2.7.11"
  }
 },
 "nbformat": 4,
 "nbformat_minor": 0
}
