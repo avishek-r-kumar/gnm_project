{
 "cells": [
  {
   "cell_type": "code",
   "execution_count": 1,
   "metadata": {
    "collapsed": false
   },
   "outputs": [
    {
     "name": "stdout",
     "output_type": "stream",
     "text": [
      "Populating the interactive namespace from numpy and matplotlib\n"
     ]
    }
   ],
   "source": [
    "%pylab inline\n",
    "import dfi\n",
    "import dfi.fasta_convert\n",
    "import pandas as pd\n",
    "import seaborn as sns\n",
    "import numpy as np\n",
    "from scipy import sparse\n",
    "import dfi.fastaseq \n",
    "from dfi.fastaseq import mapres\n",
    "from __future__ import print_function\n",
    "from __future__ import division"
   ]
  },
  {
   "cell_type": "code",
   "execution_count": 2,
   "metadata": {
    "collapsed": true
   },
   "outputs": [],
   "source": [
    "#define pdbid\n",
    "pdbid = '1crm'\n",
    "threashold = 0.5"
   ]
  },
  {
   "cell_type": "code",
   "execution_count": 3,
   "metadata": {
    "collapsed": false
   },
   "outputs": [],
   "source": [
    "def calc_hessian(x,y,z,Verbose=False):\n",
    "    \"\"\"\n",
    "    Calculate the hessian given the coordinates \n",
    "    \n",
    "    Input\n",
    "    -----\n",
    "    (x,y,z) numpy array\n",
    "       Must all be the same length\n",
    "    Output\n",
    "    ------\n",
    "    kirchhoff: NxN numpy matrix\n",
    "       \n",
    "    \"\"\"\n",
    "    cutoff = 10\n",
    "    gamma = 1\n",
    "    xyz = np.column_stack((x,y,z))\n",
    "    numres = xyz.shape[0]\n",
    "    kirchhoff = np.zeros((numres,numres))\n",
    "    for i in range(numres):\n",
    "        xyz_i = xyz[i]\n",
    "        i_p1 = i + 1\n",
    "        xyz_ij = xyz[i_p1:] - xyz_i\n",
    "        xyz_ij2=np.multiply(xyz_ij,xyz_ij)\n",
    "        cutoff2 = cutoff * cutoff\n",
    "        for j, dist2 in enumerate(xyz_ij2.sum(1)):\n",
    "            if dist2 > cutoff2:\n",
    "                continue\n",
    "            if Verbose:\n",
    "                print(j, dist2)\n",
    "            j += i_p1\n",
    "            kirchhoff[i,j] = -gamma \n",
    "            kirchhoff[j,i] = -gamma \n",
    "            kirchhoff[i,i] += gamma \n",
    "            kirchhoff[j,j] += gamma\n",
    "    return kirchhoff"
   ]
  },
  {
   "cell_type": "code",
   "execution_count": 4,
   "metadata": {
    "collapsed": false
   },
   "outputs": [],
   "source": [
    "# Invert this matrix\n",
    "def invert_kirchhoff(kirchhoff):\n",
    "    \"\"\"\n",
    "    Invert matrix \n",
    "    \"\"\"\n",
    "    from scipy import linalg as LA\n",
    "    U, w, Vt = LA.svd(kirchhoff,full_matrices=False)\n",
    "    S = LA.diagsvd(w,len(w),len(w))\n",
    "    np.allclose(kirchhoff,np.dot(U,np.dot(S,Vt)))\n",
    "    tol = 1e-6\n",
    "    singular = w < tol\n",
    "    assert np.sum(singular) == 1.\n",
    "    invw = 1/w\n",
    "    invw[singular] = 0\n",
    "    inv_kirchhoff = np.dot(np.dot(U,np.diag(invw)),Vt)\n",
    "    return inv_kirchhoff"
   ]
  },
  {
   "cell_type": "markdown",
   "metadata": {},
   "source": [
    "###Use EC from EVfold to generate kirchhoff"
   ]
  },
  {
   "cell_type": "code",
   "execution_count": 5,
   "metadata": {
    "collapsed": false
   },
   "outputs": [],
   "source": [
    "def _build_kirchhoff(evod_file,n):\n",
    "    \"\"\"\n",
    "    Creates a kirchoff matrix using EVfold contacts\n",
    "    Input\n",
    "    -----\n",
    "    evfold input file: str\n",
    "       file from evfold\n",
    "    n: size of the square matrix\n",
    "    Output\n",
    "    ------\n",
    "    kirchoff: NxN numpy matrix\n",
    "       output matrix\n",
    "    \"\"\"\n",
    "\n",
    "    chain = []\n",
    "    chain_connection = np.zeros((n,n))\n",
    "    \n",
    "    #assign a -1 for residues in contact in the chain\n",
    "    for i in range(3, n-3):\n",
    "        #beginning of chain\n",
    "        chain_connection[i-3, i-2] = -1\n",
    "        chain_connection[i-3, i-1] = -1\n",
    "        chain_connection[i-2, i-3] = -1\n",
    "        chain_connection[i-2, i-1] = -1\n",
    "        chain_connection[i-1, i-2] = -1\n",
    "        chain_connection[i-1, i-3] = -1\n",
    "        \n",
    "        \n",
    "        #end of chain\n",
    "        chain_connection[i+3, i+2] = -1\n",
    "        chain_connection[i+3, i+1] = -1\n",
    "        chain_connection[i+2, i+3] = -1\n",
    "        chain_connection[i+2, i+1] = -1\n",
    "        chain_connection[i+1, i+2] = -1\n",
    "        chain_connection[i+1, i+3] = -1\n",
    "        \n",
    "        #middle of chain\n",
    "        chain_connection[i, i+1] = -1\n",
    "        chain_connection[i, i+2] = -1\n",
    "        chain_connection[i, i+3] = -1\n",
    "        chain_connection[i+1, i] = -1\n",
    "        chain_connection[i+2, i] = -1\n",
    "        chain_connection[i+3, i] = -1\n",
    "        chain_connection[i, i-1] = -1\n",
    "        chain_connection[i, i-2] = -1\n",
    "        chain_connection[i, i-3] = -1\n",
    "        chain_connection[i-1, i] = -1\n",
    "        chain_connection[i-2, i] = -1\n",
    "        chain_connection[i-3, i] = -1\n",
    "        \n",
    "        #middle of chain\n",
    "        chain.append([i, i+1, chain_connection[i, i+1]])\n",
    "        chain.append([i, i+2, chain_connection[i, i+2]])\n",
    "        chain.append([i, i+3, chain_connection[i, i+3]])\n",
    "        chain.append([i+1, i, chain_connection[i+1, i]])\n",
    "        chain.append([i+2, i, chain_connection[i+2, i]])\n",
    "        chain.append([i+3, i, chain_connection[i+3, i]])\n",
    "        chain.append([i, i-1, chain_connection[i, i-1]])\n",
    "        chain.append([i, i-2, chain_connection[i, i-2]])\n",
    "        chain.append([i, i-3, chain_connection[i, i-3]])\n",
    "        chain.append([i-1, i, chain_connection[i-1, i]])\n",
    "        chain.append([i-2, i, chain_connection[i-2, i]])\n",
    "        chain.append([i-3, i, chain_connection[i-3, i]])\n",
    "        \n",
    "        #beginning of chain\n",
    "        chain.append([i-3, i-2, chain_connection[i-3, i-2]])\n",
    "        chain.append([i-3, i-1, chain_connection[i-3, i-1]])\n",
    "        chain.append([i-2, i-3, chain_connection[i-2, i-3]])\n",
    "        chain.append([i-2, i-1, chain_connection[i-2, i-1]])\n",
    "        chain.append([i-1, i-2, chain_connection[i-1, i-2]])\n",
    "        chain.append([i-1, i-3, chain_connection[i-1, i-3]])\n",
    "        \n",
    "        #end of chain\n",
    "        chain.append([i+3, i+2, chain_connection[i+3, i+2]])\n",
    "        chain.append([i+3, i+1, chain_connection[i+3, i+1]])\n",
    "        chain.append([i+2, i+3, chain_connection[i+2, i+3]])\n",
    "        chain.append([i+2, i+1, chain_connection[i+2, i+1]])\n",
    "        chain.append([i+1, i+2, chain_connection[i+1, i+2]])\n",
    "        chain.append([i+1, i+3, chain_connection[i+1, i+3]])\n",
    "        \n",
    "    #assign a -1 for EC pairs\n",
    "    \n",
    "    evol = []\n",
    "    evol_const = np.zeros((n,n))\n",
    "    \n",
    "    with open(evod_file, 'r') as file: \n",
    "        for line in file:\n",
    "            continue\n",
    "            a = line.split()\n",
    "            i = int(a[0]) - 1 \n",
    "            j = int(a[1]) - 1\n",
    "            #if (i < n and j < n):\n",
    "            #define threashold\n",
    "            if (a[4] >= threashold):\n",
    "                if (chain_connection[i, j] != -1):\n",
    "                    evol_const[i, j] = -1.0*float(a[4])\n",
    "                    evol_const[j, i] = -1.0*float(a[4])\n",
    "                    evol.append([i, j, evol_const[i, j]])\n",
    "                    evol.append([j, i, evol_const[j, i]])\n",
    "    \n",
    "    #build kirchoff matrix\n",
    "    kirchhoff = np.zeros((n,n))\n",
    "    kirchhoff = chain_connection + evol_const\n",
    "    print('generated kirchhoff using evolutionary constraints')\n",
    "    print('kirchhoff shape: ', kirchhoff.shape)\n",
    "    \n",
    "    #calculate the diagonal\n",
    "    diag = []\n",
    "    for i in range(0, n):\n",
    "        kirchhoff[i, i] = -np.sum(kirchhoff[i])\n",
    "        diag.append([i, i, kirchhoff[i, i]])\n",
    "    \n",
    "    #put everything together for a file\n",
    "    all = chain + evol + diag\n",
    "\n",
    "    #make the kirchhoff matrix unique\n",
    "    nodupes = []\n",
    "    [nodupes.append(i) for i in all if not nodupes.count(i)]   \n",
    "    nodupes.sort()\n",
    "    \n",
    "    f = open('evfold_kirchhoff.txt', 'w')\n",
    "    for x in nodupes:\n",
    "        f.write('%s \\t %s \\t %s \\n' % (x[0], x[1], x[2]))\n",
    "    f.close()\n",
    "\n",
    "    return kirchhoff;"
   ]
  },
  {
   "cell_type": "code",
   "execution_count": 6,
   "metadata": {
    "collapsed": false
   },
   "outputs": [],
   "source": [
    "#exctract top EC pairs from contactfile \n",
    "\n",
    "contactfile = open('contacts', 'w')\n",
    "with open('contactmap.txt', 'r') as file:\n",
    "    for line in file:\n",
    "        if line[0].isdigit():\n",
    "            contactfile.write('%s' % (line))\n",
    "contactfile.close()"
   ]
  },
  {
   "cell_type": "code",
   "execution_count": 7,
   "metadata": {
    "collapsed": true
   },
   "outputs": [],
   "source": [
    "dfi.fetch_pdb('1d5r')"
   ]
  },
  {
   "cell_type": "code",
   "execution_count": 8,
   "metadata": {
    "collapsed": false
   },
   "outputs": [],
   "source": [
    "#dfi.fetch_pdb('5pnt')\n",
    "#mdlpdbfile=pdbid+'.pdbmdl'\n",
    "mdlpdbfile='1d5r.pdbmdl'\n",
    "exptpdbfile='1d5r.pdb'\n",
    "evoDfile='contactmap.txt'\n",
    "#uniprotID='Q13126'"
   ]
  },
  {
   "cell_type": "code",
   "execution_count": 9,
   "metadata": {
    "collapsed": false
   },
   "outputs": [
    {
     "name": "stdout",
     "output_type": "stream",
     "text": [
      "Read 307 atoms from the 1d5r.pdbmdl\n",
      "307\n"
     ]
    }
   ],
   "source": [
    "#PDB MODEL\n",
    "ATOMS = dfi.pdbio.pdb_reader(mdlpdbfile,CAonly=True)\n",
    "x,y,z = dfi.getcoords(ATOMS)\n",
    "numres = len(x)\n",
    "mdlseq=[mapres[atom.res_name] for atom in ATOMS]\n",
    "kirchhoff = calc_hessian(x,y,z)\n",
    "inv_kirchhoff = invert_kirchhoff(kirchhoff)\n",
    "mdl_diag = np.array([inv_kirchhoff[i,i] for i in range(numres)])\n",
    "pdblen=len(mdlseq)\n",
    "print(pdblen)"
   ]
  },
  {
   "cell_type": "code",
   "execution_count": null,
   "metadata": {
    "collapsed": false
   },
   "outputs": [],
   "source": []
  },
  {
   "cell_type": "code",
   "execution_count": 10,
   "metadata": {
    "collapsed": false
   },
   "outputs": [
    {
     "name": "stdout",
     "output_type": "stream",
     "text": [
      "Read 307 atoms from the 1d5r.pdb\n"
     ]
    }
   ],
   "source": [
    "#Experimental PDB \n",
    "expt_ATOM = dfi.pdbio.pdb_reader(exptpdbfile,CAonly=True)\n",
    "expt_betafactors = np.array([atom.temp_factor for atom in expt_ATOM])\n",
    "exptseq=[mapres[atom.res_name] for atom in expt_ATOM]"
   ]
  },
  {
   "cell_type": "code",
   "execution_count": 11,
   "metadata": {
    "collapsed": false
   },
   "outputs": [
    {
     "name": "stdout",
     "output_type": "stream",
     "text": [
      "['R', 'R', 'Y', 'Q', 'E', 'D', 'G', 'F', 'D', 'L', 'D', 'L', 'T', 'Y', 'I', 'Y', 'P', 'N', 'I', 'I', 'A', 'M', 'G', 'F', 'P', 'A', 'E', 'R', 'L', 'E', 'G', 'V', 'Y', 'R', 'N', 'N', 'I', 'D', 'D', 'V', 'V', 'R', 'F', 'L', 'D', 'S', 'K', 'H', 'K', 'N', 'H', 'Y', 'K', 'I', 'Y', 'N', 'L', 'C', 'A', 'E', 'R', 'H', 'Y', 'D', 'T', 'A', 'K', 'F', 'N', 'C', 'R', 'V', 'A', 'Q', 'Y', 'P', 'F', 'E', 'D', 'H', 'N', 'P', 'P', 'Q', 'L', 'E', 'L', 'I', 'K', 'P', 'F', 'C', 'E', 'D', 'L', 'D', 'Q', 'W', 'L', 'S', 'E', 'D', 'D', 'N', 'H', 'V', 'A', 'A', 'I', 'H', 'C', 'K', 'A', 'G', 'K', 'G', 'R', 'T', 'G', 'V', 'M', 'I', 'C', 'A', 'Y', 'L', 'L', 'H', 'R', 'G', 'K', 'F', 'L', 'K', 'A', 'Q', 'E', 'A', 'L', 'D', 'F', 'Y', 'G', 'E', 'V', 'R', 'T', 'R', 'D', 'K', 'K', 'G', 'V', 'T', 'I', 'P', 'S', 'Q', 'R', 'R', 'Y', 'V', 'Y', 'Y', 'Y', 'S', 'Y', 'L', 'L', 'K', 'N', 'H', 'L', 'D', 'Y', 'R', 'P', 'V', 'A', 'L', 'L', 'F', 'H', 'K', 'M', 'M', 'F', 'E', 'T', 'I', 'P', 'M', 'F', 'S', 'G', 'G', 'T', 'C', 'N', 'P', 'Q', 'F', 'V', 'V', 'C', 'Q', 'L', 'K', 'V', 'K', 'I', 'Y', 'S', 'S', 'N', 'S', 'G', 'P', 'T', 'R', 'R', 'E', 'D', 'K', 'F', 'M', 'Y', 'F', 'E', 'F', 'P', 'Q', 'P', 'L', 'P', 'V', 'C', 'G', 'D', 'I', 'K', 'V', 'E', 'F', 'F', 'H', 'K', 'Q', 'N', 'K', 'M', 'L', 'K', 'K', 'D', 'K', 'M', 'F', 'H', 'F', 'W', 'V', 'N', 'T', 'F', 'F', 'I', 'P', 'K', 'E', 'Y', 'L', 'V', 'L', 'T', 'L', 'T', 'K', 'N', 'D', 'L', 'D', 'K', 'A', 'N', 'K', 'D', 'K', 'A', 'N', 'R', 'Y', 'F', 'S', 'P', 'N', 'F', 'K', 'V', 'K', 'L', 'Y', 'F', 'T', 'K', 'T', 'V']\n"
     ]
    }
   ],
   "source": [
    "print(exptseq)"
   ]
  },
  {
   "cell_type": "code",
   "execution_count": 12,
   "metadata": {
    "collapsed": false
   },
   "outputs": [
    {
     "data": {
      "text/plain": [
       "array([ 90.39,  88.68,  79.73,  66.47,  63.19,  66.95,  69.94,  67.95,\n",
       "        61.8 ,  53.8 ,  46.47,  40.35,  38.08,  37.29,  36.82,  42.15,\n",
       "        46.53,  39.87,  35.4 ,  29.86,  39.49,  43.82,  43.61,  46.46,\n",
       "        49.74,  61.27,  82.42,  98.98,   4.1 ,   4.19,  97.3 ,  90.96,\n",
       "        84.3 ,  75.95,  68.17,  69.63,  62.98,  61.85,  64.43,  57.3 ,\n",
       "        57.28,  59.32,  51.81,  51.41,  59.19,  61.92,  62.12,  61.06,\n",
       "        66.87,  60.77,  56.8 ,  50.5 ,  42.21,  37.68,  30.8 ,  25.52,\n",
       "        24.49,  37.7 ,  53.63,  69.26,  77.48,  78.94,  69.01,  69.11,\n",
       "        71.59,  69.45,  68.58,  70.88,  78.28,  72.71,  64.42,  51.19,\n",
       "        35.69,  30.45,  22.31,  23.67,  21.14,  31.34,  29.16,  23.97,\n",
       "        22.36,  21.73,  21.36,  19.79,  19.02,  22.73,  23.63,  20.33,\n",
       "        25.31,  28.52,  27.71,  30.76,  31.48,  32.88,  38.67,  43.65,\n",
       "        52.4 ,  48.34,  53.77,  66.2 ,  78.32,  87.92,  91.05,  83.56,\n",
       "        66.94,  52.9 ,  40.22,  32.68,  33.88,  28.47,  34.28,  40.63,\n",
       "        40.43,  34.89,  35.16,  30.26,  21.93,  27.07,  28.29,  26.98,\n",
       "        23.75,  28.01,  29.29,  25.83,  31.22,  34.09,  34.69,  37.64,\n",
       "        41.62,  44.95,  37.59,  42.07,  42.33,  40.21,  36.22,  41.44,\n",
       "        41.11,  34.46,  31.71,  33.49,  34.12,  32.61,  33.65,  42.68,\n",
       "        38.87,  34.46,  41.85,  50.41,  52.42,  58.48,  52.7 ,  40.8 ,\n",
       "        31.56,  26.52,  20.86,  23.59,  22.33,  21.2 ,  25.87,  23.11,\n",
       "        20.62,  25.45,  28.79,  27.47,  29.88,  37.74,  32.11,  33.12,\n",
       "        34.87,  52.31,  54.96,  63.05,  53.87,  45.08,  35.48,  41.45,\n",
       "        38.07,  27.91,  32.07,  31.84,  29.29,  25.23,  28.23,  25.39,\n",
       "        24.96,  26.9 ,  25.05,  35.57,  27.03,  26.43,  29.33,  35.12,\n",
       "        33.82,  46.65,  49.58,  51.43,  46.66,  29.85,  34.92,  28.58,\n",
       "        23.09,  20.09,  23.48,  23.08,  28.03,  30.94,  37.36,  47.16,\n",
       "        42.82,  43.02,  32.05,  32.  ,  34.5 ,  40.78,  50.15,  50.18,\n",
       "        39.31,  28.23,  31.21,  25.28,  21.81,  29.61,  41.61,  41.17,\n",
       "        31.5 ,  22.72,  20.27,  24.22,  32.42,  38.11,  38.19,  40.53,\n",
       "        33.94,  28.31,  29.39,  26.36,  31.71,  27.88,  23.53,  22.87,\n",
       "        17.79,  22.73,  19.66,  19.93,  30.35,  34.07,  50.88,  68.51,\n",
       "        87.31,  92.18,  88.18,  84.54,  66.82,  47.47,  39.03,  35.03,\n",
       "        25.5 ,  18.39,  17.96,  20.3 ,  21.15,  24.22,  21.62,  25.48,\n",
       "        28.48,  29.52,  35.75,  55.  ,  89.24,  78.49,  60.75,  45.4 ,\n",
       "        39.33,  31.69,  30.6 ,  23.19,  24.23,  26.75,  29.47,  22.58,\n",
       "        22.53,  31.06,  27.05,  16.78,  24.63,  29.62,  31.42,  38.2 ,\n",
       "        35.15,  32.85,  36.69,  31.68,  34.29,  33.29,  35.87,  39.05,\n",
       "        28.94,  30.06,  22.5 ,  23.32,  25.16,  28.93,  30.48,  34.71,\n",
       "        57.99,  74.25,  81.48])"
      ]
     },
     "execution_count": 12,
     "metadata": {},
     "output_type": "execute_result"
    }
   ],
   "source": [
    "expt_betafactors"
   ]
  },
  {
   "cell_type": "code",
   "execution_count": 13,
   "metadata": {
    "collapsed": false
   },
   "outputs": [
    {
     "name": "stdout",
     "output_type": "stream",
     "text": [
      "generated kirchhoff using evolutionary constraints\n",
      "kirchhoff shape:  (307, 307)\n"
     ]
    }
   ],
   "source": [
    "#EVFOLD Contacts \n",
    "#str_seq=''.join( dfi.fastaseq.get_fastaseq(uniprotID).split('\\n')[1:] )\n",
    "#fastaseq=[s for s in str_seq]\n",
    "numseq = len(mdlseq)\n",
    "evodkirchhoff=_build_kirchhoff(evoDfile,numseq)\n",
    "inv_evodkirchhoff=invert_kirchhoff(evodkirchhoff)\n",
    "evo_diag = np.array([inv_evodkirchhoff[i,i] for i in range(numseq)])"
   ]
  },
  {
   "cell_type": "markdown",
   "metadata": {},
   "source": [
    "# Need to align sequences properly"
   ]
  },
  {
   "cell_type": "markdown",
   "metadata": {
    "collapsed": true
   },
   "source": [
    "## Grab the 5pnt fasta sequence "
   ]
  },
  {
   "cell_type": "code",
   "execution_count": 14,
   "metadata": {
    "collapsed": false
   },
   "outputs": [
    {
     "data": {
      "text/plain": [
       "(307,)"
      ]
     },
     "execution_count": 14,
     "metadata": {},
     "output_type": "execute_result"
    }
   ],
   "source": [
    "mdl_diag.shape"
   ]
  },
  {
   "cell_type": "code",
   "execution_count": 15,
   "metadata": {
    "collapsed": false
   },
   "outputs": [
    {
     "name": "stdout",
     "output_type": "stream",
     "text": [
      "307\n",
      "307\n"
     ]
    }
   ],
   "source": [
    "#print(len(fastaseq))\n",
    "print(len(mdlseq))\n",
    "print(len(exptseq))"
   ]
  },
  {
   "cell_type": "code",
   "execution_count": 16,
   "metadata": {
    "collapsed": false
   },
   "outputs": [],
   "source": [
    "align={'mdlseq':''.join(mdlseq),\n",
    "       'exptseq':''.join(exptseq)}"
   ]
  },
  {
   "cell_type": "code",
   "execution_count": 17,
   "metadata": {
    "collapsed": true
   },
   "outputs": [],
   "source": [
    "from clustalo import clustalo"
   ]
  },
  {
   "cell_type": "code",
   "execution_count": 18,
   "metadata": {
    "collapsed": false
   },
   "outputs": [],
   "source": [
    "aligned=clustalo(align,seqtype=3)"
   ]
  },
  {
   "cell_type": "code",
   "execution_count": 19,
   "metadata": {
    "collapsed": true
   },
   "outputs": [],
   "source": [
    "dft = pd.DataFrame()"
   ]
  },
  {
   "cell_type": "code",
   "execution_count": 20,
   "metadata": {
    "collapsed": false
   },
   "outputs": [
    {
     "data": {
      "text/plain": [
       "{'exptseq': 'RRYQEDGFDLDLTYIYPNIIAMGFPAERLEGVYRNNIDDVVRFLDSKHKNHYKIYNLCAERHYDTAKFNCRVAQYPFEDHNPPQLELIKPFCEDLDQWLSEDDNHVAAIHCKAGKGRTGVMICAYLLHRGKFLKAQEALDFYGEVRTRDKKGVTIPSQRRYVYYYSYLLKNHLDYRPVALLFHKMMFETIPMFSGGTCNPQFVVCQLKVKIYSSNSGPTRREDKFMYFEFPQPLPVCGDIKVEFFHKQNKMLKKDKMFHFWVNTFFIPKEYLVLTLTKNDLDKANKDKANRYFSPNFKVKLYFTKTV',\n",
       " 'mdlseq': 'RRYQEDGFDLDLTYIYPNIIAMGFPAERLEGVYRNNIDDVVRFLDSKHKNHYKIYNLCAERHYDTAKFNCRVAQYPFEDHNPPQLELIKPFCEDLDQWLSEDDNHVAAIHCKAGKGRTGVMICAYLLHRGKFLKAQEALDFYGEVRTRDKKGVTIPSQRRYVYYYSYLLKNHLDYRPVALLFHKMMFETIPMFSGGTCNPQFVVCQLKVKIYSSNSGPTRREDKFMYFEFPQPLPVCGDIKVEFFHKQNKMLKKDKMFHFWVNTFFIPKEYLVLTLTKNDLDKANKDKANRYFSPNFKVKLYFTKTV'}"
      ]
     },
     "execution_count": 20,
     "metadata": {},
     "output_type": "execute_result"
    }
   ],
   "source": [
    "aligned"
   ]
  },
  {
   "cell_type": "code",
   "execution_count": 21,
   "metadata": {
    "collapsed": true
   },
   "outputs": [],
   "source": [
    "dft['raptor_R'] = [s for s in aligned['mdlseq']]\n",
    "dft['mdl_R'] = [s for s in aligned['mdlseq']]\n",
    "dft['expt_R'] = [s for s in aligned['exptseq']]"
   ]
  },
  {
   "cell_type": "code",
   "execution_count": 22,
   "metadata": {
    "collapsed": false
   },
   "outputs": [
    {
     "data": {
      "text/html": [
       "<div>\n",
       "<table border=\"1\" class=\"dataframe\">\n",
       "  <thead>\n",
       "    <tr style=\"text-align: right;\">\n",
       "      <th></th>\n",
       "      <th>raptor_R</th>\n",
       "      <th>mdl_R</th>\n",
       "      <th>expt_R</th>\n",
       "    </tr>\n",
       "  </thead>\n",
       "  <tbody>\n",
       "    <tr>\n",
       "      <th>0</th>\n",
       "      <td>R</td>\n",
       "      <td>R</td>\n",
       "      <td>R</td>\n",
       "    </tr>\n",
       "    <tr>\n",
       "      <th>1</th>\n",
       "      <td>R</td>\n",
       "      <td>R</td>\n",
       "      <td>R</td>\n",
       "    </tr>\n",
       "    <tr>\n",
       "      <th>2</th>\n",
       "      <td>Y</td>\n",
       "      <td>Y</td>\n",
       "      <td>Y</td>\n",
       "    </tr>\n",
       "    <tr>\n",
       "      <th>3</th>\n",
       "      <td>Q</td>\n",
       "      <td>Q</td>\n",
       "      <td>Q</td>\n",
       "    </tr>\n",
       "    <tr>\n",
       "      <th>4</th>\n",
       "      <td>E</td>\n",
       "      <td>E</td>\n",
       "      <td>E</td>\n",
       "    </tr>\n",
       "    <tr>\n",
       "      <th>5</th>\n",
       "      <td>D</td>\n",
       "      <td>D</td>\n",
       "      <td>D</td>\n",
       "    </tr>\n",
       "    <tr>\n",
       "      <th>6</th>\n",
       "      <td>G</td>\n",
       "      <td>G</td>\n",
       "      <td>G</td>\n",
       "    </tr>\n",
       "    <tr>\n",
       "      <th>7</th>\n",
       "      <td>F</td>\n",
       "      <td>F</td>\n",
       "      <td>F</td>\n",
       "    </tr>\n",
       "    <tr>\n",
       "      <th>8</th>\n",
       "      <td>D</td>\n",
       "      <td>D</td>\n",
       "      <td>D</td>\n",
       "    </tr>\n",
       "    <tr>\n",
       "      <th>9</th>\n",
       "      <td>L</td>\n",
       "      <td>L</td>\n",
       "      <td>L</td>\n",
       "    </tr>\n",
       "    <tr>\n",
       "      <th>10</th>\n",
       "      <td>D</td>\n",
       "      <td>D</td>\n",
       "      <td>D</td>\n",
       "    </tr>\n",
       "    <tr>\n",
       "      <th>11</th>\n",
       "      <td>L</td>\n",
       "      <td>L</td>\n",
       "      <td>L</td>\n",
       "    </tr>\n",
       "    <tr>\n",
       "      <th>12</th>\n",
       "      <td>T</td>\n",
       "      <td>T</td>\n",
       "      <td>T</td>\n",
       "    </tr>\n",
       "    <tr>\n",
       "      <th>13</th>\n",
       "      <td>Y</td>\n",
       "      <td>Y</td>\n",
       "      <td>Y</td>\n",
       "    </tr>\n",
       "    <tr>\n",
       "      <th>14</th>\n",
       "      <td>I</td>\n",
       "      <td>I</td>\n",
       "      <td>I</td>\n",
       "    </tr>\n",
       "    <tr>\n",
       "      <th>15</th>\n",
       "      <td>Y</td>\n",
       "      <td>Y</td>\n",
       "      <td>Y</td>\n",
       "    </tr>\n",
       "    <tr>\n",
       "      <th>16</th>\n",
       "      <td>P</td>\n",
       "      <td>P</td>\n",
       "      <td>P</td>\n",
       "    </tr>\n",
       "    <tr>\n",
       "      <th>17</th>\n",
       "      <td>N</td>\n",
       "      <td>N</td>\n",
       "      <td>N</td>\n",
       "    </tr>\n",
       "    <tr>\n",
       "      <th>18</th>\n",
       "      <td>I</td>\n",
       "      <td>I</td>\n",
       "      <td>I</td>\n",
       "    </tr>\n",
       "    <tr>\n",
       "      <th>19</th>\n",
       "      <td>I</td>\n",
       "      <td>I</td>\n",
       "      <td>I</td>\n",
       "    </tr>\n",
       "    <tr>\n",
       "      <th>20</th>\n",
       "      <td>A</td>\n",
       "      <td>A</td>\n",
       "      <td>A</td>\n",
       "    </tr>\n",
       "    <tr>\n",
       "      <th>21</th>\n",
       "      <td>M</td>\n",
       "      <td>M</td>\n",
       "      <td>M</td>\n",
       "    </tr>\n",
       "    <tr>\n",
       "      <th>22</th>\n",
       "      <td>G</td>\n",
       "      <td>G</td>\n",
       "      <td>G</td>\n",
       "    </tr>\n",
       "    <tr>\n",
       "      <th>23</th>\n",
       "      <td>F</td>\n",
       "      <td>F</td>\n",
       "      <td>F</td>\n",
       "    </tr>\n",
       "    <tr>\n",
       "      <th>24</th>\n",
       "      <td>P</td>\n",
       "      <td>P</td>\n",
       "      <td>P</td>\n",
       "    </tr>\n",
       "    <tr>\n",
       "      <th>25</th>\n",
       "      <td>A</td>\n",
       "      <td>A</td>\n",
       "      <td>A</td>\n",
       "    </tr>\n",
       "    <tr>\n",
       "      <th>26</th>\n",
       "      <td>E</td>\n",
       "      <td>E</td>\n",
       "      <td>E</td>\n",
       "    </tr>\n",
       "    <tr>\n",
       "      <th>27</th>\n",
       "      <td>R</td>\n",
       "      <td>R</td>\n",
       "      <td>R</td>\n",
       "    </tr>\n",
       "    <tr>\n",
       "      <th>28</th>\n",
       "      <td>L</td>\n",
       "      <td>L</td>\n",
       "      <td>L</td>\n",
       "    </tr>\n",
       "    <tr>\n",
       "      <th>29</th>\n",
       "      <td>E</td>\n",
       "      <td>E</td>\n",
       "      <td>E</td>\n",
       "    </tr>\n",
       "    <tr>\n",
       "      <th>...</th>\n",
       "      <td>...</td>\n",
       "      <td>...</td>\n",
       "      <td>...</td>\n",
       "    </tr>\n",
       "    <tr>\n",
       "      <th>277</th>\n",
       "      <td>K</td>\n",
       "      <td>K</td>\n",
       "      <td>K</td>\n",
       "    </tr>\n",
       "    <tr>\n",
       "      <th>278</th>\n",
       "      <td>N</td>\n",
       "      <td>N</td>\n",
       "      <td>N</td>\n",
       "    </tr>\n",
       "    <tr>\n",
       "      <th>279</th>\n",
       "      <td>D</td>\n",
       "      <td>D</td>\n",
       "      <td>D</td>\n",
       "    </tr>\n",
       "    <tr>\n",
       "      <th>280</th>\n",
       "      <td>L</td>\n",
       "      <td>L</td>\n",
       "      <td>L</td>\n",
       "    </tr>\n",
       "    <tr>\n",
       "      <th>281</th>\n",
       "      <td>D</td>\n",
       "      <td>D</td>\n",
       "      <td>D</td>\n",
       "    </tr>\n",
       "    <tr>\n",
       "      <th>282</th>\n",
       "      <td>K</td>\n",
       "      <td>K</td>\n",
       "      <td>K</td>\n",
       "    </tr>\n",
       "    <tr>\n",
       "      <th>283</th>\n",
       "      <td>A</td>\n",
       "      <td>A</td>\n",
       "      <td>A</td>\n",
       "    </tr>\n",
       "    <tr>\n",
       "      <th>284</th>\n",
       "      <td>N</td>\n",
       "      <td>N</td>\n",
       "      <td>N</td>\n",
       "    </tr>\n",
       "    <tr>\n",
       "      <th>285</th>\n",
       "      <td>K</td>\n",
       "      <td>K</td>\n",
       "      <td>K</td>\n",
       "    </tr>\n",
       "    <tr>\n",
       "      <th>286</th>\n",
       "      <td>D</td>\n",
       "      <td>D</td>\n",
       "      <td>D</td>\n",
       "    </tr>\n",
       "    <tr>\n",
       "      <th>287</th>\n",
       "      <td>K</td>\n",
       "      <td>K</td>\n",
       "      <td>K</td>\n",
       "    </tr>\n",
       "    <tr>\n",
       "      <th>288</th>\n",
       "      <td>A</td>\n",
       "      <td>A</td>\n",
       "      <td>A</td>\n",
       "    </tr>\n",
       "    <tr>\n",
       "      <th>289</th>\n",
       "      <td>N</td>\n",
       "      <td>N</td>\n",
       "      <td>N</td>\n",
       "    </tr>\n",
       "    <tr>\n",
       "      <th>290</th>\n",
       "      <td>R</td>\n",
       "      <td>R</td>\n",
       "      <td>R</td>\n",
       "    </tr>\n",
       "    <tr>\n",
       "      <th>291</th>\n",
       "      <td>Y</td>\n",
       "      <td>Y</td>\n",
       "      <td>Y</td>\n",
       "    </tr>\n",
       "    <tr>\n",
       "      <th>292</th>\n",
       "      <td>F</td>\n",
       "      <td>F</td>\n",
       "      <td>F</td>\n",
       "    </tr>\n",
       "    <tr>\n",
       "      <th>293</th>\n",
       "      <td>S</td>\n",
       "      <td>S</td>\n",
       "      <td>S</td>\n",
       "    </tr>\n",
       "    <tr>\n",
       "      <th>294</th>\n",
       "      <td>P</td>\n",
       "      <td>P</td>\n",
       "      <td>P</td>\n",
       "    </tr>\n",
       "    <tr>\n",
       "      <th>295</th>\n",
       "      <td>N</td>\n",
       "      <td>N</td>\n",
       "      <td>N</td>\n",
       "    </tr>\n",
       "    <tr>\n",
       "      <th>296</th>\n",
       "      <td>F</td>\n",
       "      <td>F</td>\n",
       "      <td>F</td>\n",
       "    </tr>\n",
       "    <tr>\n",
       "      <th>297</th>\n",
       "      <td>K</td>\n",
       "      <td>K</td>\n",
       "      <td>K</td>\n",
       "    </tr>\n",
       "    <tr>\n",
       "      <th>298</th>\n",
       "      <td>V</td>\n",
       "      <td>V</td>\n",
       "      <td>V</td>\n",
       "    </tr>\n",
       "    <tr>\n",
       "      <th>299</th>\n",
       "      <td>K</td>\n",
       "      <td>K</td>\n",
       "      <td>K</td>\n",
       "    </tr>\n",
       "    <tr>\n",
       "      <th>300</th>\n",
       "      <td>L</td>\n",
       "      <td>L</td>\n",
       "      <td>L</td>\n",
       "    </tr>\n",
       "    <tr>\n",
       "      <th>301</th>\n",
       "      <td>Y</td>\n",
       "      <td>Y</td>\n",
       "      <td>Y</td>\n",
       "    </tr>\n",
       "    <tr>\n",
       "      <th>302</th>\n",
       "      <td>F</td>\n",
       "      <td>F</td>\n",
       "      <td>F</td>\n",
       "    </tr>\n",
       "    <tr>\n",
       "      <th>303</th>\n",
       "      <td>T</td>\n",
       "      <td>T</td>\n",
       "      <td>T</td>\n",
       "    </tr>\n",
       "    <tr>\n",
       "      <th>304</th>\n",
       "      <td>K</td>\n",
       "      <td>K</td>\n",
       "      <td>K</td>\n",
       "    </tr>\n",
       "    <tr>\n",
       "      <th>305</th>\n",
       "      <td>T</td>\n",
       "      <td>T</td>\n",
       "      <td>T</td>\n",
       "    </tr>\n",
       "    <tr>\n",
       "      <th>306</th>\n",
       "      <td>V</td>\n",
       "      <td>V</td>\n",
       "      <td>V</td>\n",
       "    </tr>\n",
       "  </tbody>\n",
       "</table>\n",
       "<p>307 rows × 3 columns</p>\n",
       "</div>"
      ],
      "text/plain": [
       "    raptor_R mdl_R expt_R\n",
       "0          R     R      R\n",
       "1          R     R      R\n",
       "2          Y     Y      Y\n",
       "3          Q     Q      Q\n",
       "4          E     E      E\n",
       "5          D     D      D\n",
       "6          G     G      G\n",
       "7          F     F      F\n",
       "8          D     D      D\n",
       "9          L     L      L\n",
       "10         D     D      D\n",
       "11         L     L      L\n",
       "12         T     T      T\n",
       "13         Y     Y      Y\n",
       "14         I     I      I\n",
       "15         Y     Y      Y\n",
       "16         P     P      P\n",
       "17         N     N      N\n",
       "18         I     I      I\n",
       "19         I     I      I\n",
       "20         A     A      A\n",
       "21         M     M      M\n",
       "22         G     G      G\n",
       "23         F     F      F\n",
       "24         P     P      P\n",
       "25         A     A      A\n",
       "26         E     E      E\n",
       "27         R     R      R\n",
       "28         L     L      L\n",
       "29         E     E      E\n",
       "..       ...   ...    ...\n",
       "277        K     K      K\n",
       "278        N     N      N\n",
       "279        D     D      D\n",
       "280        L     L      L\n",
       "281        D     D      D\n",
       "282        K     K      K\n",
       "283        A     A      A\n",
       "284        N     N      N\n",
       "285        K     K      K\n",
       "286        D     D      D\n",
       "287        K     K      K\n",
       "288        A     A      A\n",
       "289        N     N      N\n",
       "290        R     R      R\n",
       "291        Y     Y      Y\n",
       "292        F     F      F\n",
       "293        S     S      S\n",
       "294        P     P      P\n",
       "295        N     N      N\n",
       "296        F     F      F\n",
       "297        K     K      K\n",
       "298        V     V      V\n",
       "299        K     K      K\n",
       "300        L     L      L\n",
       "301        Y     Y      Y\n",
       "302        F     F      F\n",
       "303        T     T      T\n",
       "304        K     K      K\n",
       "305        T     T      T\n",
       "306        V     V      V\n",
       "\n",
       "[307 rows x 3 columns]"
      ]
     },
     "execution_count": 22,
     "metadata": {},
     "output_type": "execute_result"
    }
   ],
   "source": [
    "dft"
   ]
  },
  {
   "cell_type": "code",
   "execution_count": 23,
   "metadata": {
    "collapsed": false
   },
   "outputs": [],
   "source": [
    "#align b-factors with the corresponding sequence \n",
    "seqtype='fastaR'\n",
    "bfactype='fastaB'\n",
    "evo_diag\n",
    "\n",
    "def align_bfac(seqtype,bfactype,ls_bfac,dft):\n",
    "    \"\"\"\n",
    "    \n",
    "    \"\"\"\n",
    "    align_bfac = []\n",
    "    i=0\n",
    "    for r in dft[seqtype]:\n",
    "        #print(r)\n",
    "        if i >= len(ls_bfac):\n",
    "            break\n",
    "        if r == '-':\n",
    "            align_bfac.append(np.nan)\n",
    "        else:\n",
    "            align_bfac.append(ls_bfac[i])\n",
    "            i+=1\n",
    "    while len(align_bfac) < len(dft[seqtype]):\n",
    "        align_bfac.append(np.nan)\n",
    "\n",
    "    dft[bfactype] = align_bfac"
   ]
  },
  {
   "cell_type": "code",
   "execution_count": 24,
   "metadata": {
    "collapsed": false
   },
   "outputs": [
    {
     "data": {
      "text/plain": [
       "(307,)"
      ]
     },
     "execution_count": 24,
     "metadata": {},
     "output_type": "execute_result"
    }
   ],
   "source": [
    "evo_diag.shape"
   ]
  },
  {
   "cell_type": "code",
   "execution_count": 25,
   "metadata": {
    "collapsed": false
   },
   "outputs": [
    {
     "data": {
      "text/html": [
       "<div>\n",
       "<table border=\"1\" class=\"dataframe\">\n",
       "  <thead>\n",
       "    <tr style=\"text-align: right;\">\n",
       "      <th></th>\n",
       "      <th>raptor_R</th>\n",
       "      <th>mdl_R</th>\n",
       "      <th>expt_R</th>\n",
       "    </tr>\n",
       "  </thead>\n",
       "  <tbody>\n",
       "    <tr>\n",
       "      <th>0</th>\n",
       "      <td>R</td>\n",
       "      <td>R</td>\n",
       "      <td>R</td>\n",
       "    </tr>\n",
       "    <tr>\n",
       "      <th>1</th>\n",
       "      <td>R</td>\n",
       "      <td>R</td>\n",
       "      <td>R</td>\n",
       "    </tr>\n",
       "    <tr>\n",
       "      <th>2</th>\n",
       "      <td>Y</td>\n",
       "      <td>Y</td>\n",
       "      <td>Y</td>\n",
       "    </tr>\n",
       "    <tr>\n",
       "      <th>3</th>\n",
       "      <td>Q</td>\n",
       "      <td>Q</td>\n",
       "      <td>Q</td>\n",
       "    </tr>\n",
       "    <tr>\n",
       "      <th>4</th>\n",
       "      <td>E</td>\n",
       "      <td>E</td>\n",
       "      <td>E</td>\n",
       "    </tr>\n",
       "  </tbody>\n",
       "</table>\n",
       "</div>"
      ],
      "text/plain": [
       "  raptor_R mdl_R expt_R\n",
       "0        R     R      R\n",
       "1        R     R      R\n",
       "2        Y     Y      Y\n",
       "3        Q     Q      Q\n",
       "4        E     E      E"
      ]
     },
     "execution_count": 25,
     "metadata": {},
     "output_type": "execute_result"
    }
   ],
   "source": [
    "dft.head()"
   ]
  },
  {
   "cell_type": "code",
   "execution_count": 26,
   "metadata": {
    "collapsed": false
   },
   "outputs": [],
   "source": [
    "align_bfac('raptor_R','raptor_B',evo_diag,dft)\n",
    "align_bfac('mdl_R','mdl_B',mdl_diag,dft)\n",
    "align_bfac('expt_R','expt_B',expt_betafactors,dft)"
   ]
  },
  {
   "cell_type": "code",
   "execution_count": 27,
   "metadata": {
    "collapsed": false
   },
   "outputs": [
    {
     "data": {
      "text/html": [
       "<div>\n",
       "<table border=\"1\" class=\"dataframe\">\n",
       "  <thead>\n",
       "    <tr style=\"text-align: right;\">\n",
       "      <th></th>\n",
       "      <th>raptor_R</th>\n",
       "      <th>mdl_R</th>\n",
       "      <th>expt_R</th>\n",
       "      <th>raptor_B</th>\n",
       "      <th>mdl_B</th>\n",
       "      <th>expt_B</th>\n",
       "    </tr>\n",
       "  </thead>\n",
       "  <tbody>\n",
       "    <tr>\n",
       "      <th>0</th>\n",
       "      <td>R</td>\n",
       "      <td>R</td>\n",
       "      <td>R</td>\n",
       "      <td>7.449605</td>\n",
       "      <td>0.115443</td>\n",
       "      <td>90.39</td>\n",
       "    </tr>\n",
       "    <tr>\n",
       "      <th>1</th>\n",
       "      <td>R</td>\n",
       "      <td>R</td>\n",
       "      <td>R</td>\n",
       "      <td>7.325576</td>\n",
       "      <td>0.083075</td>\n",
       "      <td>88.68</td>\n",
       "    </tr>\n",
       "    <tr>\n",
       "      <th>2</th>\n",
       "      <td>Y</td>\n",
       "      <td>Y</td>\n",
       "      <td>Y</td>\n",
       "      <td>7.230503</td>\n",
       "      <td>0.075335</td>\n",
       "      <td>79.73</td>\n",
       "    </tr>\n",
       "    <tr>\n",
       "      <th>3</th>\n",
       "      <td>Q</td>\n",
       "      <td>Q</td>\n",
       "      <td>Q</td>\n",
       "      <td>7.151045</td>\n",
       "      <td>0.077186</td>\n",
       "      <td>66.47</td>\n",
       "    </tr>\n",
       "    <tr>\n",
       "      <th>4</th>\n",
       "      <td>E</td>\n",
       "      <td>E</td>\n",
       "      <td>E</td>\n",
       "      <td>7.080654</td>\n",
       "      <td>0.102961</td>\n",
       "      <td>63.19</td>\n",
       "    </tr>\n",
       "    <tr>\n",
       "      <th>5</th>\n",
       "      <td>D</td>\n",
       "      <td>D</td>\n",
       "      <td>D</td>\n",
       "      <td>7.011361</td>\n",
       "      <td>0.130772</td>\n",
       "      <td>66.95</td>\n",
       "    </tr>\n",
       "    <tr>\n",
       "      <th>6</th>\n",
       "      <td>G</td>\n",
       "      <td>G</td>\n",
       "      <td>G</td>\n",
       "      <td>6.942598</td>\n",
       "      <td>0.181336</td>\n",
       "      <td>69.94</td>\n",
       "    </tr>\n",
       "    <tr>\n",
       "      <th>7</th>\n",
       "      <td>F</td>\n",
       "      <td>F</td>\n",
       "      <td>F</td>\n",
       "      <td>6.874423</td>\n",
       "      <td>0.132298</td>\n",
       "      <td>67.95</td>\n",
       "    </tr>\n",
       "    <tr>\n",
       "      <th>8</th>\n",
       "      <td>D</td>\n",
       "      <td>D</td>\n",
       "      <td>D</td>\n",
       "      <td>6.806714</td>\n",
       "      <td>0.131432</td>\n",
       "      <td>61.80</td>\n",
       "    </tr>\n",
       "    <tr>\n",
       "      <th>9</th>\n",
       "      <td>L</td>\n",
       "      <td>L</td>\n",
       "      <td>L</td>\n",
       "      <td>6.739470</td>\n",
       "      <td>0.075553</td>\n",
       "      <td>53.80</td>\n",
       "    </tr>\n",
       "    <tr>\n",
       "      <th>10</th>\n",
       "      <td>D</td>\n",
       "      <td>D</td>\n",
       "      <td>D</td>\n",
       "      <td>6.672696</td>\n",
       "      <td>0.067448</td>\n",
       "      <td>46.47</td>\n",
       "    </tr>\n",
       "    <tr>\n",
       "      <th>11</th>\n",
       "      <td>L</td>\n",
       "      <td>L</td>\n",
       "      <td>L</td>\n",
       "      <td>6.606386</td>\n",
       "      <td>0.058211</td>\n",
       "      <td>40.35</td>\n",
       "    </tr>\n",
       "    <tr>\n",
       "      <th>12</th>\n",
       "      <td>T</td>\n",
       "      <td>T</td>\n",
       "      <td>T</td>\n",
       "      <td>6.540541</td>\n",
       "      <td>0.060077</td>\n",
       "      <td>38.08</td>\n",
       "    </tr>\n",
       "    <tr>\n",
       "      <th>13</th>\n",
       "      <td>Y</td>\n",
       "      <td>Y</td>\n",
       "      <td>Y</td>\n",
       "      <td>6.475162</td>\n",
       "      <td>0.070148</td>\n",
       "      <td>37.29</td>\n",
       "    </tr>\n",
       "    <tr>\n",
       "      <th>14</th>\n",
       "      <td>I</td>\n",
       "      <td>I</td>\n",
       "      <td>I</td>\n",
       "      <td>6.410248</td>\n",
       "      <td>0.067971</td>\n",
       "      <td>36.82</td>\n",
       "    </tr>\n",
       "    <tr>\n",
       "      <th>15</th>\n",
       "      <td>Y</td>\n",
       "      <td>Y</td>\n",
       "      <td>Y</td>\n",
       "      <td>6.345800</td>\n",
       "      <td>0.102497</td>\n",
       "      <td>42.15</td>\n",
       "    </tr>\n",
       "    <tr>\n",
       "      <th>16</th>\n",
       "      <td>P</td>\n",
       "      <td>P</td>\n",
       "      <td>P</td>\n",
       "      <td>6.281816</td>\n",
       "      <td>0.122328</td>\n",
       "      <td>46.53</td>\n",
       "    </tr>\n",
       "    <tr>\n",
       "      <th>17</th>\n",
       "      <td>N</td>\n",
       "      <td>N</td>\n",
       "      <td>N</td>\n",
       "      <td>6.218298</td>\n",
       "      <td>0.092762</td>\n",
       "      <td>39.87</td>\n",
       "    </tr>\n",
       "    <tr>\n",
       "      <th>18</th>\n",
       "      <td>I</td>\n",
       "      <td>I</td>\n",
       "      <td>I</td>\n",
       "      <td>6.155246</td>\n",
       "      <td>0.072416</td>\n",
       "      <td>35.40</td>\n",
       "    </tr>\n",
       "    <tr>\n",
       "      <th>19</th>\n",
       "      <td>I</td>\n",
       "      <td>I</td>\n",
       "      <td>I</td>\n",
       "      <td>6.092659</td>\n",
       "      <td>0.068201</td>\n",
       "      <td>29.86</td>\n",
       "    </tr>\n",
       "    <tr>\n",
       "      <th>20</th>\n",
       "      <td>A</td>\n",
       "      <td>A</td>\n",
       "      <td>A</td>\n",
       "      <td>6.030537</td>\n",
       "      <td>0.052910</td>\n",
       "      <td>39.49</td>\n",
       "    </tr>\n",
       "    <tr>\n",
       "      <th>21</th>\n",
       "      <td>M</td>\n",
       "      <td>M</td>\n",
       "      <td>M</td>\n",
       "      <td>5.968880</td>\n",
       "      <td>0.049959</td>\n",
       "      <td>43.82</td>\n",
       "    </tr>\n",
       "    <tr>\n",
       "      <th>22</th>\n",
       "      <td>G</td>\n",
       "      <td>G</td>\n",
       "      <td>G</td>\n",
       "      <td>5.907689</td>\n",
       "      <td>0.057527</td>\n",
       "      <td>43.61</td>\n",
       "    </tr>\n",
       "    <tr>\n",
       "      <th>23</th>\n",
       "      <td>F</td>\n",
       "      <td>F</td>\n",
       "      <td>F</td>\n",
       "      <td>5.846963</td>\n",
       "      <td>0.054916</td>\n",
       "      <td>46.46</td>\n",
       "    </tr>\n",
       "    <tr>\n",
       "      <th>24</th>\n",
       "      <td>P</td>\n",
       "      <td>P</td>\n",
       "      <td>P</td>\n",
       "      <td>5.786702</td>\n",
       "      <td>0.060509</td>\n",
       "      <td>49.74</td>\n",
       "    </tr>\n",
       "    <tr>\n",
       "      <th>25</th>\n",
       "      <td>A</td>\n",
       "      <td>A</td>\n",
       "      <td>A</td>\n",
       "      <td>5.726907</td>\n",
       "      <td>0.078363</td>\n",
       "      <td>61.27</td>\n",
       "    </tr>\n",
       "    <tr>\n",
       "      <th>26</th>\n",
       "      <td>E</td>\n",
       "      <td>E</td>\n",
       "      <td>E</td>\n",
       "      <td>5.667577</td>\n",
       "      <td>0.091166</td>\n",
       "      <td>82.42</td>\n",
       "    </tr>\n",
       "    <tr>\n",
       "      <th>27</th>\n",
       "      <td>R</td>\n",
       "      <td>R</td>\n",
       "      <td>R</td>\n",
       "      <td>5.608713</td>\n",
       "      <td>0.124002</td>\n",
       "      <td>98.98</td>\n",
       "    </tr>\n",
       "    <tr>\n",
       "      <th>28</th>\n",
       "      <td>L</td>\n",
       "      <td>L</td>\n",
       "      <td>L</td>\n",
       "      <td>5.550313</td>\n",
       "      <td>0.111112</td>\n",
       "      <td>4.10</td>\n",
       "    </tr>\n",
       "    <tr>\n",
       "      <th>29</th>\n",
       "      <td>E</td>\n",
       "      <td>E</td>\n",
       "      <td>E</td>\n",
       "      <td>5.492379</td>\n",
       "      <td>0.152235</td>\n",
       "      <td>4.19</td>\n",
       "    </tr>\n",
       "    <tr>\n",
       "      <th>...</th>\n",
       "      <td>...</td>\n",
       "      <td>...</td>\n",
       "      <td>...</td>\n",
       "      <td>...</td>\n",
       "      <td>...</td>\n",
       "      <td>...</td>\n",
       "    </tr>\n",
       "    <tr>\n",
       "      <th>277</th>\n",
       "      <td>K</td>\n",
       "      <td>K</td>\n",
       "      <td>K</td>\n",
       "      <td>5.492379</td>\n",
       "      <td>0.062128</td>\n",
       "      <td>26.75</td>\n",
       "    </tr>\n",
       "    <tr>\n",
       "      <th>278</th>\n",
       "      <td>N</td>\n",
       "      <td>N</td>\n",
       "      <td>N</td>\n",
       "      <td>5.550313</td>\n",
       "      <td>0.073551</td>\n",
       "      <td>29.47</td>\n",
       "    </tr>\n",
       "    <tr>\n",
       "      <th>279</th>\n",
       "      <td>D</td>\n",
       "      <td>D</td>\n",
       "      <td>D</td>\n",
       "      <td>5.608713</td>\n",
       "      <td>0.064508</td>\n",
       "      <td>22.58</td>\n",
       "    </tr>\n",
       "    <tr>\n",
       "      <th>280</th>\n",
       "      <td>L</td>\n",
       "      <td>L</td>\n",
       "      <td>L</td>\n",
       "      <td>5.667577</td>\n",
       "      <td>0.066003</td>\n",
       "      <td>22.53</td>\n",
       "    </tr>\n",
       "    <tr>\n",
       "      <th>281</th>\n",
       "      <td>D</td>\n",
       "      <td>D</td>\n",
       "      <td>D</td>\n",
       "      <td>5.726907</td>\n",
       "      <td>0.057703</td>\n",
       "      <td>31.06</td>\n",
       "    </tr>\n",
       "    <tr>\n",
       "      <th>282</th>\n",
       "      <td>K</td>\n",
       "      <td>K</td>\n",
       "      <td>K</td>\n",
       "      <td>5.786702</td>\n",
       "      <td>0.073153</td>\n",
       "      <td>27.05</td>\n",
       "    </tr>\n",
       "    <tr>\n",
       "      <th>283</th>\n",
       "      <td>A</td>\n",
       "      <td>A</td>\n",
       "      <td>A</td>\n",
       "      <td>5.846963</td>\n",
       "      <td>0.059111</td>\n",
       "      <td>16.78</td>\n",
       "    </tr>\n",
       "    <tr>\n",
       "      <th>284</th>\n",
       "      <td>N</td>\n",
       "      <td>N</td>\n",
       "      <td>N</td>\n",
       "      <td>5.907689</td>\n",
       "      <td>0.072154</td>\n",
       "      <td>24.63</td>\n",
       "    </tr>\n",
       "    <tr>\n",
       "      <th>285</th>\n",
       "      <td>K</td>\n",
       "      <td>K</td>\n",
       "      <td>K</td>\n",
       "      <td>5.968880</td>\n",
       "      <td>0.085834</td>\n",
       "      <td>29.62</td>\n",
       "    </tr>\n",
       "    <tr>\n",
       "      <th>286</th>\n",
       "      <td>D</td>\n",
       "      <td>D</td>\n",
       "      <td>D</td>\n",
       "      <td>6.030537</td>\n",
       "      <td>0.098166</td>\n",
       "      <td>31.42</td>\n",
       "    </tr>\n",
       "    <tr>\n",
       "      <th>287</th>\n",
       "      <td>K</td>\n",
       "      <td>K</td>\n",
       "      <td>K</td>\n",
       "      <td>6.092659</td>\n",
       "      <td>0.105047</td>\n",
       "      <td>38.20</td>\n",
       "    </tr>\n",
       "    <tr>\n",
       "      <th>288</th>\n",
       "      <td>A</td>\n",
       "      <td>A</td>\n",
       "      <td>A</td>\n",
       "      <td>6.155246</td>\n",
       "      <td>0.144803</td>\n",
       "      <td>35.15</td>\n",
       "    </tr>\n",
       "    <tr>\n",
       "      <th>289</th>\n",
       "      <td>N</td>\n",
       "      <td>N</td>\n",
       "      <td>N</td>\n",
       "      <td>6.218298</td>\n",
       "      <td>0.089407</td>\n",
       "      <td>32.85</td>\n",
       "    </tr>\n",
       "    <tr>\n",
       "      <th>290</th>\n",
       "      <td>R</td>\n",
       "      <td>R</td>\n",
       "      <td>R</td>\n",
       "      <td>6.281816</td>\n",
       "      <td>0.106733</td>\n",
       "      <td>36.69</td>\n",
       "    </tr>\n",
       "    <tr>\n",
       "      <th>291</th>\n",
       "      <td>Y</td>\n",
       "      <td>Y</td>\n",
       "      <td>Y</td>\n",
       "      <td>6.345800</td>\n",
       "      <td>0.076265</td>\n",
       "      <td>31.68</td>\n",
       "    </tr>\n",
       "    <tr>\n",
       "      <th>292</th>\n",
       "      <td>F</td>\n",
       "      <td>F</td>\n",
       "      <td>F</td>\n",
       "      <td>6.410248</td>\n",
       "      <td>0.071937</td>\n",
       "      <td>34.29</td>\n",
       "    </tr>\n",
       "    <tr>\n",
       "      <th>293</th>\n",
       "      <td>S</td>\n",
       "      <td>S</td>\n",
       "      <td>S</td>\n",
       "      <td>6.475162</td>\n",
       "      <td>0.081690</td>\n",
       "      <td>33.29</td>\n",
       "    </tr>\n",
       "    <tr>\n",
       "      <th>294</th>\n",
       "      <td>P</td>\n",
       "      <td>P</td>\n",
       "      <td>P</td>\n",
       "      <td>6.540541</td>\n",
       "      <td>0.088949</td>\n",
       "      <td>35.87</td>\n",
       "    </tr>\n",
       "    <tr>\n",
       "      <th>295</th>\n",
       "      <td>N</td>\n",
       "      <td>N</td>\n",
       "      <td>N</td>\n",
       "      <td>6.606386</td>\n",
       "      <td>0.108731</td>\n",
       "      <td>39.05</td>\n",
       "    </tr>\n",
       "    <tr>\n",
       "      <th>296</th>\n",
       "      <td>F</td>\n",
       "      <td>F</td>\n",
       "      <td>F</td>\n",
       "      <td>6.672696</td>\n",
       "      <td>0.075675</td>\n",
       "      <td>28.94</td>\n",
       "    </tr>\n",
       "    <tr>\n",
       "      <th>297</th>\n",
       "      <td>K</td>\n",
       "      <td>K</td>\n",
       "      <td>K</td>\n",
       "      <td>6.739470</td>\n",
       "      <td>0.068313</td>\n",
       "      <td>30.06</td>\n",
       "    </tr>\n",
       "    <tr>\n",
       "      <th>298</th>\n",
       "      <td>V</td>\n",
       "      <td>V</td>\n",
       "      <td>V</td>\n",
       "      <td>6.806714</td>\n",
       "      <td>0.070519</td>\n",
       "      <td>22.50</td>\n",
       "    </tr>\n",
       "    <tr>\n",
       "      <th>299</th>\n",
       "      <td>K</td>\n",
       "      <td>K</td>\n",
       "      <td>K</td>\n",
       "      <td>6.874423</td>\n",
       "      <td>0.089298</td>\n",
       "      <td>23.32</td>\n",
       "    </tr>\n",
       "    <tr>\n",
       "      <th>300</th>\n",
       "      <td>L</td>\n",
       "      <td>L</td>\n",
       "      <td>L</td>\n",
       "      <td>6.942598</td>\n",
       "      <td>0.074123</td>\n",
       "      <td>25.16</td>\n",
       "    </tr>\n",
       "    <tr>\n",
       "      <th>301</th>\n",
       "      <td>Y</td>\n",
       "      <td>Y</td>\n",
       "      <td>Y</td>\n",
       "      <td>7.011361</td>\n",
       "      <td>0.076964</td>\n",
       "      <td>28.93</td>\n",
       "    </tr>\n",
       "    <tr>\n",
       "      <th>302</th>\n",
       "      <td>F</td>\n",
       "      <td>F</td>\n",
       "      <td>F</td>\n",
       "      <td>7.080654</td>\n",
       "      <td>0.065863</td>\n",
       "      <td>30.48</td>\n",
       "    </tr>\n",
       "    <tr>\n",
       "      <th>303</th>\n",
       "      <td>T</td>\n",
       "      <td>T</td>\n",
       "      <td>T</td>\n",
       "      <td>7.151045</td>\n",
       "      <td>0.088318</td>\n",
       "      <td>34.71</td>\n",
       "    </tr>\n",
       "    <tr>\n",
       "      <th>304</th>\n",
       "      <td>K</td>\n",
       "      <td>K</td>\n",
       "      <td>K</td>\n",
       "      <td>7.230503</td>\n",
       "      <td>0.114410</td>\n",
       "      <td>57.99</td>\n",
       "    </tr>\n",
       "    <tr>\n",
       "      <th>305</th>\n",
       "      <td>T</td>\n",
       "      <td>T</td>\n",
       "      <td>T</td>\n",
       "      <td>7.325576</td>\n",
       "      <td>0.131324</td>\n",
       "      <td>74.25</td>\n",
       "    </tr>\n",
       "    <tr>\n",
       "      <th>306</th>\n",
       "      <td>V</td>\n",
       "      <td>V</td>\n",
       "      <td>V</td>\n",
       "      <td>7.449605</td>\n",
       "      <td>0.204312</td>\n",
       "      <td>81.48</td>\n",
       "    </tr>\n",
       "  </tbody>\n",
       "</table>\n",
       "<p>307 rows × 6 columns</p>\n",
       "</div>"
      ],
      "text/plain": [
       "    raptor_R mdl_R expt_R  raptor_B     mdl_B  expt_B\n",
       "0          R     R      R  7.449605  0.115443   90.39\n",
       "1          R     R      R  7.325576  0.083075   88.68\n",
       "2          Y     Y      Y  7.230503  0.075335   79.73\n",
       "3          Q     Q      Q  7.151045  0.077186   66.47\n",
       "4          E     E      E  7.080654  0.102961   63.19\n",
       "5          D     D      D  7.011361  0.130772   66.95\n",
       "6          G     G      G  6.942598  0.181336   69.94\n",
       "7          F     F      F  6.874423  0.132298   67.95\n",
       "8          D     D      D  6.806714  0.131432   61.80\n",
       "9          L     L      L  6.739470  0.075553   53.80\n",
       "10         D     D      D  6.672696  0.067448   46.47\n",
       "11         L     L      L  6.606386  0.058211   40.35\n",
       "12         T     T      T  6.540541  0.060077   38.08\n",
       "13         Y     Y      Y  6.475162  0.070148   37.29\n",
       "14         I     I      I  6.410248  0.067971   36.82\n",
       "15         Y     Y      Y  6.345800  0.102497   42.15\n",
       "16         P     P      P  6.281816  0.122328   46.53\n",
       "17         N     N      N  6.218298  0.092762   39.87\n",
       "18         I     I      I  6.155246  0.072416   35.40\n",
       "19         I     I      I  6.092659  0.068201   29.86\n",
       "20         A     A      A  6.030537  0.052910   39.49\n",
       "21         M     M      M  5.968880  0.049959   43.82\n",
       "22         G     G      G  5.907689  0.057527   43.61\n",
       "23         F     F      F  5.846963  0.054916   46.46\n",
       "24         P     P      P  5.786702  0.060509   49.74\n",
       "25         A     A      A  5.726907  0.078363   61.27\n",
       "26         E     E      E  5.667577  0.091166   82.42\n",
       "27         R     R      R  5.608713  0.124002   98.98\n",
       "28         L     L      L  5.550313  0.111112    4.10\n",
       "29         E     E      E  5.492379  0.152235    4.19\n",
       "..       ...   ...    ...       ...       ...     ...\n",
       "277        K     K      K  5.492379  0.062128   26.75\n",
       "278        N     N      N  5.550313  0.073551   29.47\n",
       "279        D     D      D  5.608713  0.064508   22.58\n",
       "280        L     L      L  5.667577  0.066003   22.53\n",
       "281        D     D      D  5.726907  0.057703   31.06\n",
       "282        K     K      K  5.786702  0.073153   27.05\n",
       "283        A     A      A  5.846963  0.059111   16.78\n",
       "284        N     N      N  5.907689  0.072154   24.63\n",
       "285        K     K      K  5.968880  0.085834   29.62\n",
       "286        D     D      D  6.030537  0.098166   31.42\n",
       "287        K     K      K  6.092659  0.105047   38.20\n",
       "288        A     A      A  6.155246  0.144803   35.15\n",
       "289        N     N      N  6.218298  0.089407   32.85\n",
       "290        R     R      R  6.281816  0.106733   36.69\n",
       "291        Y     Y      Y  6.345800  0.076265   31.68\n",
       "292        F     F      F  6.410248  0.071937   34.29\n",
       "293        S     S      S  6.475162  0.081690   33.29\n",
       "294        P     P      P  6.540541  0.088949   35.87\n",
       "295        N     N      N  6.606386  0.108731   39.05\n",
       "296        F     F      F  6.672696  0.075675   28.94\n",
       "297        K     K      K  6.739470  0.068313   30.06\n",
       "298        V     V      V  6.806714  0.070519   22.50\n",
       "299        K     K      K  6.874423  0.089298   23.32\n",
       "300        L     L      L  6.942598  0.074123   25.16\n",
       "301        Y     Y      Y  7.011361  0.076964   28.93\n",
       "302        F     F      F  7.080654  0.065863   30.48\n",
       "303        T     T      T  7.151045  0.088318   34.71\n",
       "304        K     K      K  7.230503  0.114410   57.99\n",
       "305        T     T      T  7.325576  0.131324   74.25\n",
       "306        V     V      V  7.449605  0.204312   81.48\n",
       "\n",
       "[307 rows x 6 columns]"
      ]
     },
     "execution_count": 27,
     "metadata": {},
     "output_type": "execute_result"
    }
   ],
   "source": [
    "dft"
   ]
  },
  {
   "cell_type": "code",
   "execution_count": 34,
   "metadata": {
    "collapsed": true
   },
   "outputs": [],
   "source": [
    "pdbid = exptpdbfile[0:4]"
   ]
  },
  {
   "cell_type": "code",
   "execution_count": 35,
   "metadata": {
    "collapsed": true
   },
   "outputs": [],
   "source": [
    "dft.to_csv(pdbid+'_align.csv',index=False)"
   ]
  },
  {
   "cell_type": "code",
   "execution_count": 36,
   "metadata": {
    "collapsed": false
   },
   "outputs": [
    {
     "data": {
      "text/html": [
       "<div>\n",
       "<table border=\"1\" class=\"dataframe\">\n",
       "  <thead>\n",
       "    <tr style=\"text-align: right;\">\n",
       "      <th></th>\n",
       "      <th>mdl_B</th>\n",
       "      <th>expt_B</th>\n",
       "    </tr>\n",
       "  </thead>\n",
       "  <tbody>\n",
       "    <tr>\n",
       "      <th>mdl_B</th>\n",
       "      <td>1.000000</td>\n",
       "      <td>0.589612</td>\n",
       "    </tr>\n",
       "    <tr>\n",
       "      <th>expt_B</th>\n",
       "      <td>0.589612</td>\n",
       "      <td>1.000000</td>\n",
       "    </tr>\n",
       "  </tbody>\n",
       "</table>\n",
       "</div>"
      ],
      "text/plain": [
       "           mdl_B    expt_B\n",
       "mdl_B   1.000000  0.589612\n",
       "expt_B  0.589612  1.000000"
      ]
     },
     "execution_count": 36,
     "metadata": {},
     "output_type": "execute_result"
    }
   ],
   "source": [
    "dft[['mdl_B', 'expt_B']].corr()"
   ]
  },
  {
   "cell_type": "code",
   "execution_count": 37,
   "metadata": {
    "collapsed": false
   },
   "outputs": [
    {
     "data": {
      "text/html": [
       "<div>\n",
       "<table border=\"1\" class=\"dataframe\">\n",
       "  <thead>\n",
       "    <tr style=\"text-align: right;\">\n",
       "      <th></th>\n",
       "      <th>raptor_B</th>\n",
       "      <th>mdl_B</th>\n",
       "      <th>expt_B</th>\n",
       "    </tr>\n",
       "  </thead>\n",
       "  <tbody>\n",
       "    <tr>\n",
       "      <th>raptor_B</th>\n",
       "      <td>1.000000</td>\n",
       "      <td>0.187239</td>\n",
       "      <td>0.255375</td>\n",
       "    </tr>\n",
       "    <tr>\n",
       "      <th>mdl_B</th>\n",
       "      <td>0.187239</td>\n",
       "      <td>1.000000</td>\n",
       "      <td>0.589612</td>\n",
       "    </tr>\n",
       "    <tr>\n",
       "      <th>expt_B</th>\n",
       "      <td>0.255375</td>\n",
       "      <td>0.589612</td>\n",
       "      <td>1.000000</td>\n",
       "    </tr>\n",
       "  </tbody>\n",
       "</table>\n",
       "</div>"
      ],
      "text/plain": [
       "          raptor_B     mdl_B    expt_B\n",
       "raptor_B  1.000000  0.187239  0.255375\n",
       "mdl_B     0.187239  1.000000  0.589612\n",
       "expt_B    0.255375  0.589612  1.000000"
      ]
     },
     "execution_count": 37,
     "metadata": {},
     "output_type": "execute_result"
    }
   ],
   "source": [
    "dft.dropna().corr()"
   ]
  },
  {
   "cell_type": "code",
   "execution_count": 38,
   "metadata": {
    "collapsed": false
   },
   "outputs": [
    {
     "name": "stdout",
     "output_type": "stream",
     "text": [
      "          raptor_B     mdl_B    expt_B\n",
      "raptor_B  1.000000  0.187239  0.255375\n",
      "mdl_B     0.187239  1.000000  0.589612\n",
      "expt_B    0.255375  0.589612  1.000000\n"
     ]
    }
   ],
   "source": [
    "#obtain correlation coefficients\n",
    "correl = dft[[i for i in dft.columns if '_B' in i]].dropna().corr()\n",
    "print(correl)\n",
    "correl.to_csv(exptpdbfile[0:4]+'_corr.csv') "
   ]
  },
  {
   "cell_type": "markdown",
   "metadata": {
    "collapsed": true
   },
   "source": [
    "##Make b-factor plot"
   ]
  },
  {
   "cell_type": "code",
   "execution_count": 39,
   "metadata": {
    "collapsed": false
   },
   "outputs": [
    {
     "data": {
      "text/plain": [
       "'1d5r'"
      ]
     },
     "execution_count": 39,
     "metadata": {},
     "output_type": "execute_result"
    }
   ],
   "source": [
    "pdbid"
   ]
  },
  {
   "cell_type": "code",
   "execution_count": 41,
   "metadata": {
    "collapsed": false
   },
   "outputs": [],
   "source": [
    "#prepare data for plotting\n",
    "align_csv = pdbid+'_align.csv'\n",
    "corr_csv = pdbid+'_corr.csv'\n",
    "df = pd.read_csv(align_csv)\n",
    "cf = pd.DataFrame(pd.read_csv(corr_csv))\n",
    "evfold_exp = cf.get_value(2,'expt_B')\n",
    "evfold_mdl = cf.get_value(1, 'raptor_B')\n",
    "mdl_exp = cf.get_value(2,'mdl_B')\n",
    "df = df.dropna()\n",
    "\n",
    "#make normalized b-factors for plotting \n",
    "df['EVfold_Bnorm'] = df['raptor_B']/df['raptor_B'].sum()\n",
    "df['mdl_Bnorm'] = df['mdl_B']/df['mdl_B'].sum()\n",
    "df['expt_Bnorm'] = df['expt_B']/df['expt_B'].sum()\n",
    "#for index,row in df.iterrows():\n",
    "    #print row['EVfold_B']/df['EVfold_B'].sum()"
   ]
  },
  {
   "cell_type": "code",
   "execution_count": 42,
   "metadata": {
    "collapsed": false
   },
   "outputs": [
    {
     "data": {
      "text/plain": [
       "<matplotlib.figure.Figure at 0xac848f8c>"
      ]
     },
     "metadata": {},
     "output_type": "display_data"
    },
    {
     "data": {
      "image/png": "[encoded data removed]",
      "text/plain": [
       "<matplotlib.figure.Figure at 0xac84c7ac>"
      ]
     },
     "metadata": {},
     "output_type": "display_data"
    }
   ],
   "source": [
    "#plot the b-factors for evfold, mdl, and expt\n",
    "plt.figure()  \n",
    "plt.figure(figsize=(17, 6))\n",
    "sns.set_style(\"whitegrid\")\n",
    "sns.set_context(\"poster\", font_scale=2.0)\n",
    "plt.plot(df['EVfold_Bnorm'], color='b', label='EVcouplings: '+str(round(evfold_exp,2))+', '+str(round(evfold_mdl,2)))\n",
    "plt.plot(df['mdl_Bnorm'], color='r', label='Structure: '+str(round(mdl_exp,2)))\n",
    "plt.plot(df['expt_Bnorm'], color='k', label='Experiment')\n",
    "#plt.ylim(0,0.009)\n",
    "#plt.xlim(0,pdblen)\n",
    "plt.ylabel('B-factor')\n",
    "#plt.xlabel('Residue')\n",
    "plt.title('PDB: '+pdbid.upper())\n",
    "plt.legend(fontsize=20, loc='upper center', ncol=3)\n",
    "#plt.legend(bbox_to_anchor=(1.24, 0.8), loc='right', ncol=1, fontsize=20)\n",
    "plt.tight_layout()\n",
    "plt.savefig('bfactor_'+pdbid+'.png')"
   ]
  },
  {
   "cell_type": "markdown",
   "metadata": {
    "collapsed": true
   },
   "source": [
    "##Make contact map"
   ]
  },
  {
   "cell_type": "code",
   "execution_count": 44,
   "metadata": {
    "collapsed": false
   },
   "outputs": [
    {
     "ename": "NameError",
     "evalue": "name 'labels' is not defined",
     "output_type": "error",
     "traceback": [
      "\u001b[1;31m---------------------------------------------------------------------------\u001b[0m",
      "\u001b[1;31mNameError\u001b[0m                                 Traceback (most recent call last)",
      "\u001b[1;32m<ipython-input-44-2a750b7e0042>\u001b[0m in \u001b[0;36m<module>\u001b[1;34m()\u001b[0m\n\u001b[0;32m      2\u001b[0m \u001b[0msB\u001b[0m \u001b[1;33m=\u001b[0m \u001b[0msparse\u001b[0m\u001b[1;33m.\u001b[0m\u001b[0mcsr_matrix\u001b[0m\u001b[1;33m(\u001b[0m\u001b[0mkirchhoff\u001b[0m\u001b[1;33m)\u001b[0m\u001b[1;33m\u001b[0m\u001b[0m\n\u001b[0;32m      3\u001b[0m \u001b[0mplt\u001b[0m\u001b[1;33m.\u001b[0m\u001b[0mspy\u001b[0m\u001b[1;33m(\u001b[0m\u001b[0msB\u001b[0m\u001b[1;33m,\u001b[0m \u001b[0mcolor\u001b[0m\u001b[1;33m=\u001b[0m\u001b[1;34m'r'\u001b[0m\u001b[1;33m)\u001b[0m\u001b[1;33m\u001b[0m\u001b[0m\n\u001b[1;32m----> 4\u001b[1;33m \u001b[0mplt\u001b[0m\u001b[1;33m.\u001b[0m\u001b[0msetp\u001b[0m\u001b[1;33m(\u001b[0m\u001b[0mlabels\u001b[0m\u001b[1;33m,\u001b[0m \u001b[0mrotation\u001b[0m\u001b[1;33m=\u001b[0m\u001b[1;36m90\u001b[0m\u001b[1;33m)\u001b[0m\u001b[1;33m\u001b[0m\u001b[0m\n\u001b[0m\u001b[0;32m      5\u001b[0m \u001b[0mplt\u001b[0m\u001b[1;33m.\u001b[0m\u001b[0mshow\u001b[0m\u001b[1;33m(\u001b[0m\u001b[1;33m)\u001b[0m\u001b[1;33m\u001b[0m\u001b[0m\n",
      "\u001b[1;31mNameError\u001b[0m: name 'labels' is not defined"
     ]
    },
    {
     "data": {
      "image/png": "[encoded data removed]",
      "text/plain": [
       "<matplotlib.figure.Figure at 0xac34274c>"
      ]
     },
     "metadata": {},
     "output_type": "display_data"
    }
   ],
   "source": [
    "#structure\n",
    "sB = sparse.csr_matrix(kirchhoff)\n",
    "plt.spy(sB, color='r')\n",
    "plt.setp(labels, rotation=90)\n",
    "plt.show()"
   ]
  },
  {
   "cell_type": "code",
   "execution_count": 45,
   "metadata": {
    "collapsed": false
   },
   "outputs": [
    {
     "data": {
      "image/png": "[encoded data removed]",
      "text/plain": [
       "<matplotlib.figure.Figure at 0xab983d2c>"
      ]
     },
     "metadata": {},
     "output_type": "display_data"
    }
   ],
   "source": [
    "#evolution\n",
    "sA = sparse.csr_matrix(evodkirchhoff)\n",
    "plt.spy(sA, color='b')\n",
    "plt.show()"
   ]
  },
  {
   "cell_type": "code",
   "execution_count": 46,
   "metadata": {
    "collapsed": false
   },
   "outputs": [
    {
     "data": {
      "image/png": "[encoded data removed]",
      "text/plain": [
       "<matplotlib.figure.Figure at 0xac41260c>"
      ]
     },
     "metadata": {},
     "output_type": "display_data"
    }
   ],
   "source": [
    "#combined contactmaps\n",
    "fig = plt.figure()\n",
    "\n",
    "ax1 = fig.add_subplot(121)\n",
    "ax2 = fig.add_subplot(122)\n",
    "ax1.spy(sA, markersize=6, color='b')\n",
    "ax2.spy(sB, markersize=6, color='r')\n",
    "\n",
    "fig.set_figheight(6)\n",
    "fig.set_figwidth(11)\n",
    "\n",
    "ax1.set_title('Evolution', y=-0.15)\n",
    "ax2.set_title('Structure', y=-0.15)\n",
    "\n",
    "plt.tight_layout()\n",
    "savefig('contactmaps')"
   ]
  },
  {
   "cell_type": "code",
   "execution_count": 47,
   "metadata": {
    "collapsed": false
   },
   "outputs": [
    {
     "ename": "TypeError",
     "evalue": "cannot concatenate 'str' and 'float' objects",
     "output_type": "error",
     "traceback": [
      "\u001b[1;31m---------------------------------------------------------------------------\u001b[0m",
      "\u001b[1;31mTypeError\u001b[0m                                 Traceback (most recent call last)",
      "\u001b[1;32m<ipython-input-47-0da68e2d262e>\u001b[0m in \u001b[0;36m<module>\u001b[1;34m()\u001b[0m\n\u001b[0;32m     11\u001b[0m \u001b[0max1\u001b[0m\u001b[1;33m.\u001b[0m\u001b[0mplot\u001b[0m\u001b[1;33m(\u001b[0m\u001b[0mdf\u001b[0m\u001b[1;33m[\u001b[0m\u001b[1;34m'mdl_Bnorm'\u001b[0m\u001b[1;33m]\u001b[0m\u001b[1;33m,\u001b[0m \u001b[0mcolor\u001b[0m\u001b[1;33m=\u001b[0m\u001b[1;34m'#FFA500'\u001b[0m\u001b[1;33m,\u001b[0m \u001b[0mlinewidth\u001b[0m\u001b[1;33m=\u001b[0m\u001b[1;36m2.5\u001b[0m\u001b[1;33m,\u001b[0m \u001b[0malpha\u001b[0m\u001b[1;33m=\u001b[0m\u001b[1;36m0.5\u001b[0m\u001b[1;33m,\u001b[0m \u001b[0mlabel\u001b[0m\u001b[1;33m=\u001b[0m\u001b[1;34m'Structure: '\u001b[0m\u001b[1;33m+\u001b[0m\u001b[0mstr\u001b[0m\u001b[1;33m(\u001b[0m\u001b[0mround\u001b[0m\u001b[1;33m(\u001b[0m\u001b[0mmdl_exp\u001b[0m\u001b[1;33m,\u001b[0m\u001b[1;36m2\u001b[0m\u001b[1;33m)\u001b[0m\u001b[1;33m)\u001b[0m\u001b[1;33m)\u001b[0m\u001b[1;33m\u001b[0m\u001b[0m\n\u001b[0;32m     12\u001b[0m \u001b[0max1\u001b[0m\u001b[1;33m.\u001b[0m\u001b[0mplot\u001b[0m\u001b[1;33m(\u001b[0m\u001b[0mdf\u001b[0m\u001b[1;33m[\u001b[0m\u001b[1;34m'EVfold_Bnorm'\u001b[0m\u001b[1;33m]\u001b[0m\u001b[1;33m,\u001b[0m \u001b[0mcolor\u001b[0m\u001b[1;33m=\u001b[0m\u001b[1;34m'#8A2BE2'\u001b[0m\u001b[1;33m,\u001b[0m \u001b[0mlinewidth\u001b[0m\u001b[1;33m=\u001b[0m\u001b[1;36m2.5\u001b[0m\u001b[1;33m,\u001b[0m \u001b[0malpha\u001b[0m\u001b[1;33m=\u001b[0m\u001b[1;36m0.5\u001b[0m\u001b[1;33m,\u001b[0m \u001b[0mlabel\u001b[0m\u001b[1;33m=\u001b[0m\u001b[1;34m'RaptorX: '\u001b[0m\u001b[1;33m+\u001b[0m\u001b[0mstr\u001b[0m\u001b[1;33m(\u001b[0m\u001b[0mround\u001b[0m\u001b[1;33m(\u001b[0m\u001b[0mevfold_exp\u001b[0m\u001b[1;33m,\u001b[0m\u001b[1;36m2\u001b[0m\u001b[1;33m)\u001b[0m\u001b[1;33m)\u001b[0m\u001b[1;33m+\u001b[0m\u001b[1;34m', '\u001b[0m\u001b[1;33m+\u001b[0m\u001b[0mstr\u001b[0m\u001b[1;33m(\u001b[0m\u001b[0mround\u001b[0m\u001b[1;33m(\u001b[0m\u001b[0mevfold_mdl\u001b[0m\u001b[1;33m,\u001b[0m\u001b[1;36m2\u001b[0m\u001b[1;33m)\u001b[0m\u001b[1;33m)\u001b[0m\u001b[1;33m)\u001b[0m\u001b[1;33m\u001b[0m\u001b[0m\n\u001b[1;32m---> 13\u001b[1;33m \u001b[0max1\u001b[0m\u001b[1;33m.\u001b[0m\u001b[0mset_title\u001b[0m\u001b[1;33m(\u001b[0m\u001b[1;34m'PDB: '\u001b[0m\u001b[1;33m+\u001b[0m\u001b[0mpdbid\u001b[0m\u001b[1;33m.\u001b[0m\u001b[0mupper\u001b[0m\u001b[1;33m(\u001b[0m\u001b[1;33m)\u001b[0m\u001b[1;33m+\u001b[0m\u001b[1;34m' (cutoff: '\u001b[0m\u001b[1;33m+\u001b[0m\u001b[0mthreashold\u001b[0m\u001b[1;33m+\u001b[0m\u001b[1;34m')'\u001b[0m\u001b[1;33m,\u001b[0m \u001b[0mfontsize\u001b[0m\u001b[1;33m=\u001b[0m\u001b[1;36m20\u001b[0m\u001b[1;33m)\u001b[0m\u001b[1;33m\u001b[0m\u001b[0m\n\u001b[0m\u001b[0;32m     14\u001b[0m \u001b[0max1\u001b[0m\u001b[1;33m.\u001b[0m\u001b[0mlegend\u001b[0m\u001b[1;33m(\u001b[0m\u001b[0mfontsize\u001b[0m\u001b[1;33m=\u001b[0m\u001b[1;36m16\u001b[0m\u001b[1;33m,\u001b[0m \u001b[0mloc\u001b[0m\u001b[1;33m=\u001b[0m\u001b[1;34m'upper center'\u001b[0m\u001b[1;33m,\u001b[0m \u001b[0mncol\u001b[0m\u001b[1;33m=\u001b[0m\u001b[1;36m3\u001b[0m\u001b[1;33m)\u001b[0m\u001b[1;33m\u001b[0m\u001b[0m\n\u001b[0;32m     15\u001b[0m \u001b[1;33m\u001b[0m\u001b[0m\n",
      "\u001b[1;31mTypeError\u001b[0m: cannot concatenate 'str' and 'float' objects"
     ]
    },
    {
     "data": {
      "image/png": "[encoded data removed]",
      "text/plain": [
       "<matplotlib.figure.Figure at 0xaa1ac2ac>"
      ]
     },
     "metadata": {},
     "output_type": "display_data"
    }
   ],
   "source": [
    "sns.set_style(\"whitegrid\")\n",
    "sns.set_context(\"poster\", font_scale=1.4)\n",
    "\n",
    "fig = plt.figure()\n",
    "\n",
    "ax1 = fig.add_subplot(211)\n",
    "ax2 = fig.add_subplot(223)\n",
    "ax3 = fig.add_subplot(224)\n",
    "\n",
    "ax1.plot(df['expt_Bnorm'], color='k', linewidth=2.5, label='Experiment')\n",
    "ax1.plot(df['mdl_Bnorm'], color='#FFA500', linewidth=2.5, alpha=0.5, label='Structure: '+str(round(mdl_exp,2)))\n",
    "ax1.plot(df['EVfold_Bnorm'], color='#8A2BE2', linewidth=2.5, alpha=0.5, label='RaptorX: '+str(round(evfold_exp,2))+', '+str(round(evfold_mdl,2)))\n",
    "ax1.set_title('PDB: '+pdbid.upper()+' (cutoff: '+threashold+')', fontsize=20)\n",
    "ax1.legend(fontsize=16, loc='upper center', ncol=3)\n",
    "\n",
    "ax2.spy(sA, markersize=6, color='#8A2BE2')\n",
    "ax3.spy(sB, markersize=6, color='#FFA500')\n",
    "\n",
    "fig.set_figheight(10)\n",
    "fig.set_figwidth(11)\n",
    "\n",
    "ax2.set_title('RaptorX', fontsize=25, y=-0.12)\n",
    "ax3.set_title('Structure', fontsize=25, y=-0.12)\n",
    "\n",
    "plt.tight_layout()\n",
    "savefig(pdbid+'_combinedplots')"
   ]
  },
  {
   "cell_type": "code",
   "execution_count": null,
   "metadata": {
    "collapsed": true
   },
   "outputs": [],
   "source": []
  }
 ],
 "metadata": {
  "kernelspec": {
   "display_name": "Python 2",
   "language": "python",
   "name": "python2"
  },
  "language_info": {
   "codemirror_mode": {
    "name": "ipython",
    "version": 2
   },
   "file_extension": ".py",
   "mimetype": "text/x-python",
   "name": "python",
   "nbconvert_exporter": "python",
   "pygments_lexer": "ipython2",
   "version": "2.7.6"
  }
 },
 "nbformat": 4,
 "nbformat_minor": 0
}
